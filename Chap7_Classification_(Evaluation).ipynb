{
  "nbformat": 4,
  "nbformat_minor": 0,
  "metadata": {
    "colab": {
      "name": "Chap7 Classification (Evaluation).ipynb",
      "provenance": [],
      "authorship_tag": "ABX9TyMUz+cxRujHYXXsPIzh5w3b",
      "include_colab_link": true
    },
    "kernelspec": {
      "name": "python3",
      "display_name": "Python 3"
    },
    "language_info": {
      "name": "python"
    }
  },
  "cells": [
    {
      "cell_type": "markdown",
      "metadata": {
        "id": "view-in-github",
        "colab_type": "text"
      },
      "source": [
        "<a href=\"https://colab.research.google.com/github/team0243/DWDM21/blob/main/Chap7_Classification_(Evaluation).ipynb\" target=\"_parent\"><img src=\"https://colab.research.google.com/assets/colab-badge.svg\" alt=\"Open In Colab\"/></a>"
      ]
    },
    {
      "cell_type": "markdown",
      "metadata": {
        "id": "1GNP_z76vaTL"
      },
      "source": [
        "## Load data"
      ]
    },
    {
      "cell_type": "code",
      "metadata": {
        "id": "jS8x86v9va_9"
      },
      "source": [
        "from sklearn.datasets import load_breast_cancer"
      ],
      "execution_count": 1,
      "outputs": []
    },
    {
      "cell_type": "code",
      "metadata": {
        "id": "Z1hC7L1AveB6"
      },
      "source": [
        "BC_data = load_breast_cancer()\n",
        "BC_data"
      ],
      "execution_count": null,
      "outputs": []
    },
    {
      "cell_type": "code",
      "metadata": {
        "id": "1YEcAjGdwfrO"
      },
      "source": [
        "X = BC_data['data']"
      ],
      "execution_count": 20,
      "outputs": []
    },
    {
      "cell_type": "code",
      "metadata": {
        "colab": {
          "base_uri": "https://localhost:8080/"
        },
        "id": "AK1FuLnivfFE",
        "outputId": "b5362d96-e3bb-464e-c6ea-7c528e75620b"
      },
      "source": [
        "X.shape "
      ],
      "execution_count": 4,
      "outputs": [
        {
          "output_type": "execute_result",
          "data": {
            "text/plain": [
              "(569, 30)"
            ]
          },
          "metadata": {},
          "execution_count": 4
        }
      ]
    },
    {
      "cell_type": "code",
      "metadata": {
        "id": "Dvo4h0W0vgob"
      },
      "source": [
        "y = BC_data['target']"
      ],
      "execution_count": 7,
      "outputs": []
    },
    {
      "cell_type": "code",
      "metadata": {
        "colab": {
          "base_uri": "https://localhost:8080/"
        },
        "id": "J9sek26FvhjK",
        "outputId": "8982fdb5-14c7-4229-a285-4cdf64f40e5d"
      },
      "source": [
        "y.shape "
      ],
      "execution_count": 6,
      "outputs": [
        {
          "output_type": "execute_result",
          "data": {
            "text/plain": [
              "(569,)"
            ]
          },
          "metadata": {},
          "execution_count": 6
        }
      ]
    },
    {
      "cell_type": "markdown",
      "metadata": {
        "id": "Vzzb4iB5vj4Z"
      },
      "source": [
        "## แบ่ง Data"
      ]
    },
    {
      "cell_type": "code",
      "metadata": {
        "id": "3olE-2lCvlGq"
      },
      "source": [
        "from sklearn.model_selection import train_test_split\n",
        "\n",
        "# train-test\n",
        "X_train, X_test, y_train ,y_test = train_test_split(X, y, test_size=0.5, random_state=6)\n",
        "\n",
        "# train-validation\n",
        "X_train2, X_val, y_train2, y_val = train_test_split(X_train, y_train, test_size=0.3, random_state=6)"
      ],
      "execution_count": 11,
      "outputs": []
    },
    {
      "cell_type": "markdown",
      "metadata": {
        "id": "ImuoXq27vncC"
      },
      "source": [
        "# สร้าง Model ทำนาย"
      ]
    },
    {
      "cell_type": "markdown",
      "metadata": {
        "id": "tcrvDlctvq9D"
      },
      "source": [
        "### Import"
      ]
    },
    {
      "cell_type": "code",
      "metadata": {
        "id": "2cK0AOCovr0k"
      },
      "source": [
        "from sklearn.neighbors import KNeighborsClassifier"
      ],
      "execution_count": 12,
      "outputs": []
    },
    {
      "cell_type": "markdown",
      "metadata": {
        "id": "43EiAPpBvul6"
      },
      "source": [
        "### Define"
      ]
    },
    {
      "cell_type": "code",
      "metadata": {
        "id": "YISp-zTxvzA4"
      },
      "source": [
        "# Define\n",
        "neigh3 = KNeighborsClassifier(n_neighbors=1) # เชื่อเพื่อนบ้านที่ใกล้ที่สุดคนเดียว"
      ],
      "execution_count": 13,
      "outputs": []
    },
    {
      "cell_type": "markdown",
      "metadata": {
        "id": "7LuXnJwnv038"
      },
      "source": [
        "### Train"
      ]
    },
    {
      "cell_type": "code",
      "metadata": {
        "id": "cG2ZRwNKv1gz"
      },
      "source": [
        "# Train\n",
        "neigh3.fit(X_train2,y_train2)\n",
        "# Test\n",
        "knn3_result = neigh3.predict(X_val)"
      ],
      "execution_count": 14,
      "outputs": []
    },
    {
      "cell_type": "markdown",
      "metadata": {
        "id": "z9isVVuMv3oC"
      },
      "source": [
        "### Evaluation"
      ]
    },
    {
      "cell_type": "code",
      "metadata": {
        "id": "RtvTY-TIv4oL"
      },
      "source": [
        "from sklearn.metrics import classification_report, confusion_matrix, accuracy_score"
      ],
      "execution_count": 15,
      "outputs": []
    },
    {
      "cell_type": "code",
      "metadata": {
        "colab": {
          "base_uri": "https://localhost:8080/"
        },
        "id": "LRq-bmslv54M",
        "outputId": "ad93f975-59c6-4890-aa91-6d21562036ee"
      },
      "source": [
        "accuracy_score(y_val,knn3_result)"
      ],
      "execution_count": 16,
      "outputs": [
        {
          "output_type": "execute_result",
          "data": {
            "text/plain": [
              "0.9069767441860465"
            ]
          },
          "metadata": {},
          "execution_count": 16
        }
      ]
    },
    {
      "cell_type": "code",
      "metadata": {
        "colab": {
          "base_uri": "https://localhost:8080/"
        },
        "id": "PT7uxo_xv600",
        "outputId": "7dcfb4d8-94b7-4e2d-eba8-791b462fd0b9"
      },
      "source": [
        "confusion_matrix(y_val,knn3_result) # 6 = FP (False Positive) 2 = FN(False Negative) "
      ],
      "execution_count": 17,
      "outputs": [
        {
          "output_type": "execute_result",
          "data": {
            "text/plain": [
              "array([[30,  6],\n",
              "       [ 2, 48]])"
            ]
          },
          "metadata": {},
          "execution_count": 17
        }
      ]
    },
    {
      "cell_type": "markdown",
      "metadata": {
        "id": "AntnKIrPv9qq"
      },
      "source": [
        "Precision 1 = 89% (เป็นจริงกี่ตัว) \n",
        "\n",
        "\n",
        "recall = 96% (มี 1 ทั้งหมด 96 ตัว)\n",
        "\n",
        "f1-score คือค่าเฉลี่ยระหว่าง  Precision กับ recall\n",
        "\n",
        "\n",
        "support จำนวนสมาชิกที่เป็น 1 กับ 0  \n",
        "\n",
        "macro avg เอาเลขมาเฉลี่ยกันโดยตรง\n",
        "\n",
        "weighted avg เอาถ่วงน้ำหนักมาคูณก่อนเเล้วค่อยทำการเฉลี่ย"
      ]
    }
  ]
}