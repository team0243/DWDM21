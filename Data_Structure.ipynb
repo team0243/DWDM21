{
  "nbformat": 4,
  "nbformat_minor": 0,
  "metadata": {
    "colab": {
      "name": "Data_Structure.ipynb",
      "provenance": [],
      "authorship_tag": "ABX9TyPe62WUqw435G6dU6VmbNCO",
      "include_colab_link": true
    },
    "kernelspec": {
      "name": "python3",
      "display_name": "Python 3"
    },
    "language_info": {
      "name": "python"
    }
  },
  "cells": [
    {
      "cell_type": "markdown",
      "metadata": {
        "id": "view-in-github",
        "colab_type": "text"
      },
      "source": [
        "<a href=\"https://colab.research.google.com/github/team0243/DWDM21/blob/main/Data_Structure.ipynb\" target=\"_parent\"><img src=\"https://colab.research.google.com/assets/colab-badge.svg\" alt=\"Open In Colab\"/></a>"
      ]
    },
    {
      "cell_type": "markdown",
      "source": [
        "# Data Structure(โครงสร้างข้อมูล)\n",
        "การเก็บข้อมูลหลายๆตัวไว้ด้วยกันอย่างเป็นระเบียบ"
      ],
      "metadata": {
        "id": "xGjqyJAO6Ot-"
      }
    },
    {
      "cell_type": "markdown",
      "source": [
        "##```list()```\n",
        "-  เก็บอะไรก็ได้\n",
        "-  ลำดับในการเก็บมีความสำคัญ\n"
      ],
      "metadata": {
        "id": "l63eAltn6oew"
      }
    },
    {
      "cell_type": "code",
      "source": [
        "list_a = [1,2,3,4,5,6] # [ ] เรียกว่า square brackets"
      ],
      "metadata": {
        "id": "7mFyq4T46el9"
      },
      "execution_count": 1,
      "outputs": []
    },
    {
      "cell_type": "code",
      "source": [
        "list_a "
      ],
      "metadata": {
        "colab": {
          "base_uri": "https://localhost:8080/"
        },
        "id": "HXi7Ex5-7H52",
        "outputId": "f2c30b35-6e5c-4827-e490-04df35692c72"
      },
      "execution_count": 5,
      "outputs": [
        {
          "output_type": "execute_result",
          "data": {
            "text/plain": [
              "[1, 2, 3, 4, 5, 6]"
            ]
          },
          "metadata": {},
          "execution_count": 5
        }
      ]
    },
    {
      "cell_type": "code",
      "source": [
        "list_b = ['ab',2,3.14,list_a]"
      ],
      "metadata": {
        "id": "F3rejTQE7L1Y"
      },
      "execution_count": 12,
      "outputs": []
    },
    {
      "cell_type": "code",
      "source": [
        "list_b"
      ],
      "metadata": {
        "colab": {
          "base_uri": "https://localhost:8080/"
        },
        "id": "5fyzelvF7lVW",
        "outputId": "0ad4e0ee-601d-4d54-84d6-d51f3c4955a9"
      },
      "execution_count": 13,
      "outputs": [
        {
          "output_type": "execute_result",
          "data": {
            "text/plain": [
              "['ab', 2, 3.14, [1, 2, 3, 4, 5, 6]]"
            ]
          },
          "metadata": {},
          "execution_count": 13
        }
      ]
    },
    {
      "cell_type": "markdown",
      "source": [
        "## indexing การชี้สมาชิกใน list ด้วย เลขลำดับของ list"
      ],
      "metadata": {
        "id": "IzjgLJarLt_I"
      }
    },
    {
      "cell_type": "code",
      "source": [
        "list_a[3]"
      ],
      "metadata": {
        "colab": {
          "base_uri": "https://localhost:8080/"
        },
        "id": "X1vmliWD784x",
        "outputId": "717a8e06-e274-4afe-fc6a-847ba77b572f"
      },
      "execution_count": 14,
      "outputs": [
        {
          "output_type": "execute_result",
          "data": {
            "text/plain": [
              "4"
            ]
          },
          "metadata": {},
          "execution_count": 14
        }
      ]
    },
    {
      "cell_type": "code",
      "source": [
        "list_b[3]"
      ],
      "metadata": {
        "colab": {
          "base_uri": "https://localhost:8080/"
        },
        "id": "_VBtYG6b8Lny",
        "outputId": "08b8337f-9715-4bbc-c1c8-5900b0c7c2d1"
      },
      "execution_count": 15,
      "outputs": [
        {
          "output_type": "execute_result",
          "data": {
            "text/plain": [
              "[1, 2, 3, 4, 5, 6]"
            ]
          },
          "metadata": {},
          "execution_count": 15
        }
      ]
    },
    {
      "cell_type": "code",
      "source": [
        "list_b[3][4]\n"
      ],
      "metadata": {
        "colab": {
          "base_uri": "https://localhost:8080/"
        },
        "id": "mnQmxP_T8NkM",
        "outputId": "f6562326-168a-4771-c022-fcffc9db453c"
      },
      "execution_count": 16,
      "outputs": [
        {
          "output_type": "execute_result",
          "data": {
            "text/plain": [
              "5"
            ]
          },
          "metadata": {},
          "execution_count": 16
        }
      ]
    },
    {
      "cell_type": "code",
      "source": [
        "list_a[6] # errorเพราะ ลำดับไม่มีอยู่ในลิส"
      ],
      "metadata": {
        "colab": {
          "base_uri": "https://localhost:8080/",
          "height": 166
        },
        "id": "m5HQj2bL8hbx",
        "outputId": "ccf79d9a-c0df-4da6-de50-0b553242d413"
      },
      "execution_count": 17,
      "outputs": [
        {
          "output_type": "error",
          "ename": "IndexError",
          "evalue": "ignored",
          "traceback": [
            "\u001b[0;31m---------------------------------------------------------------------------\u001b[0m",
            "\u001b[0;31mIndexError\u001b[0m                                Traceback (most recent call last)",
            "\u001b[0;32m<ipython-input-17-d6b61775e813>\u001b[0m in \u001b[0;36m<module>\u001b[0;34m()\u001b[0m\n\u001b[0;32m----> 1\u001b[0;31m \u001b[0mlist_a\u001b[0m\u001b[0;34m[\u001b[0m\u001b[0;36m6\u001b[0m\u001b[0;34m]\u001b[0m\u001b[0;34m\u001b[0m\u001b[0;34m\u001b[0m\u001b[0m\n\u001b[0m",
            "\u001b[0;31mIndexError\u001b[0m: list index out of range"
          ]
        }
      ]
    },
    {
      "cell_type": "code",
      "source": [
        "list_a[-1] # index -1 คือตัวสุดท้ายของ list"
      ],
      "metadata": {
        "id": "7qe3spJs8j9O"
      },
      "execution_count": null,
      "outputs": []
    },
    {
      "cell_type": "code",
      "source": [
        "list_a[-4]"
      ],
      "metadata": {
        "colab": {
          "base_uri": "https://localhost:8080/"
        },
        "id": "cPt78vrV97R4",
        "outputId": "1d71a011-c4d3-4333-b22a-40a659b17254"
      },
      "execution_count": 18,
      "outputs": [
        {
          "output_type": "execute_result",
          "data": {
            "text/plain": [
              "3"
            ]
          },
          "metadata": {},
          "execution_count": 18
        }
      ]
    },
    {
      "cell_type": "markdown",
      "source": [
        "### การสร้าง list()\n"
      ],
      "metadata": {
        "id": "VGLL5xkN99oo"
      }
    },
    {
      "cell_type": "code",
      "source": [
        "list_x1 = [] # แบบที่ 1\n",
        "list_x2 = list() # แบบที่ 2"
      ],
      "metadata": {
        "id": "obfyuHXR-IxP"
      },
      "execution_count": 21,
      "outputs": []
    },
    {
      "cell_type": "code",
      "source": [
        "print(list_x1)\n",
        "print(list_x2)"
      ],
      "metadata": {
        "colab": {
          "base_uri": "https://localhost:8080/"
        },
        "id": "cvzXXspy-YX8",
        "outputId": "c4409668-24e4-4e3d-f372-356539bd0aa1"
      },
      "execution_count": 22,
      "outputs": [
        {
          "output_type": "stream",
          "name": "stdout",
          "text": [
            "[]\n",
            "[]\n"
          ]
        }
      ]
    },
    {
      "cell_type": "markdown",
      "source": [
        "### เพิ่มสมาชิกเข้าไปใน list ด้วย append()"
      ],
      "metadata": {
        "id": "A3Pt-JnF-4bW"
      }
    },
    {
      "cell_type": "code",
      "source": [
        "list_x1.append(2)"
      ],
      "metadata": {
        "id": "xK7eTmTd_Bxd"
      },
      "execution_count": 23,
      "outputs": []
    },
    {
      "cell_type": "code",
      "source": [
        "list_x1"
      ],
      "metadata": {
        "colab": {
          "base_uri": "https://localhost:8080/"
        },
        "id": "Nw4rRcc5_JEn",
        "outputId": "d5a3d5f1-8cbe-4acc-87f6-9d3c39253b81"
      },
      "execution_count": 24,
      "outputs": [
        {
          "output_type": "execute_result",
          "data": {
            "text/plain": [
              "[2]"
            ]
          },
          "metadata": {},
          "execution_count": 24
        }
      ]
    },
    {
      "cell_type": "code",
      "source": [
        "list_x1.append(4)\n",
        "print(list_x1)"
      ],
      "metadata": {
        "colab": {
          "base_uri": "https://localhost:8080/"
        },
        "id": "mqY9ZLrw_PaE",
        "outputId": "ae7376de-a697-4f4f-d445-8b2b2943df45"
      },
      "execution_count": 25,
      "outputs": [
        {
          "output_type": "stream",
          "name": "stdout",
          "text": [
            "[2, 4]\n"
          ]
        }
      ]
    },
    {
      "cell_type": "code",
      "source": [
        "list_x1[0]"
      ],
      "metadata": {
        "colab": {
          "base_uri": "https://localhost:8080/"
        },
        "id": "GutUfgu__XEA",
        "outputId": "29eda52e-898d-4513-cf54-152b0628cbe7"
      },
      "execution_count": 26,
      "outputs": [
        {
          "output_type": "execute_result",
          "data": {
            "text/plain": [
              "2"
            ]
          },
          "metadata": {},
          "execution_count": 26
        }
      ]
    },
    {
      "cell_type": "code",
      "source": [
        "list_x1[-1]"
      ],
      "metadata": {
        "colab": {
          "base_uri": "https://localhost:8080/"
        },
        "id": "tzZBrSrz_cTh",
        "outputId": "7d00608d-384e-42c1-b55b-54c18311bedf"
      },
      "execution_count": 27,
      "outputs": [
        {
          "output_type": "execute_result",
          "data": {
            "text/plain": [
              "4"
            ]
          },
          "metadata": {},
          "execution_count": 27
        }
      ]
    },
    {
      "cell_type": "code",
      "source": [
        "list_x2"
      ],
      "metadata": {
        "colab": {
          "base_uri": "https://localhost:8080/"
        },
        "id": "WJ0dHDgB_ejl",
        "outputId": "7938b15e-1b69-4257-cf3a-d245a888272f"
      },
      "execution_count": 28,
      "outputs": [
        {
          "output_type": "execute_result",
          "data": {
            "text/plain": [
              "[]"
            ]
          },
          "metadata": {},
          "execution_count": 28
        }
      ]
    },
    {
      "cell_type": "code",
      "source": [
        "list_x2.append(' ha ')"
      ],
      "metadata": {
        "id": "BIYjUhAR_tSm"
      },
      "execution_count": 32,
      "outputs": []
    },
    {
      "cell_type": "code",
      "source": [
        "list_x2"
      ],
      "metadata": {
        "colab": {
          "base_uri": "https://localhost:8080/"
        },
        "id": "BYIlSm4B_1NB",
        "outputId": "ed96b4cf-0ff6-49df-b943-6fb04371756a"
      },
      "execution_count": 33,
      "outputs": [
        {
          "output_type": "execute_result",
          "data": {
            "text/plain": [
              "['ha', ' ha ']"
            ]
          },
          "metadata": {},
          "execution_count": 33
        }
      ]
    },
    {
      "cell_type": "markdown",
      "source": [
        "### ลบสมาชิกจาก list"
      ],
      "metadata": {
        "id": "BbL1usQ1AN_-"
      }
    },
    {
      "cell_type": "code",
      "source": [
        "list_x1.append(' ha ') # จารรันซ้ำ"
      ],
      "metadata": {
        "id": "W4CdZHYEB2oU"
      },
      "execution_count": 81,
      "outputs": []
    },
    {
      "cell_type": "code",
      "source": [
        "list_x1 "
      ],
      "metadata": {
        "colab": {
          "base_uri": "https://localhost:8080/"
        },
        "id": "5O2d9cAJAz1J",
        "outputId": "13e7002f-cbbb-4eb8-ba6b-3c545551828d"
      },
      "execution_count": 82,
      "outputs": [
        {
          "output_type": "execute_result",
          "data": {
            "text/plain": [
              "[' ha ']"
            ]
          },
          "metadata": {},
          "execution_count": 82
        }
      ]
    },
    {
      "cell_type": "code",
      "source": [
        "list_x1.pop()"
      ],
      "metadata": {
        "colab": {
          "base_uri": "https://localhost:8080/",
          "height": 34
        },
        "id": "6z5_AVqUA3Ke",
        "outputId": "167d3b35-3206-4108-fe9b-6b415d6f9619"
      },
      "execution_count": 83,
      "outputs": [
        {
          "output_type": "execute_result",
          "data": {
            "application/vnd.google.colaboratory.intrinsic+json": {
              "type": "string"
            },
            "text/plain": [
              "' ha '"
            ]
          },
          "metadata": {},
          "execution_count": 83
        }
      ]
    },
    {
      "cell_type": "code",
      "source": [
        "list_x1"
      ],
      "metadata": {
        "colab": {
          "base_uri": "https://localhost:8080/"
        },
        "id": "TxNVPKrAA5Ew",
        "outputId": "28e0beb0-6d9f-480c-db00-096dbd8dc731"
      },
      "execution_count": 84,
      "outputs": [
        {
          "output_type": "execute_result",
          "data": {
            "text/plain": [
              "[]"
            ]
          },
          "metadata": {},
          "execution_count": 84
        }
      ]
    },
    {
      "cell_type": "code",
      "source": [
        "list_x1.pop()\n",
        "print(list_x1)"
      ],
      "metadata": {
        "colab": {
          "base_uri": "https://localhost:8080/"
        },
        "id": "hXMCN-dJA7xm",
        "outputId": "be650de0-6c16-4787-c902-f130c7c041db"
      },
      "execution_count": 89,
      "outputs": [
        {
          "output_type": "stream",
          "name": "stdout",
          "text": [
            "[]\n"
          ]
        }
      ]
    },
    {
      "cell_type": "markdown",
      "source": [
        "### len() ตรวจสอบสมาชิกของ list"
      ],
      "metadata": {
        "id": "Bprny_8cCZp9"
      }
    },
    {
      "cell_type": "code",
      "source": [
        "print(list_b)\n",
        "print(len(list_b))"
      ],
      "metadata": {
        "colab": {
          "base_uri": "https://localhost:8080/"
        },
        "id": "lQ05s2NTCgSg",
        "outputId": "33d5a341-ffa4-444b-b498-89c7270aa3c7"
      },
      "execution_count": 90,
      "outputs": [
        {
          "output_type": "stream",
          "name": "stdout",
          "text": [
            "['ab', 2, 3.14, [1, 2, 3, 4, 5, 6]]\n",
            "4\n"
          ]
        }
      ]
    },
    {
      "cell_type": "code",
      "source": [
        "len(list_a)"
      ],
      "metadata": {
        "colab": {
          "base_uri": "https://localhost:8080/"
        },
        "id": "UyMlky9fCrKZ",
        "outputId": "fa4142cf-05fa-41e4-bb48-21314b9132cb"
      },
      "execution_count": 91,
      "outputs": [
        {
          "output_type": "execute_result",
          "data": {
            "text/plain": [
              "6"
            ]
          },
          "metadata": {},
          "execution_count": 91
        }
      ]
    },
    {
      "cell_type": "markdown",
      "source": [
        "### String is a list of characters"
      ],
      "metadata": {
        "id": "vn27qNudCw0m"
      }
    },
    {
      "cell_type": "code",
      "source": [
        "st_stat = 'Department of Statistics, Faculty of Science'"
      ],
      "metadata": {
        "id": "KOVbItsfC7Xj"
      },
      "execution_count": 96,
      "outputs": []
    },
    {
      "cell_type": "code",
      "source": [
        "st_stat [10]"
      ],
      "metadata": {
        "colab": {
          "base_uri": "https://localhost:8080/",
          "height": 34
        },
        "id": "nTgfRvmNDJwb",
        "outputId": "f5ec94d3-79ff-4e3d-9a15-bfdecf54f621"
      },
      "execution_count": 97,
      "outputs": [
        {
          "output_type": "execute_result",
          "data": {
            "application/vnd.google.colaboratory.intrinsic+json": {
              "type": "string"
            },
            "text/plain": [
              "' '"
            ]
          },
          "metadata": {},
          "execution_count": 97
        }
      ]
    },
    {
      "cell_type": "code",
      "source": [
        "len(st_stat) "
      ],
      "metadata": {
        "colab": {
          "base_uri": "https://localhost:8080/"
        },
        "id": "lgnFXUCIDMRT",
        "outputId": "b51c15b5-595d-4c6f-97b2-a11b6cec69c0"
      },
      "execution_count": 98,
      "outputs": [
        {
          "output_type": "execute_result",
          "data": {
            "text/plain": [
              "44"
            ]
          },
          "metadata": {},
          "execution_count": 98
        }
      ]
    },
    {
      "cell_type": "markdown",
      "source": [
        "### List Slicing `:`\n",
        "`list [จุดเริ่มต้น : จุดสุดท้าย]`\\\n",
        "`list [จุดเริ่มต้น : จุดสุดท้าย : step ] `\n",
        "\n",
        "![image.png](data:image/png;base64,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)"
      ],
      "metadata": {
        "id": "KTYqpn71DZSw"
      }
    },
    {
      "cell_type": "code",
      "source": [
        "list_a"
      ],
      "metadata": {
        "colab": {
          "base_uri": "https://localhost:8080/"
        },
        "id": "QcvY0T3QEKj6",
        "outputId": "9d566cd8-0f4e-4241-a82f-24bb0d35ddf4"
      },
      "execution_count": 99,
      "outputs": [
        {
          "output_type": "execute_result",
          "data": {
            "text/plain": [
              "[1, 2, 3, 4, 5, 6]"
            ]
          },
          "metadata": {},
          "execution_count": 99
        }
      ]
    },
    {
      "cell_type": "code",
      "source": [
        "list_a[2]"
      ],
      "metadata": {
        "colab": {
          "base_uri": "https://localhost:8080/"
        },
        "id": "iNjA6zLuEMfG",
        "outputId": "70ba4271-e166-4b69-ce87-26ad84964237"
      },
      "execution_count": 100,
      "outputs": [
        {
          "output_type": "execute_result",
          "data": {
            "text/plain": [
              "3"
            ]
          },
          "metadata": {},
          "execution_count": 100
        }
      ]
    },
    {
      "cell_type": "code",
      "source": [
        "list_a[-3:] # : colon"
      ],
      "metadata": {
        "colab": {
          "base_uri": "https://localhost:8080/"
        },
        "id": "GzquIrnXEO2K",
        "outputId": "94306574-4f0f-4a91-9783-309de70fd14c"
      },
      "execution_count": 101,
      "outputs": [
        {
          "output_type": "execute_result",
          "data": {
            "text/plain": [
              "[4, 5, 6]"
            ]
          },
          "metadata": {},
          "execution_count": 101
        }
      ]
    },
    {
      "cell_type": "code",
      "source": [
        "list_a[1:4] "
      ],
      "metadata": {
        "colab": {
          "base_uri": "https://localhost:8080/"
        },
        "id": "T9FmWP0WEZkD",
        "outputId": "7f3ad2f2-8631-4804-8558-bf58dff5adf4"
      },
      "execution_count": 102,
      "outputs": [
        {
          "output_type": "execute_result",
          "data": {
            "text/plain": [
              "[2, 3, 4]"
            ]
          },
          "metadata": {},
          "execution_count": 102
        }
      ]
    },
    {
      "cell_type": "code",
      "source": [
        "list_a[:] "
      ],
      "metadata": {
        "id": "aEIuPGt4GF_E"
      },
      "execution_count": null,
      "outputs": []
    },
    {
      "cell_type": "markdown",
      "source": [
        "### step"
      ],
      "metadata": {
        "id": "Vw45TAqQG_wy"
      }
    },
    {
      "cell_type": "code",
      "source": [
        "list_c =[1,2,3,4,5,6,7,8,9,10,11,12,13]"
      ],
      "metadata": {
        "id": "__TEYxzTHCHz"
      },
      "execution_count": 104,
      "outputs": []
    },
    {
      "cell_type": "code",
      "source": [
        "list_c[:10:]"
      ],
      "metadata": {
        "colab": {
          "base_uri": "https://localhost:8080/"
        },
        "id": "_f4_Mz5LHIJ6",
        "outputId": "4b9d7724-8f8a-4d4b-bb29-99a61ab43a32"
      },
      "execution_count": 106,
      "outputs": [
        {
          "output_type": "execute_result",
          "data": {
            "text/plain": [
              "[1, 2, 3, 4, 5, 6, 7, 8, 9, 10]"
            ]
          },
          "metadata": {},
          "execution_count": 106
        }
      ]
    },
    {
      "cell_type": "code",
      "source": [
        "list_c[:10:2] # กระโดด 2 ขั้น"
      ],
      "metadata": {
        "colab": {
          "base_uri": "https://localhost:8080/"
        },
        "id": "gSlIGb8lHM9Y",
        "outputId": "51f3ac7e-0ef4-4fc6-ed27-f4d45ac9b977"
      },
      "execution_count": 107,
      "outputs": [
        {
          "output_type": "execute_result",
          "data": {
            "text/plain": [
              "[1, 3, 5, 7, 9]"
            ]
          },
          "metadata": {},
          "execution_count": 107
        }
      ]
    },
    {
      "cell_type": "code",
      "source": [
        "list_c[:-1:] # สเตป -1 วิ่งจาก หลังไปหน้า"
      ],
      "metadata": {
        "colab": {
          "base_uri": "https://localhost:8080/"
        },
        "id": "eU7BHI_jHUUe",
        "outputId": "1bd60731-50a4-4348-8146-1d9a26ca8e4e"
      },
      "execution_count": 108,
      "outputs": [
        {
          "output_type": "execute_result",
          "data": {
            "text/plain": [
              "[1, 2, 3, 4, 5, 6, 7, 8, 9, 10, 11, 12]"
            ]
          },
          "metadata": {},
          "execution_count": 108
        }
      ]
    },
    {
      "cell_type": "markdown",
      "source": [
        "### range()"
      ],
      "metadata": {
        "id": "HjnU4nrlH973"
      }
    },
    {
      "cell_type": "code",
      "source": [
        "range(21)"
      ],
      "metadata": {
        "colab": {
          "base_uri": "https://localhost:8080/"
        },
        "id": "EV2uOgCcIT_s",
        "outputId": "fa80993e-1993-4d73-cff3-eb6c92f9b1ef"
      },
      "execution_count": 109,
      "outputs": [
        {
          "output_type": "execute_result",
          "data": {
            "text/plain": [
              "range(0, 21)"
            ]
          },
          "metadata": {},
          "execution_count": 109
        }
      ]
    },
    {
      "cell_type": "code",
      "source": [
        "a = list(range(21))"
      ],
      "metadata": {
        "id": "BATaNIRmIJKB"
      },
      "execution_count": 110,
      "outputs": []
    },
    {
      "cell_type": "code",
      "source": [
        "a"
      ],
      "metadata": {
        "colab": {
          "base_uri": "https://localhost:8080/"
        },
        "id": "wWYQVMIaIXNS",
        "outputId": "8ffb8b08-a8d3-456f-d46f-737687c1f9df"
      },
      "execution_count": 111,
      "outputs": [
        {
          "output_type": "execute_result",
          "data": {
            "text/plain": [
              "[0, 1, 2, 3, 4, 5, 6, 7, 8, 9, 10, 11, 12, 13, 14, 15, 16, 17, 18, 19, 20]"
            ]
          },
          "metadata": {},
          "execution_count": 111
        }
      ]
    },
    {
      "cell_type": "code",
      "source": [
        "list(range(1,21))"
      ],
      "metadata": {
        "colab": {
          "base_uri": "https://localhost:8080/"
        },
        "id": "2u21clBcIXlF",
        "outputId": "c1ad8040-a04e-4af9-e952-600d62f155f9"
      },
      "execution_count": 114,
      "outputs": [
        {
          "output_type": "execute_result",
          "data": {
            "text/plain": [
              "[1, 2, 3, 4, 5, 6, 7, 8, 9, 10, 11, 12, 13, 14, 15, 16, 17, 18, 19, 20]"
            ]
          },
          "metadata": {},
          "execution_count": 114
        }
      ]
    },
    {
      "cell_type": "markdown",
      "source": [
        "###HW2 คำนวณเวลาเป็นวินาทีของเวลาต่อไปนี้โดยใช้คำสั่ง split() ช่วย print ออกมาให้สวยงาม\n",
        "`      \n",
        "12:30:15\\\n",
        "13:41:07\\\n",
        " 09:11:50\\\n",
        "21:30:15\\\n",
        "03:10:15\n",
        "\n",
        "   `  "
      ],
      "metadata": {
        "id": "71TUfPKQJGPK"
      }
    },
    {
      "cell_type": "code",
      "source": [
        ""
      ],
      "metadata": {
        "id": "yRSct0eeJg02"
      },
      "execution_count": null,
      "outputs": []
    }
  ]
}