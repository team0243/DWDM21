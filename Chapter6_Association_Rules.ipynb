{
  "nbformat": 4,
  "nbformat_minor": 0,
  "metadata": {
    "colab": {
      "name": "Chapter6 Association Rules.ipynb",
      "provenance": [],
      "authorship_tag": "ABX9TyOpFkvUy6i4ex8/oXZk1Vcq",
      "include_colab_link": true
    },
    "kernelspec": {
      "name": "python3",
      "display_name": "Python 3"
    },
    "language_info": {
      "name": "python"
    }
  },
  "cells": [
    {
      "cell_type": "markdown",
      "metadata": {
        "id": "view-in-github",
        "colab_type": "text"
      },
      "source": [
        "<a href=\"https://colab.research.google.com/github/team0243/DWDM21/blob/main/Chapter6_Association_Rules.ipynb\" target=\"_parent\"><img src=\"https://colab.research.google.com/assets/colab-badge.svg\" alt=\"Open In Colab\"/></a>"
      ]
    },
    {
      "cell_type": "code",
      "metadata": {
        "id": "5HxTcR8q4Nyv"
      },
      "source": [
        "import pandas as pd\n",
        "import os"
      ],
      "execution_count": null,
      "outputs": []
    },
    {
      "cell_type": "code",
      "metadata": {
        "id": "wwmnTltr4QKQ"
      },
      "source": [
        "from google.colab import drive\n",
        "drive.mount ('/content/drive')\n",
        "path = '/content/drive/My Drive/DWDM2021_DATA'"
      ],
      "execution_count": null,
      "outputs": []
    },
    {
      "cell_type": "code",
      "metadata": {
        "id": "lHLEsHy_4SJ1"
      },
      "source": [
        "data = pd.read_csv(os.path.join(path,'reduced_marketbasket.csv'),encoding='latin1') #ตอนแรกมัน error ถ้าอยากแก้ไขก็เอาคำใน error ไปเ search ในเน็ต"
      ],
      "execution_count": null,
      "outputs": []
    },
    {
      "cell_type": "code",
      "metadata": {
        "id": "Q46NDP8G4TYu"
      },
      "source": [
        "data"
      ],
      "execution_count": null,
      "outputs": []
    },
    {
      "cell_type": "markdown",
      "metadata": {
        "id": "qqflLEei4Yth"
      },
      "source": [
        "[Q] มีประเทศสาขาของ supermarket นี้ทั้งหมดกี่ประเทศ\n",
        "\n",
        "1.   รายการในลิสต์\n",
        "2.   รายการในลิสต์\n",
        "\n"
      ]
    },
    {
      "cell_type": "code",
      "metadata": {
        "id": "XvIt9EcN4ZRl"
      },
      "source": [
        "set(data['Country'])"
      ],
      "execution_count": null,
      "outputs": []
    },
    {
      "cell_type": "code",
      "metadata": {
        "id": "PSLDtlL24iaF"
      },
      "source": [
        "len(set(data['Country']))"
      ],
      "execution_count": null,
      "outputs": []
    }
  ]
}