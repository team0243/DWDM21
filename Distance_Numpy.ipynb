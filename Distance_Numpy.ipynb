{
  "nbformat": 4,
  "nbformat_minor": 0,
  "metadata": {
    "colab": {
      "name": "Distance_Numpy.ipynb",
      "provenance": [],
      "mount_file_id": "https://github.com/team0243/DWDM21/blob/main/Distance_Numpy.ipynb",
      "authorship_tag": "ABX9TyO+h7UNXgshAWqzPLE5xnf5",
      "include_colab_link": true
    },
    "kernelspec": {
      "name": "python3",
      "display_name": "Python 3"
    },
    "language_info": {
      "name": "python"
    }
  },
  "cells": [
    {
      "cell_type": "markdown",
      "metadata": {
        "id": "view-in-github",
        "colab_type": "text"
      },
      "source": [
        "<a href=\"https://colab.research.google.com/github/team0243/DWDM21/blob/main/Distance_Numpy.ipynb\" target=\"_parent\"><img src=\"https://colab.research.google.com/assets/colab-badge.svg\" alt=\"Open In Colab\"/></a>"
      ]
    },
    {
      "cell_type": "code",
      "metadata": {
        "id": "fkGwdNgxZVbW"
      },
      "source": [
        "import numpy as np # package สำหรับทำงานกับ ข้อมูลที่เป็นตัวเลข (อยู่ในรูปแบบ matrix)"
      ],
      "execution_count": 2,
      "outputs": []
    },
    {
      "cell_type": "code",
      "metadata": {
        "id": "NUCKbEZKZQtc",
        "colab": {
          "base_uri": "https://localhost:8080/"
        },
        "outputId": "212d8ae7-aa5e-4c50-ee72-16b3587d1448"
      },
      "source": [
        "from google.colab import drive\n",
        "drive.mount('/content/drive')"
      ],
      "execution_count": 3,
      "outputs": [
        {
          "output_type": "stream",
          "name": "stdout",
          "text": [
            "Drive already mounted at /content/drive; to attempt to forcibly remount, call drive.mount(\"/content/drive\", force_remount=True).\n"
          ]
        }
      ]
    },
    {
      "cell_type": "markdown",
      "metadata": {
        "id": "N6euvY1tZexo"
      },
      "source": [
        "# Numpy Array"
      ]
    },
    {
      "cell_type": "markdown",
      "metadata": {
        "id": "Dzmza9K8Zg_W"
      },
      "source": [
        "## สร้าง numpy array (matrix) จาก list"
      ]
    },
    {
      "cell_type": "code",
      "metadata": {
        "id": "lgA91rEJZjD0"
      },
      "source": [
        "np_a = np.array([[1,2,3],[4,5,6]]) #สร้าง numpy array ที่มี 2 แถว 3 หลัก"
      ],
      "execution_count": 4,
      "outputs": []
    },
    {
      "cell_type": "code",
      "metadata": {
        "colab": {
          "base_uri": "https://localhost:8080/"
        },
        "id": "DkYInO5mZkEV",
        "outputId": "211b8432-2300-41ca-87c9-5832f3568679"
      },
      "source": [
        "np_a"
      ],
      "execution_count": 5,
      "outputs": [
        {
          "output_type": "execute_result",
          "data": {
            "text/plain": [
              "array([[1, 2, 3],\n",
              "       [4, 5, 6]])"
            ]
          },
          "metadata": {},
          "execution_count": 5
        }
      ]
    },
    {
      "cell_type": "code",
      "metadata": {
        "colab": {
          "base_uri": "https://localhost:8080/"
        },
        "id": "qp6v725vZlTG",
        "outputId": "71c5b8fb-1cf0-4bfd-bf6a-2369321976ba"
      },
      "source": [
        "np_a.shape"
      ],
      "execution_count": 6,
      "outputs": [
        {
          "output_type": "execute_result",
          "data": {
            "text/plain": [
              "(2, 3)"
            ]
          },
          "metadata": {},
          "execution_count": 6
        }
      ]
    },
    {
      "cell_type": "code",
      "metadata": {
        "colab": {
          "base_uri": "https://localhost:8080/"
        },
        "id": "WmFe1YIOZmbF",
        "outputId": "c24b92d7-4a30-458a-c072-8a4b20c0650e"
      },
      "source": [
        "np_b = np.array([[1,4],[2,5],[3,6]])\n",
        "np_b"
      ],
      "execution_count": 7,
      "outputs": [
        {
          "output_type": "execute_result",
          "data": {
            "text/plain": [
              "array([[1, 4],\n",
              "       [2, 5],\n",
              "       [3, 6]])"
            ]
          },
          "metadata": {},
          "execution_count": 7
        }
      ]
    },
    {
      "cell_type": "markdown",
      "metadata": {
        "id": "tFuaQg9yZq5u"
      },
      "source": [
        "## สร้าง matrix เริ่มต้น (zeros, ones)"
      ]
    },
    {
      "cell_type": "code",
      "metadata": {
        "colab": {
          "base_uri": "https://localhost:8080/"
        },
        "id": "p_00dPxOZqE4",
        "outputId": "872cbf91-7218-4bea-c2d7-427f3c70e921"
      },
      "source": [
        "np_z = np.zeros((4,5))\n",
        "np_z"
      ],
      "execution_count": 8,
      "outputs": [
        {
          "output_type": "execute_result",
          "data": {
            "text/plain": [
              "array([[0., 0., 0., 0., 0.],\n",
              "       [0., 0., 0., 0., 0.],\n",
              "       [0., 0., 0., 0., 0.],\n",
              "       [0., 0., 0., 0., 0.]])"
            ]
          },
          "metadata": {},
          "execution_count": 8
        }
      ]
    },
    {
      "cell_type": "code",
      "metadata": {
        "colab": {
          "base_uri": "https://localhost:8080/"
        },
        "id": "dw8i302ZZsh3",
        "outputId": "98aeee5f-ab09-4192-cb49-02ec76a44dd9"
      },
      "source": [
        "np_o = np.ones((5,6))\n",
        "np_o"
      ],
      "execution_count": 9,
      "outputs": [
        {
          "output_type": "execute_result",
          "data": {
            "text/plain": [
              "array([[1., 1., 1., 1., 1., 1.],\n",
              "       [1., 1., 1., 1., 1., 1.],\n",
              "       [1., 1., 1., 1., 1., 1.],\n",
              "       [1., 1., 1., 1., 1., 1.],\n",
              "       [1., 1., 1., 1., 1., 1.]])"
            ]
          },
          "metadata": {},
          "execution_count": 9
        }
      ]
    },
    {
      "cell_type": "code",
      "metadata": {
        "colab": {
          "base_uri": "https://localhost:8080/"
        },
        "id": "rIK55mHkZuaX",
        "outputId": "c39e9011-a1a0-44bd-8bfa-bb94562f908f"
      },
      "source": [
        "np_200 = 200 * np.ones((4,7))\n",
        "np_200"
      ],
      "execution_count": 10,
      "outputs": [
        {
          "output_type": "execute_result",
          "data": {
            "text/plain": [
              "array([[200., 200., 200., 200., 200., 200., 200.],\n",
              "       [200., 200., 200., 200., 200., 200., 200.],\n",
              "       [200., 200., 200., 200., 200., 200., 200.],\n",
              "       [200., 200., 200., 200., 200., 200., 200.]])"
            ]
          },
          "metadata": {},
          "execution_count": 10
        }
      ]
    },
    {
      "cell_type": "markdown",
      "metadata": {
        "id": "kvFSuRF6Zv43"
      },
      "source": [
        "## สร้าง matrix random"
      ]
    },
    {
      "cell_type": "code",
      "metadata": {
        "colab": {
          "base_uri": "https://localhost:8080/"
        },
        "id": "u_qG1mL6ZxKA",
        "outputId": "ed622d72-f538-4b59-c10c-e641fbdd87a3"
      },
      "source": [
        "np.random.randn(5,5) # random เลขมาจาก normal distribution ที่มี mu=0 std=1"
      ],
      "execution_count": 11,
      "outputs": [
        {
          "output_type": "execute_result",
          "data": {
            "text/plain": [
              "array([[-0.61963617,  2.20574051,  0.59927032, -1.49726561,  0.00805419],\n",
              "       [ 0.9919243 , -1.1328227 ,  0.55079901, -1.15866447,  0.42536937],\n",
              "       [-0.15255992,  0.94341072,  0.74110661,  0.15112704, -0.00661525],\n",
              "       [ 1.16160053, -1.33668257, -0.57799442, -0.01092174,  0.40646963],\n",
              "       [-1.78171659, -0.96867438,  0.75725002,  1.75381236,  1.03515671]])"
            ]
          },
          "metadata": {},
          "execution_count": 11
        }
      ]
    },
    {
      "cell_type": "code",
      "metadata": {
        "colab": {
          "base_uri": "https://localhost:8080/"
        },
        "id": "cBR77wVRZyqG",
        "outputId": "a9eae25e-90c3-4ef7-f2e8-e276c47022d7"
      },
      "source": [
        "2+(5*np.random.randn(3,3)) # random เลขมาจาก normal distribution ที่มี mu=2 std=5"
      ],
      "execution_count": 12,
      "outputs": [
        {
          "output_type": "execute_result",
          "data": {
            "text/plain": [
              "array([[ 4.98930355,  8.67631095,  1.32133916],\n",
              "       [-1.60972978,  4.4453626 , -2.45119415],\n",
              "       [ 2.27191096, -8.80822475, -1.84338278]])"
            ]
          },
          "metadata": {},
          "execution_count": 12
        }
      ]
    },
    {
      "cell_type": "code",
      "metadata": {
        "colab": {
          "base_uri": "https://localhost:8080/"
        },
        "id": "YvCp9jD1Z0Fe",
        "outputId": "4e24600c-878f-40d3-ca77-56b74f0decd6"
      },
      "source": [
        "np.random.randint(5,11,(4,5)) # random เลขจำนวนเต็ม ระหว่าง [5,11) ขนาด (4x5)### matrix properties"
      ],
      "execution_count": 13,
      "outputs": [
        {
          "output_type": "execute_result",
          "data": {
            "text/plain": [
              "array([[ 7,  9,  5,  6,  9],\n",
              "       [ 5, 10,  8,  8,  6],\n",
              "       [ 5,  7, 10,  7, 10],\n",
              "       [ 6,  6,  5,  8,  5]])"
            ]
          },
          "metadata": {},
          "execution_count": 13
        }
      ]
    },
    {
      "cell_type": "markdown",
      "metadata": {
        "id": "KxezTX1BZ7XL"
      },
      "source": [
        "### matrix properties"
      ]
    },
    {
      "cell_type": "code",
      "metadata": {
        "colab": {
          "base_uri": "https://localhost:8080/"
        },
        "id": "yIDS2PkEZ1V_",
        "outputId": "40c6dde0-2ede-4494-f1c4-c178ee3990d0"
      },
      "source": [
        "np_a"
      ],
      "execution_count": 14,
      "outputs": [
        {
          "output_type": "execute_result",
          "data": {
            "text/plain": [
              "array([[1, 2, 3],\n",
              "       [4, 5, 6]])"
            ]
          },
          "metadata": {},
          "execution_count": 14
        }
      ]
    },
    {
      "cell_type": "code",
      "metadata": {
        "colab": {
          "base_uri": "https://localhost:8080/"
        },
        "id": "3zCfn6bDZ-Tb",
        "outputId": "7104a918-9907-4451-e1c1-ea7b2f3011e9"
      },
      "source": [
        "np_a.T  #transpose"
      ],
      "execution_count": 15,
      "outputs": [
        {
          "output_type": "execute_result",
          "data": {
            "text/plain": [
              "array([[1, 4],\n",
              "       [2, 5],\n",
              "       [3, 6]])"
            ]
          },
          "metadata": {},
          "execution_count": 15
        }
      ]
    },
    {
      "cell_type": "code",
      "metadata": {
        "colab": {
          "base_uri": "https://localhost:8080/"
        },
        "id": "Ri__JC-EZ_d-",
        "outputId": "a3c8061c-a6ea-423a-d66a-42501d853d88"
      },
      "source": [
        "1 + np_a  #adding scalar to matrix"
      ],
      "execution_count": 16,
      "outputs": [
        {
          "output_type": "execute_result",
          "data": {
            "text/plain": [
              "array([[2, 3, 4],\n",
              "       [5, 6, 7]])"
            ]
          },
          "metadata": {},
          "execution_count": 16
        }
      ]
    },
    {
      "cell_type": "code",
      "metadata": {
        "colab": {
          "base_uri": "https://localhost:8080/"
        },
        "id": "9SMxN1e3aAce",
        "outputId": "83336122-bea7-4373-859c-5c365b36241a"
      },
      "source": [
        "2 * np_a  #multipling scalar to matrix"
      ],
      "execution_count": 17,
      "outputs": [
        {
          "output_type": "execute_result",
          "data": {
            "text/plain": [
              "array([[ 2,  4,  6],\n",
              "       [ 8, 10, 12]])"
            ]
          },
          "metadata": {},
          "execution_count": 17
        }
      ]
    },
    {
      "cell_type": "code",
      "metadata": {
        "colab": {
          "base_uri": "https://localhost:8080/"
        },
        "id": "e9laGjDYaBkf",
        "outputId": "e62f99a9-dd21-41db-a379-15b30a04f2bf"
      },
      "source": [
        "np_c = np.array([[6,5,4],[3,2,1]])\n",
        "np_c"
      ],
      "execution_count": 18,
      "outputs": [
        {
          "output_type": "execute_result",
          "data": {
            "text/plain": [
              "array([[6, 5, 4],\n",
              "       [3, 2, 1]])"
            ]
          },
          "metadata": {},
          "execution_count": 18
        }
      ]
    },
    {
      "cell_type": "code",
      "metadata": {
        "colab": {
          "base_uri": "https://localhost:8080/"
        },
        "id": "xnnfArJzaC6w",
        "outputId": "6ed25b74-ba3e-4336-b676-38fe1a3c7861"
      },
      "source": [
        "np_a + np_c  #adding matrix to matrix"
      ],
      "execution_count": 19,
      "outputs": [
        {
          "output_type": "execute_result",
          "data": {
            "text/plain": [
              "array([[7, 7, 7],\n",
              "       [7, 7, 7]])"
            ]
          },
          "metadata": {},
          "execution_count": 19
        }
      ]
    },
    {
      "cell_type": "code",
      "metadata": {
        "colab": {
          "base_uri": "https://localhost:8080/"
        },
        "id": "hnjT91VxaD3H",
        "outputId": "256909b4-7c80-44de-ad63-ac65ef9d67ce"
      },
      "source": [
        "np_a.shape"
      ],
      "execution_count": 20,
      "outputs": [
        {
          "output_type": "execute_result",
          "data": {
            "text/plain": [
              "(2, 3)"
            ]
          },
          "metadata": {},
          "execution_count": 20
        }
      ]
    },
    {
      "cell_type": "code",
      "metadata": {
        "colab": {
          "base_uri": "https://localhost:8080/"
        },
        "id": "_-QnZSaCaE3_",
        "outputId": "c2eb0d7c-1064-4b77-c589-1744e0bbca8d"
      },
      "source": [
        "np_c.shape"
      ],
      "execution_count": 21,
      "outputs": [
        {
          "output_type": "execute_result",
          "data": {
            "text/plain": [
              "(2, 3)"
            ]
          },
          "metadata": {},
          "execution_count": 21
        }
      ]
    },
    {
      "cell_type": "code",
      "metadata": {
        "colab": {
          "base_uri": "https://localhost:8080/"
        },
        "id": "gWBp6JLgaGGI",
        "outputId": "18432c30-e695-4801-f780-068e6f336c33"
      },
      "source": [
        "np_c.T.shape"
      ],
      "execution_count": 22,
      "outputs": [
        {
          "output_type": "execute_result",
          "data": {
            "text/plain": [
              "(3, 2)"
            ]
          },
          "metadata": {},
          "execution_count": 22
        }
      ]
    },
    {
      "cell_type": "markdown",
      "metadata": {
        "id": "5SGmDZUzaKEg"
      },
      "source": [
        "![VectorsandMatrices.PNG](data:image/png;base64,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)"
      ]
    },
    {
      "cell_type": "code",
      "metadata": {
        "colab": {
          "base_uri": "https://localhost:8080/"
        },
        "id": "tRkQ-zbTaK5E",
        "outputId": "16694a5c-a90d-482a-97e1-f694f0466aaa"
      },
      "source": [
        "np.dot(np_a,np_c.T)  #multipling matrix to matrix   (a,b) x (b,c) = (a,c)"
      ],
      "execution_count": 23,
      "outputs": [
        {
          "output_type": "execute_result",
          "data": {
            "text/plain": [
              "array([[28, 10],\n",
              "       [73, 28]])"
            ]
          },
          "metadata": {},
          "execution_count": 23
        }
      ]
    },
    {
      "cell_type": "markdown",
      "metadata": {
        "id": "bGNj9_7DaN-E"
      },
      "source": [
        "## Indexing & Slicing"
      ]
    },
    {
      "cell_type": "code",
      "metadata": {
        "colab": {
          "base_uri": "https://localhost:8080/"
        },
        "id": "kjoxvXNvaPJp",
        "outputId": "51fa3ad7-57bf-4b79-fe8d-864e7e0c011b"
      },
      "source": [
        "np_a"
      ],
      "execution_count": 24,
      "outputs": [
        {
          "output_type": "execute_result",
          "data": {
            "text/plain": [
              "array([[1, 2, 3],\n",
              "       [4, 5, 6]])"
            ]
          },
          "metadata": {},
          "execution_count": 24
        }
      ]
    },
    {
      "cell_type": "code",
      "metadata": {
        "colab": {
          "base_uri": "https://localhost:8080/"
        },
        "id": "rPA8CHvEaQYw",
        "outputId": "86b0eb65-59f5-49fc-dd53-09c5eb3e68fe"
      },
      "source": [
        "np_a[1,1] "
      ],
      "execution_count": 25,
      "outputs": [
        {
          "output_type": "execute_result",
          "data": {
            "text/plain": [
              "5"
            ]
          },
          "metadata": {},
          "execution_count": 25
        }
      ]
    },
    {
      "cell_type": "code",
      "metadata": {
        "colab": {
          "base_uri": "https://localhost:8080/"
        },
        "id": "llxFYMezaViB",
        "outputId": "b47d8650-6a9a-4072-96be-fe0c4410b8cb"
      },
      "source": [
        "np_a[:2,:2]"
      ],
      "execution_count": 26,
      "outputs": [
        {
          "output_type": "execute_result",
          "data": {
            "text/plain": [
              "array([[1, 2],\n",
              "       [4, 5]])"
            ]
          },
          "metadata": {},
          "execution_count": 26
        }
      ]
    },
    {
      "cell_type": "code",
      "metadata": {
        "colab": {
          "base_uri": "https://localhost:8080/"
        },
        "id": "P4eiQ25zaWiK",
        "outputId": "b972271d-4c2a-4e12-9efe-09b05e63f589"
      },
      "source": [
        "np_a[0,:]"
      ],
      "execution_count": 27,
      "outputs": [
        {
          "output_type": "execute_result",
          "data": {
            "text/plain": [
              "array([1, 2, 3])"
            ]
          },
          "metadata": {},
          "execution_count": 27
        }
      ]
    },
    {
      "cell_type": "markdown",
      "metadata": {
        "id": "PPaHZJLMaX1w"
      },
      "source": [
        "## Useful functions"
      ]
    },
    {
      "cell_type": "code",
      "metadata": {
        "colab": {
          "base_uri": "https://localhost:8080/"
        },
        "id": "qxt-y4huaakg",
        "outputId": "aac3c684-0443-4b35-eae5-b5969f9dca4f"
      },
      "source": [
        "np_a"
      ],
      "execution_count": 28,
      "outputs": [
        {
          "output_type": "execute_result",
          "data": {
            "text/plain": [
              "array([[1, 2, 3],\n",
              "       [4, 5, 6]])"
            ]
          },
          "metadata": {},
          "execution_count": 28
        }
      ]
    },
    {
      "cell_type": "code",
      "metadata": {
        "colab": {
          "base_uri": "https://localhost:8080/"
        },
        "id": "SHk-7J4aabk4",
        "outputId": "870e2ee6-7177-4703-df1b-1b0ceec65da4"
      },
      "source": [
        "np.sum(np_a)"
      ],
      "execution_count": 29,
      "outputs": [
        {
          "output_type": "execute_result",
          "data": {
            "text/plain": [
              "21"
            ]
          },
          "metadata": {},
          "execution_count": 29
        }
      ]
    },
    {
      "cell_type": "code",
      "metadata": {
        "colab": {
          "base_uri": "https://localhost:8080/"
        },
        "id": "Z1mLblT8ac0s",
        "outputId": "e7668ec2-6fa2-4f14-9ebe-8b23eb6e8246"
      },
      "source": [
        "np.sum(np_a,axis=0)  # axis 0 ก็คือรวมเลขในแต่ละแถว"
      ],
      "execution_count": 30,
      "outputs": [
        {
          "output_type": "execute_result",
          "data": {
            "text/plain": [
              "array([5, 7, 9])"
            ]
          },
          "metadata": {},
          "execution_count": 30
        }
      ]
    },
    {
      "cell_type": "code",
      "metadata": {
        "colab": {
          "base_uri": "https://localhost:8080/"
        },
        "id": "FgEDJC3gad45",
        "outputId": "39142835-5e9a-4710-bc00-5ea621a0ff40"
      },
      "source": [
        "np.sum(np_a,axis=1)  # axis 1 ก็คือรวมเลขในแต่ละหลัก"
      ],
      "execution_count": 31,
      "outputs": [
        {
          "output_type": "execute_result",
          "data": {
            "text/plain": [
              "array([ 6, 15])"
            ]
          },
          "metadata": {},
          "execution_count": 31
        }
      ]
    },
    {
      "cell_type": "code",
      "metadata": {
        "colab": {
          "base_uri": "https://localhost:8080/"
        },
        "id": "L3gOd4Rgaezg",
        "outputId": "9a43a46f-50a3-4f56-88e9-44887e45ac0d"
      },
      "source": [
        "np.mean(np_a)"
      ],
      "execution_count": 32,
      "outputs": [
        {
          "output_type": "execute_result",
          "data": {
            "text/plain": [
              "3.5"
            ]
          },
          "metadata": {},
          "execution_count": 32
        }
      ]
    },
    {
      "cell_type": "code",
      "metadata": {
        "colab": {
          "base_uri": "https://localhost:8080/"
        },
        "id": "LMdHQsz5af55",
        "outputId": "985df96d-fd92-45c2-9f94-c94de0ff655b"
      },
      "source": [
        "np.mean(np_a,axis=0)  #หา mean ของ column"
      ],
      "execution_count": 33,
      "outputs": [
        {
          "output_type": "execute_result",
          "data": {
            "text/plain": [
              "array([2.5, 3.5, 4.5])"
            ]
          },
          "metadata": {},
          "execution_count": 33
        }
      ]
    },
    {
      "cell_type": "markdown",
      "metadata": {
        "id": "evIFZIyGaiQz"
      },
      "source": [
        "## วนลูปเอง"
      ]
    },
    {
      "cell_type": "markdown",
      "metadata": {
        "id": "Y-lGJlJ3ajy9"
      },
      "source": [
        "#### summation"
      ]
    },
    {
      "cell_type": "code",
      "metadata": {
        "colab": {
          "base_uri": "https://localhost:8080/"
        },
        "id": "ZoCDkd0PanDx",
        "outputId": "377c48f6-308d-4774-8689-db726a135b19"
      },
      "source": [
        "np_a.shape"
      ],
      "execution_count": 34,
      "outputs": [
        {
          "output_type": "execute_result",
          "data": {
            "text/plain": [
              "(2, 3)"
            ]
          },
          "metadata": {},
          "execution_count": 34
        }
      ]
    },
    {
      "cell_type": "code",
      "metadata": {
        "colab": {
          "base_uri": "https://localhost:8080/"
        },
        "id": "A1x86DihaotI",
        "outputId": "3ea76790-2dfb-4ea5-edb3-42b68602066e"
      },
      "source": [
        "np.sum(np_a)"
      ],
      "execution_count": 35,
      "outputs": [
        {
          "output_type": "execute_result",
          "data": {
            "text/plain": [
              "21"
            ]
          },
          "metadata": {},
          "execution_count": 35
        }
      ]
    },
    {
      "cell_type": "code",
      "metadata": {
        "colab": {
          "base_uri": "https://localhost:8080/"
        },
        "id": "MLIkfVX1aqxW",
        "outputId": "556dda33-7d74-48a3-bc0e-7cb2190dc986"
      },
      "source": [
        "sum_all = 0\n",
        "\n",
        "for row in range(np_a.shape[0]):\n",
        "    for col in range(np_a.shape[1]):\n",
        "        sum_all = sum_all + np_a[row,col]\n",
        "        print(f'we are at row={row},col={col} np_a[{row},{col}]={np_a[row,col]}  sum_all={sum_all}')\n",
        "print(sum_all)"
      ],
      "execution_count": 36,
      "outputs": [
        {
          "output_type": "stream",
          "name": "stdout",
          "text": [
            "we are at row=0,col=0 np_a[0,0]=1  sum_all=1\n",
            "we are at row=0,col=1 np_a[0,1]=2  sum_all=3\n",
            "we are at row=0,col=2 np_a[0,2]=3  sum_all=6\n",
            "we are at row=1,col=0 np_a[1,0]=4  sum_all=10\n",
            "we are at row=1,col=1 np_a[1,1]=5  sum_all=15\n",
            "we are at row=1,col=2 np_a[1,2]=6  sum_all=21\n",
            "21\n"
          ]
        }
      ]
    },
    {
      "cell_type": "code",
      "metadata": {
        "colab": {
          "base_uri": "https://localhost:8080/"
        },
        "id": "XX23PMqqaq2N",
        "outputId": "aca2ac57-ced5-424c-a65c-eb35c745bdb8"
      },
      "source": [
        "np.sum(np_a,axis=0)"
      ],
      "execution_count": 37,
      "outputs": [
        {
          "output_type": "execute_result",
          "data": {
            "text/plain": [
              "array([5, 7, 9])"
            ]
          },
          "metadata": {},
          "execution_count": 37
        }
      ]
    },
    {
      "cell_type": "code",
      "metadata": {
        "id": "D6zgsdrSat-9"
      },
      "source": [
        "sum_all = np.zeros(np_a.shape[1])"
      ],
      "execution_count": 38,
      "outputs": []
    },
    {
      "cell_type": "markdown",
      "metadata": {
        "id": "138LXdm3az1m"
      },
      "source": [
        "Quiz กลุ่ม\n",
        "\n",
        "วนลูปหาค่า\n",
        "\n",
        "* ```np.sum(np_a,axis=1)``` กลุ่ม Sakuna\n",
        "* ``np.mean(np_a)``\n",
        "* np.mean(np_a,axis=0)\n",
        "* np.mean(np_a,axis=1)\n",
        "* np.max(np_a)\n",
        "* np.max(np_a,axis=0)\n",
        "* np.max(np_a,axis=1)\n",
        "* np.min(np_a)\n",
        "* np.min(np_a,axis=0)\n",
        "* np.min(np_a,axis=1)"
      ]
    },
    {
      "cell_type": "code",
      "metadata": {
        "colab": {
          "base_uri": "https://localhost:8080/"
        },
        "id": "H9gZjdD9a34i",
        "outputId": "06c31b67-6e31-4880-ab19-7ad1672f9a44"
      },
      "source": [
        "np.sum(np_a,axis=1)"
      ],
      "execution_count": 39,
      "outputs": [
        {
          "output_type": "execute_result",
          "data": {
            "text/plain": [
              "array([ 6, 15])"
            ]
          },
          "metadata": {},
          "execution_count": 39
        }
      ]
    },
    {
      "cell_type": "code",
      "metadata": {
        "colab": {
          "base_uri": "https://localhost:8080/"
        },
        "id": "98DXQ6lCchXl",
        "outputId": "30f2490a-9d49-4f36-bbfe-d211c9d9c129"
      },
      "source": [
        "sum_all = np.zeros(np_a.shape[0])\n",
        "\n",
        "for row in range(np_a.shape[0]):\n",
        "    for col in range(np_a.shape[1]):\n",
        "        sum_all[row] = sum_all[row] + np_a[row,col]\n",
        "print(sum_all)"
      ],
      "execution_count": 40,
      "outputs": [
        {
          "output_type": "stream",
          "name": "stdout",
          "text": [
            "[ 6. 15.]\n"
          ]
        }
      ]
    },
    {
      "cell_type": "code",
      "metadata": {
        "colab": {
          "base_uri": "https://localhost:8080/"
        },
        "id": "z5V3wm8bmkad",
        "outputId": "b293b9a1-2a46-48d4-e21b-5f48b3c679ed"
      },
      "source": [
        "#np.mean(np_a,axis=0)\n",
        "mean_all = np.zeros(np_a.shape[1])\n",
        "for row in range(np_a.shape[0]):\n",
        "     for col in range(np_a.shape[1]):\n",
        "          mean_all[col] = mean_all[col] + np_a[row,col]/np_a.shape[0]\n",
        "print(mean_all)"
      ],
      "execution_count": 41,
      "outputs": [
        {
          "output_type": "stream",
          "name": "stdout",
          "text": [
            "[2.5 3.5 4.5]\n"
          ]
        }
      ]
    },
    {
      "cell_type": "code",
      "metadata": {
        "colab": {
          "base_uri": "https://localhost:8080/"
        },
        "id": "hb2ReC-2mvyd",
        "outputId": "5d70168b-936b-4553-aa12-6b8e62f16fbe"
      },
      "source": [
        "#np.mean(np_a,axis=1)\n",
        "sum_all = np.zeros(np_a.shape[0])\n",
        "for row in range(np_a.shape[0]):\n",
        "    for col in range(np_a.shape[1]): \n",
        "        sum_all[row] = sum_all[row] + np_a[row,col]\n",
        "sum_all = sum_all/np_a.shape[1]\n",
        "print(sum_all)"
      ],
      "execution_count": 42,
      "outputs": [
        {
          "output_type": "stream",
          "name": "stdout",
          "text": [
            "[2. 5.]\n"
          ]
        }
      ]
    },
    {
      "cell_type": "code",
      "metadata": {
        "colab": {
          "base_uri": "https://localhost:8080/"
        },
        "id": "MHcWwaCimw7t",
        "outputId": "36cc7cc9-52fd-44c7-a5b9-09057b0379d6"
      },
      "source": [
        "#np.max(np_a)\n",
        "max_a = -100000000\n",
        "for row in range(np_a.shape[0]):\n",
        "    for col in range(np_a.shape[1]):\n",
        "        if np_a[row,col] > max_a :\n",
        "            max_a = np_a[row,col]\n",
        "print(max_a)"
      ],
      "execution_count": 43,
      "outputs": [
        {
          "output_type": "stream",
          "name": "stdout",
          "text": [
            "6\n"
          ]
        }
      ]
    },
    {
      "cell_type": "code",
      "metadata": {
        "colab": {
          "base_uri": "https://localhost:8080/"
        },
        "id": "1cZNnoosmyJr",
        "outputId": "8588d1dc-da94-42a0-dc6c-5a58c174e62b"
      },
      "source": [
        "### 10. np.min(np_a,axis=1)\n",
        "min_row = np.zeros(np_a.shape[0])\n",
        "for row in range(np_a.shape[0]):\n",
        "   min_row[row] = min(np_a[row,:])\n",
        "print(min_row)"
      ],
      "execution_count": 44,
      "outputs": [
        {
          "output_type": "stream",
          "name": "stdout",
          "text": [
            "[1. 4.]\n"
          ]
        }
      ]
    },
    {
      "cell_type": "code",
      "metadata": {
        "colab": {
          "base_uri": "https://localhost:8080/"
        },
        "id": "-PJVL8uUmzXR",
        "outputId": "4c8cd4e2-5032-401a-a03a-3c95cfd64749"
      },
      "source": [
        "# np.min(np_a,axis=0)\n",
        "min_all = np.zeros(np_a.shape[1])\n",
        "\n",
        "for col in range(np_a.shape[1]):\n",
        "    min_all[col] = min(np_a[:,col])\n",
        "print(min_all)"
      ],
      "execution_count": 45,
      "outputs": [
        {
          "output_type": "stream",
          "name": "stdout",
          "text": [
            "[1. 2. 3.]\n"
          ]
        }
      ]
    },
    {
      "cell_type": "code",
      "metadata": {
        "colab": {
          "base_uri": "https://localhost:8080/"
        },
        "id": "LCUJDQP0m0pd",
        "outputId": "6db99090-c34d-4801-fa42-ec97164d2ae2"
      },
      "source": [
        "# np.min(np_a)  ลูกหมี\n",
        "minV = 100000\n",
        "for row in range(np_a.shape[0]):\n",
        "    for col in range(np_a.shape[1]):\n",
        "        if np_a[row,col] < minV:\n",
        "            minV = np_a[row,col]\n",
        "print(minV)"
      ],
      "execution_count": 46,
      "outputs": [
        {
          "output_type": "stream",
          "name": "stdout",
          "text": [
            "1\n"
          ]
        }
      ]
    },
    {
      "cell_type": "code",
      "metadata": {
        "colab": {
          "base_uri": "https://localhost:8080/"
        },
        "id": "sIY16bfPm1sm",
        "outputId": "7f6bd012-fc08-4e35-b7e3-1012afc51f50"
      },
      "source": [
        "# np.max(np_a,axis=0)\n",
        "max_all = -100000 * np.ones(np_a.shape[1])\n",
        "for col in range(np_a.shape[1]):\n",
        "    for row in range(np_a.shape[0]):\n",
        "        if np_a[row,col] > max_all[col]: \n",
        "            max_all[col] = np_a[row,col]\n",
        "print(max_all)"
      ],
      "execution_count": 47,
      "outputs": [
        {
          "output_type": "stream",
          "name": "stdout",
          "text": [
            "[4. 5. 6.]\n"
          ]
        }
      ]
    },
    {
      "cell_type": "code",
      "metadata": {
        "colab": {
          "base_uri": "https://localhost:8080/"
        },
        "id": "r_w2nOZym2v9",
        "outputId": "af90470c-7981-4732-acda-0e0494ef1341"
      },
      "source": [
        "#np.mean(np_a)\n",
        "mean_all = 0\n",
        "for row in range(np_a.shape[0]):\n",
        "    for col in range(np_a.shape[1]):\n",
        "        mean_all = mean_all + np_a[row,col]\n",
        "mean_all = mean_all/(np_a.shape[0]*np_a.shape[1])\n",
        "print(mean_all)"
      ],
      "execution_count": 48,
      "outputs": [
        {
          "output_type": "stream",
          "name": "stdout",
          "text": [
            "3.5\n"
          ]
        }
      ]
    },
    {
      "cell_type": "markdown",
      "metadata": {
        "id": "bTHUeiIdZsd2"
      },
      "source": [
        "# Distance Matrix"
      ]
    },
    {
      "cell_type": "code",
      "metadata": {
        "id": "PMHnjKmKc8Fv",
        "colab": {
          "base_uri": "https://localhost:8080/"
        },
        "outputId": "57f42853-0d43-456b-e782-7cfaac8d7f69"
      },
      "source": [
        "data1 = np.array([[1,2],[3,5],[2,0],[4,5]])\n",
        "data1"
      ],
      "execution_count": 49,
      "outputs": [
        {
          "output_type": "execute_result",
          "data": {
            "text/plain": [
              "array([[1, 2],\n",
              "       [3, 5],\n",
              "       [2, 0],\n",
              "       [4, 5]])"
            ]
          },
          "metadata": {},
          "execution_count": 49
        }
      ]
    },
    {
      "cell_type": "code",
      "metadata": {
        "id": "KGnpvq_wc9dF",
        "colab": {
          "base_uri": "https://localhost:8080/",
          "height": 282
        },
        "outputId": "2a230f93-c391-4bc6-c10d-0ca17d2eeacf"
      },
      "source": [
        "from matplotlib import pyplot as plt\n",
        "plt.scatter(data1[:,0],data1[:,1])"
      ],
      "execution_count": 50,
      "outputs": [
        {
          "output_type": "execute_result",
          "data": {
            "text/plain": [
              "<matplotlib.collections.PathCollection at 0x7f480ef22a10>"
            ]
          },
          "metadata": {},
          "execution_count": 50
        },
        {
          "output_type": "display_data",
          "data": {
            "image/png": "[encoded data removed]",
            "text/plain": [
              "<Figure size 432x288 with 1 Axes>"
            ]
          },
          "metadata": {
            "needs_background": "light"
          }
        }
      ]
    },
    {
      "cell_type": "markdown",
      "metadata": {
        "id": "xSBppcivc_wx"
      },
      "source": [
        "## Euclidean Distance (L2-norm)\n",
        "$\\sqrt{(x_1-x_2)^2+(y_1-y_2)^2}$"
      ]
    },
    {
      "cell_type": "markdown",
      "metadata": {
        "id": "YZDDBQ2OeDD-"
      },
      "source": [
        "dist(P1P2)"
      ]
    },
    {
      "cell_type": "code",
      "metadata": {
        "id": "aldJMWzIdAb4",
        "colab": {
          "base_uri": "https://localhost:8080/"
        },
        "outputId": "986c0d71-ae39-4f2e-e1db-86cfdf3cc8ba"
      },
      "source": [
        "dist_p1_p2 = np.sqrt(np.power(data1[0,0]-data1[1,0],2) + np.power(data1[0,1]-data1[1,1],2))\n",
        "dist_p1_p2"
      ],
      "execution_count": 51,
      "outputs": [
        {
          "output_type": "execute_result",
          "data": {
            "text/plain": [
              "3.605551275463989"
            ]
          },
          "metadata": {},
          "execution_count": 51
        }
      ]
    },
    {
      "cell_type": "code",
      "metadata": {
        "id": "4WYjsNb6gZ26",
        "colab": {
          "base_uri": "https://localhost:8080/"
        },
        "outputId": "20ddeeed-f2f8-43ba-c621-8ba6690b0a8e"
      },
      "source": [
        "dist_p1_p2 = np.power(np.power(data1[0,0]-data1[1,0],2) + np.power(data1[0,1]-data1[1,1],2),0.5)\n",
        "dist_p1_p2"
      ],
      "execution_count": 52,
      "outputs": [
        {
          "output_type": "execute_result",
          "data": {
            "text/plain": [
              "3.605551275463989"
            ]
          },
          "metadata": {},
          "execution_count": 52
        }
      ]
    },
    {
      "cell_type": "markdown",
      "metadata": {
        "id": "tu6Bp6NUk9n5"
      },
      "source": [
        "dist(P2,P4)"
      ]
    },
    {
      "cell_type": "code",
      "metadata": {
        "id": "kJxXhMSwk-7A",
        "colab": {
          "base_uri": "https://localhost:8080/"
        },
        "outputId": "99fcece7-59f5-46bb-e805-f1fe15829c15"
      },
      "source": [
        "dist_p2_p4 = np.sqrt(np.power(data1[1,0]-data1[3,0],2) + np.power(data1[1,1]-data1[3,1],2))\n",
        "dist_p2_p4"
      ],
      "execution_count": 53,
      "outputs": [
        {
          "output_type": "execute_result",
          "data": {
            "text/plain": [
              "1.0"
            ]
          },
          "metadata": {},
          "execution_count": 53
        }
      ]
    },
    {
      "cell_type": "markdown",
      "metadata": {
        "id": "4kUl1w7vlAIS"
      },
      "source": [
        "## Distance function"
      ]
    },
    {
      "cell_type": "markdown",
      "metadata": {
        "id": "v9yYJox5lB8J"
      },
      "source": [
        "p1 = [x,y]"
      ]
    },
    {
      "cell_type": "markdown",
      "metadata": {
        "id": "_ZfdqJ4hlDaw"
      },
      "source": [
        "dim = 2"
      ]
    },
    {
      "cell_type": "code",
      "metadata": {
        "id": "QISmb3jNlFDp"
      },
      "source": [
        "def dist_l2_2(p1,p2):\n",
        "    return np.sqrt(np.power(p1[0]-p2[0],2) + np.power(p1[1]-p2[1],2))"
      ],
      "execution_count": 54,
      "outputs": []
    },
    {
      "cell_type": "code",
      "metadata": {
        "id": "eOqkPuVQlGKU",
        "colab": {
          "base_uri": "https://localhost:8080/"
        },
        "outputId": "ac56d28c-18c9-4f34-90c3-293bda8eee3e"
      },
      "source": [
        "dist_l2_2(data1[0,:],data1[1,:])"
      ],
      "execution_count": 55,
      "outputs": [
        {
          "output_type": "execute_result",
          "data": {
            "text/plain": [
              "3.605551275463989"
            ]
          },
          "metadata": {},
          "execution_count": 55
        }
      ]
    },
    {
      "cell_type": "code",
      "metadata": {
        "id": "ykdHsB8ulHLc",
        "colab": {
          "base_uri": "https://localhost:8080/"
        },
        "outputId": "7bc2f64d-3a8a-41b7-e82a-a71da085b4ac"
      },
      "source": [
        "dist_l2_2(data1[1,:],data1[3,:])"
      ],
      "execution_count": 56,
      "outputs": [
        {
          "output_type": "execute_result",
          "data": {
            "text/plain": [
              "1.0"
            ]
          },
          "metadata": {},
          "execution_count": 56
        }
      ]
    },
    {
      "cell_type": "markdown",
      "metadata": {
        "id": "8mOr-NntlIh7"
      },
      "source": [
        "dim = n"
      ]
    },
    {
      "cell_type": "code",
      "metadata": {
        "id": "hqxEu6a9lRIb"
      },
      "source": [
        "def dist_l2_n(p1,p2):\n",
        "    sum = 0\n",
        "    for i in range(len(p1)):\n",
        "        sum = sum + np.power(p1[i]-p2[i],2)\n",
        "    return np.sqrt(sum)"
      ],
      "execution_count": 57,
      "outputs": []
    },
    {
      "cell_type": "code",
      "metadata": {
        "id": "tsSnYMgvlTPA",
        "colab": {
          "base_uri": "https://localhost:8080/"
        },
        "outputId": "21676f6d-9f3b-421a-e42a-69d2a3029a9c"
      },
      "source": [
        "dist_l2_n(data1[0,:],data1[1,:])"
      ],
      "execution_count": 58,
      "outputs": [
        {
          "output_type": "execute_result",
          "data": {
            "text/plain": [
              "3.605551275463989"
            ]
          },
          "metadata": {},
          "execution_count": 58
        }
      ]
    },
    {
      "cell_type": "markdown",
      "metadata": {
        "id": "QlSpz-oFlVTS"
      },
      "source": [
        "## Manhattan Distance (L1-norm)\n",
        "$|x_1-x_2|+|y_1-y_2|$"
      ]
    },
    {
      "cell_type": "markdown",
      "metadata": {
        "id": "-foNdIrklXjJ"
      },
      "source": [
        "#quiz6 \n",
        "เขียน function คำนวณ manhattan distance ของ ข้อมูล 2 dimensions"
      ]
    },
    {
      "cell_type": "code",
      "metadata": {
        "id": "V3UNXnHVldt2",
        "colab": {
          "base_uri": "https://localhost:8080/"
        },
        "outputId": "8502722a-56ce-4ff5-b576-c71cea4d688e"
      },
      "source": [
        "dist_f= np.abs(np.power(data1[0,0]-data1[1,0],1) + np.power(data1[0,1]-data1[1,1],1))\n",
        "dist_f"
      ],
      "execution_count": 59,
      "outputs": [
        {
          "output_type": "execute_result",
          "data": {
            "text/plain": [
              "5"
            ]
          },
          "metadata": {},
          "execution_count": 59
        }
      ]
    },
    {
      "cell_type": "markdown",
      "metadata": {
        "id": "tk6T9iW2n8hD"
      },
      "source": [
        "##HW11\n",
        "Function คำนวณ manhattan distance ของ ข้อมูล N dimensions\\\n",
        "Function คำนวณ L-$\\infty$ ของ ข้อมูล N dimensions\\\n",
        "Function คำนวณ Distance Matrix ด้วย Euclidean Distance"
      ]
    },
    {
      "cell_type": "code",
      "metadata": {
        "id": "RL5cx7CyoWRa"
      },
      "source": [
        "def dist_l1_N(p1,p2):\n",
        "    sum = 0\n",
        "    for i in range(len(p1)):\n",
        "        sum =  sum + np.abs(p1[i] - p2[i]) \n",
        "    return np.abs(sum)"
      ],
      "execution_count": 67,
      "outputs": []
    },
    {
      "cell_type": "code",
      "metadata": {
        "colab": {
          "base_uri": "https://localhost:8080/"
        },
        "id": "Yemvf_nYUl2N",
        "outputId": "3c93298a-52e2-4ae5-920a-ca2cc71622a5"
      },
      "source": [
        "dist_l1_N(data1[0,:],data1[1,:])"
      ],
      "execution_count": 68,
      "outputs": [
        {
          "output_type": "execute_result",
          "data": {
            "text/plain": [
              "5"
            ]
          },
          "metadata": {},
          "execution_count": 68
        }
      ]
    },
    {
      "cell_type": "markdown",
      "metadata": {
        "id": "iuf-YGd3Updz"
      },
      "source": [
        "ข้อ 2"
      ]
    },
    {
      "cell_type": "code",
      "metadata": {
        "id": "I6Fd-n7RUovv"
      },
      "source": [
        "def dist_linf_N(p1,p2):\n",
        "    return np.maximum(np.abs(p1[0] - p2[0]) , np.abs(p1[1] - p2[1]))"
      ],
      "execution_count": 69,
      "outputs": []
    },
    {
      "cell_type": "code",
      "metadata": {
        "id": "2T6gZz2CUrp3"
      },
      "source": [
        "def dist_linf_n(p1,p2): # max กำหนดค่าให้เป็น ค่าน้อยๆ min กำหนดให้ค่าเป็น ค่ามากๆ\n",
        "    maxv = -100000\n",
        "    for i in range(len(p1)):\n",
        "        this_dist = np.abs(p1[i] - p2[i])\n",
        "        if this_dist > maxv:\n",
        "            maxv = this_dist\n",
        "    return maxv"
      ],
      "execution_count": 70,
      "outputs": []
    },
    {
      "cell_type": "code",
      "metadata": {
        "colab": {
          "base_uri": "https://localhost:8080/"
        },
        "id": "Uf2OqHXuUss8",
        "outputId": "6eeea03e-323d-46c8-d37f-b027fd8841d2"
      },
      "source": [
        "dist_linf_n(data1[0,:],data1[2,:])"
      ],
      "execution_count": 71,
      "outputs": [
        {
          "output_type": "execute_result",
          "data": {
            "text/plain": [
              "2"
            ]
          },
          "metadata": {},
          "execution_count": 71
        }
      ]
    },
    {
      "cell_type": "code",
      "metadata": {
        "colab": {
          "base_uri": "https://localhost:8080/"
        },
        "id": "n3E7771SUt0f",
        "outputId": "7ae8edc1-ec24-4e6f-bffc-b7c5d5fff78a"
      },
      "source": [
        "dist_linf_n([-20,2,7],[0,5,9]) "
      ],
      "execution_count": 72,
      "outputs": [
        {
          "output_type": "execute_result",
          "data": {
            "text/plain": [
              "20"
            ]
          },
          "metadata": {},
          "execution_count": 72
        }
      ]
    },
    {
      "cell_type": "markdown",
      "metadata": {
        "id": "5GBF8L3uUvT9"
      },
      "source": [
        "ข้อ 3"
      ]
    },
    {
      "cell_type": "code",
      "metadata": {
        "id": "vDEF19PpUwhr"
      },
      "source": [
        "def dist_mat_eud(data):\n",
        "    d_mat = np.zeros((data.shape[0],data.shape[0]))\n",
        "    for i in range(data.shape[0]):\n",
        "        for j in range(data.shape[0]):\n",
        "            d_mat[i,j] = dist_l2_n(data[i,:],data[j,:])\n",
        "    return d_mat"
      ],
      "execution_count": 73,
      "outputs": []
    },
    {
      "cell_type": "code",
      "metadata": {
        "colab": {
          "base_uri": "https://localhost:8080/"
        },
        "id": "djk7kvFQUx0M",
        "outputId": "2f4e015d-946e-49fb-a044-bfc842290e2d"
      },
      "source": [
        "dist_mat_eud(data1)"
      ],
      "execution_count": 74,
      "outputs": [
        {
          "output_type": "execute_result",
          "data": {
            "text/plain": [
              "array([[0.        , 3.60555128, 2.23606798, 4.24264069],\n",
              "       [3.60555128, 0.        , 5.09901951, 1.        ],\n",
              "       [2.23606798, 5.09901951, 0.        , 5.38516481],\n",
              "       [4.24264069, 1.        , 5.38516481, 0.        ]])"
            ]
          },
          "metadata": {},
          "execution_count": 74
        }
      ]
    },
    {
      "cell_type": "markdown",
      "metadata": {
        "id": "kNKHp2iwU2bE"
      },
      "source": [
        "##Distance of Binary Value"
      ]
    },
    {
      "cell_type": "markdown",
      "metadata": {
        "id": "hZ81dU-OU3qv"
      },
      "source": [
        "Create table"
      ]
    },
    {
      "cell_type": "markdown",
      "metadata": {
        "id": "DJf27seyU9AX"
      },
      "source": [
        "![image.png](data:image/png;base64,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)"
      ]
    },
    {
      "cell_type": "code",
      "metadata": {
        "id": "mnpRn38TU9kb"
      },
      "source": [
        "import pandas as pd"
      ],
      "execution_count": 75,
      "outputs": []
    },
    {
      "cell_type": "code",
      "metadata": {
        "colab": {
          "base_uri": "https://localhost:8080/",
          "height": 142
        },
        "id": "QicK9gMCVCjw",
        "outputId": "860cff4f-635e-494e-c71e-7199545d22a2"
      },
      "source": [
        "records = [['Jack',1,1,0,1,0,0,0],\n",
        "           ['Mary',0,1,0,1,0,1,0],\n",
        "           ['Jim',1,1,1,0,0,0,0]]\n",
        "labels = ['Name','Gender','Fever','Cough','Test-1','Test-2','Test-3','Test-4']\n",
        "\n",
        "binary_table = pd.DataFrame.from_records(records,columns=labels)\n",
        "binary_table"
      ],
      "execution_count": 76,
      "outputs": [
        {
          "output_type": "execute_result",
          "data": {
            "text/html": [
              "<div>\n",
              "<style scoped>\n",
              "    .dataframe tbody tr th:only-of-type {\n",
              "        vertical-align: middle;\n",
              "    }\n",
              "\n",
              "    .dataframe tbody tr th {\n",
              "        vertical-align: top;\n",
              "    }\n",
              "\n",
              "    .dataframe thead th {\n",
              "        text-align: right;\n",
              "    }\n",
              "</style>\n",
              "<table border=\"1\" class=\"dataframe\">\n",
              "  <thead>\n",
              "    <tr style=\"text-align: right;\">\n",
              "      <th></th>\n",
              "      <th>Name</th>\n",
              "      <th>Gender</th>\n",
              "      <th>Fever</th>\n",
              "      <th>Cough</th>\n",
              "      <th>Test-1</th>\n",
              "      <th>Test-2</th>\n",
              "      <th>Test-3</th>\n",
              "      <th>Test-4</th>\n",
              "    </tr>\n",
              "  </thead>\n",
              "  <tbody>\n",
              "    <tr>\n",
              "      <th>0</th>\n",
              "      <td>Jack</td>\n",
              "      <td>1</td>\n",
              "      <td>1</td>\n",
              "      <td>0</td>\n",
              "      <td>1</td>\n",
              "      <td>0</td>\n",
              "      <td>0</td>\n",
              "      <td>0</td>\n",
              "    </tr>\n",
              "    <tr>\n",
              "      <th>1</th>\n",
              "      <td>Mary</td>\n",
              "      <td>0</td>\n",
              "      <td>1</td>\n",
              "      <td>0</td>\n",
              "      <td>1</td>\n",
              "      <td>0</td>\n",
              "      <td>1</td>\n",
              "      <td>0</td>\n",
              "    </tr>\n",
              "    <tr>\n",
              "      <th>2</th>\n",
              "      <td>Jim</td>\n",
              "      <td>1</td>\n",
              "      <td>1</td>\n",
              "      <td>1</td>\n",
              "      <td>0</td>\n",
              "      <td>0</td>\n",
              "      <td>0</td>\n",
              "      <td>0</td>\n",
              "    </tr>\n",
              "  </tbody>\n",
              "</table>\n",
              "</div>"
            ],
            "text/plain": [
              "   Name  Gender  Fever  Cough  Test-1  Test-2  Test-3  Test-4\n",
              "0  Jack       1      1      0       1       0       0       0\n",
              "1  Mary       0      1      0       1       0       1       0\n",
              "2   Jim       1      1      1       0       0       0       0"
            ]
          },
          "metadata": {},
          "execution_count": 76
        }
      ]
    },
    {
      "cell_type": "code",
      "metadata": {
        "id": "KIiwB78lVGCm"
      },
      "source": [
        "def dist_binary_symmetric(p1,p2):\n",
        "    q = 0.\n",
        "    r = 0.\n",
        "    s = 0.\n",
        "    t = 0.\n",
        "    for i in range(len(p1)):\n",
        "        \n",
        "        if (p1[i] == 1) and (p2[i] == 1):\n",
        "            q = q + 1\n",
        "        \n",
        "        if (p1[i] == 0) and (p2[i] == 1):\n",
        "            r = r + 1\n",
        "        \n",
        "        if (p1[i] == 1) and (p2[i] == 0):\n",
        "            s = s + 1\n",
        "\n",
        "        if (p1[i] == 0) and (p2[i] == 0):\n",
        "            t = t + 1\n",
        "    return (r+s)/(q+r+s+t)"
      ],
      "execution_count": 77,
      "outputs": []
    },
    {
      "cell_type": "code",
      "metadata": {
        "colab": {
          "base_uri": "https://localhost:8080/"
        },
        "id": "OZDPfiHLVK6l",
        "outputId": "fa43391d-f3dc-4800-b97d-3a375f73d593"
      },
      "source": [
        "dist_binary_symmetric(binary_table.iloc[0,1:],binary_table.iloc[1,1:])"
      ],
      "execution_count": 79,
      "outputs": [
        {
          "output_type": "execute_result",
          "data": {
            "text/plain": [
              "0.2857142857142857"
            ]
          },
          "metadata": {},
          "execution_count": 79
        }
      ]
    }
  ]
}