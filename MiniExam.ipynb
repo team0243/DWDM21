{
  "nbformat": 4,
  "nbformat_minor": 0,
  "metadata": {
    "colab": {
      "name": "MiniExam.ipynb",
      "provenance": [],
      "mount_file_id": "1SjmFvwYokuAnPQ09ayAtVpB1EMLIAkjn",
      "authorship_tag": "ABX9TyNqUxXTQRXl3wjJfLqBdyR5",
      "include_colab_link": true
    },
    "kernelspec": {
      "name": "python3",
      "display_name": "Python 3"
    },
    "language_info": {
      "name": "python"
    }
  },
  "cells": [
    {
      "cell_type": "markdown",
      "metadata": {
        "id": "view-in-github",
        "colab_type": "text"
      },
      "source": [
        "<a href=\"https://colab.research.google.com/github/team0243/DWDM21/blob/main/MiniExam.ipynb\" target=\"_parent\"><img src=\"https://colab.research.google.com/assets/colab-badge.svg\" alt=\"Open In Colab\"/></a>"
      ]
    },
    {
      "cell_type": "markdown",
      "metadata": {
        "id": "4N3jbbRoP5rb"
      },
      "source": [
        "### ข้อสอบ\n",
        "\n",
        "จาก data ```flights.csv``` และ ```airports.csv``` ใน https://drive.google.com/drive/folders/1EFo1_uQgWkRiXjezL0T4YwteYrsqU5MV?usp=sharing\n",
        "0. หารัฐที่มีจำนวนเครื่องบินขาเข้ามากที่สุดและน้อยที่สุด\n",
        "1. หารัฐที่มีจำนวนเครื่องบินขาออกมากที่สุดและน้อยที่สุด\n",
        "2. วาด Histogram แสดงจำนวนเครื่องบินขาออกของแต่ละวันในสัปดาห์\n",
        "3. สายการบินไหนมีเที่ยวบินมากที่สุดและน้อยที่สุด\n",
        "4. สายการบินอะไรมีความล่าช้ามากที่สุดและน้อยที่สุด\n",
        "5. ช่วงเช้าหรือช่วงบ่ายมีเครื่องบินขาเข้ามากกว่ากัน\n",
        "\n",
        "ให้นักศึกษาทำข้อสอบ 2 ข้อจากที่แสดงข้างบนโดยกรอกรหัสนักศึกษาลงใน function ```gen_exams()``` แล้ว run เพื่อให้ได้ข้อสอบที่นักศึกษาต้องทำ 2 ข้อ (ข้อละ 3 คะแนน)\n",
        "และให้นักศึกษาคิดโจทย์เองอีก 1 ข้อ (4 คะแนน)\n"
      ]
    },
    {
      "cell_type": "code",
      "metadata": {
        "id": "EUaWGgrOP7xe"
      },
      "source": [
        "import pandas as pd"
      ],
      "execution_count": 1,
      "outputs": []
    },
    {
      "cell_type": "code",
      "metadata": {
        "colab": {
          "base_uri": "https://localhost:8080/"
        },
        "id": "p725gYOfP7zP",
        "outputId": "2e9aaef8-39e9-431c-b0e2-741e5d36bc19"
      },
      "source": [
        "from google.colab import drive\n",
        "drive.mount('/content/drive')"
      ],
      "execution_count": 2,
      "outputs": [
        {
          "output_type": "stream",
          "name": "stdout",
          "text": [
            "Drive already mounted at /content/drive; to attempt to forcibly remount, call drive.mount(\"/content/drive\", force_remount=True).\n"
          ]
        }
      ]
    },
    {
      "cell_type": "code",
      "metadata": {
        "id": "OtpJ86PNQGre"
      },
      "source": [
        "import os"
      ],
      "execution_count": 4,
      "outputs": []
    },
    {
      "cell_type": "code",
      "metadata": {
        "colab": {
          "base_uri": "https://localhost:8080/",
          "height": 424
        },
        "id": "vxxq6of5QJWu",
        "outputId": "f7d53f92-6663-487d-e038-98e0e4ca702c"
      },
      "source": [
        "flights = pd.read_csv('/content/drive/MyDrive/DWDM2021_DATA/flights.csv')\n",
        "flights"
      ],
      "execution_count": 6,
      "outputs": [
        {
          "output_type": "execute_result",
          "data": {
            "text/html": [
              "<div>\n",
              "<style scoped>\n",
              "    .dataframe tbody tr th:only-of-type {\n",
              "        vertical-align: middle;\n",
              "    }\n",
              "\n",
              "    .dataframe tbody tr th {\n",
              "        vertical-align: top;\n",
              "    }\n",
              "\n",
              "    .dataframe thead th {\n",
              "        text-align: right;\n",
              "    }\n",
              "</style>\n",
              "<table border=\"1\" class=\"dataframe\">\n",
              "  <thead>\n",
              "    <tr style=\"text-align: right;\">\n",
              "      <th></th>\n",
              "      <th>วันในเดือน</th>\n",
              "      <th>วันในสัปดาห์</th>\n",
              "      <th>สายการบิน</th>\n",
              "      <th>รหัสสนามบินต้นทาง</th>\n",
              "      <th>รหัสสนามบินปลายทาง</th>\n",
              "      <th>ความล่าช้าขาออก</th>\n",
              "      <th>ความล่าช้าขาเข้า</th>\n",
              "    </tr>\n",
              "  </thead>\n",
              "  <tbody>\n",
              "    <tr>\n",
              "      <th>0</th>\n",
              "      <td>19</td>\n",
              "      <td>5</td>\n",
              "      <td>DL</td>\n",
              "      <td>11433</td>\n",
              "      <td>13303</td>\n",
              "      <td>-3</td>\n",
              "      <td>1</td>\n",
              "    </tr>\n",
              "    <tr>\n",
              "      <th>1</th>\n",
              "      <td>19</td>\n",
              "      <td>5</td>\n",
              "      <td>DL</td>\n",
              "      <td>14869</td>\n",
              "      <td>12478</td>\n",
              "      <td>0</td>\n",
              "      <td>-8</td>\n",
              "    </tr>\n",
              "    <tr>\n",
              "      <th>2</th>\n",
              "      <td>19</td>\n",
              "      <td>5</td>\n",
              "      <td>DL</td>\n",
              "      <td>14057</td>\n",
              "      <td>14869</td>\n",
              "      <td>-4</td>\n",
              "      <td>-15</td>\n",
              "    </tr>\n",
              "    <tr>\n",
              "      <th>3</th>\n",
              "      <td>19</td>\n",
              "      <td>5</td>\n",
              "      <td>DL</td>\n",
              "      <td>15016</td>\n",
              "      <td>11433</td>\n",
              "      <td>28</td>\n",
              "      <td>24</td>\n",
              "    </tr>\n",
              "    <tr>\n",
              "      <th>4</th>\n",
              "      <td>19</td>\n",
              "      <td>5</td>\n",
              "      <td>DL</td>\n",
              "      <td>11193</td>\n",
              "      <td>12892</td>\n",
              "      <td>-6</td>\n",
              "      <td>-11</td>\n",
              "    </tr>\n",
              "    <tr>\n",
              "      <th>...</th>\n",
              "      <td>...</td>\n",
              "      <td>...</td>\n",
              "      <td>...</td>\n",
              "      <td>...</td>\n",
              "      <td>...</td>\n",
              "      <td>...</td>\n",
              "      <td>...</td>\n",
              "    </tr>\n",
              "    <tr>\n",
              "      <th>2702213</th>\n",
              "      <td>19</td>\n",
              "      <td>6</td>\n",
              "      <td>DL</td>\n",
              "      <td>13204</td>\n",
              "      <td>14869</td>\n",
              "      <td>1</td>\n",
              "      <td>-3</td>\n",
              "    </tr>\n",
              "    <tr>\n",
              "      <th>2702214</th>\n",
              "      <td>19</td>\n",
              "      <td>6</td>\n",
              "      <td>DL</td>\n",
              "      <td>10397</td>\n",
              "      <td>13495</td>\n",
              "      <td>-2</td>\n",
              "      <td>-3</td>\n",
              "    </tr>\n",
              "    <tr>\n",
              "      <th>2702215</th>\n",
              "      <td>19</td>\n",
              "      <td>6</td>\n",
              "      <td>DL</td>\n",
              "      <td>10140</td>\n",
              "      <td>10397</td>\n",
              "      <td>18</td>\n",
              "      <td>9</td>\n",
              "    </tr>\n",
              "    <tr>\n",
              "      <th>2702216</th>\n",
              "      <td>19</td>\n",
              "      <td>6</td>\n",
              "      <td>DL</td>\n",
              "      <td>10397</td>\n",
              "      <td>13244</td>\n",
              "      <td>10</td>\n",
              "      <td>7</td>\n",
              "    </tr>\n",
              "    <tr>\n",
              "      <th>2702217</th>\n",
              "      <td>19</td>\n",
              "      <td>6</td>\n",
              "      <td>DL</td>\n",
              "      <td>10397</td>\n",
              "      <td>13487</td>\n",
              "      <td>0</td>\n",
              "      <td>-13</td>\n",
              "    </tr>\n",
              "  </tbody>\n",
              "</table>\n",
              "<p>2702218 rows × 7 columns</p>\n",
              "</div>"
            ],
            "text/plain": [
              "         วันในเดือน  วันในสัปดาห์  ... ความล่าช้าขาออก  ความล่าช้าขาเข้า\n",
              "0                19             5  ...              -3                 1\n",
              "1                19             5  ...               0                -8\n",
              "2                19             5  ...              -4               -15\n",
              "3                19             5  ...              28                24\n",
              "4                19             5  ...              -6               -11\n",
              "...             ...           ...  ...             ...               ...\n",
              "2702213          19             6  ...               1                -3\n",
              "2702214          19             6  ...              -2                -3\n",
              "2702215          19             6  ...              18                 9\n",
              "2702216          19             6  ...              10                 7\n",
              "2702217          19             6  ...               0               -13\n",
              "\n",
              "[2702218 rows x 7 columns]"
            ]
          },
          "metadata": {},
          "execution_count": 6
        }
      ]
    },
    {
      "cell_type": "code",
      "metadata": {
        "colab": {
          "base_uri": "https://localhost:8080/",
          "height": 424
        },
        "id": "DgoBKhSmQLYN",
        "outputId": "fccc9cfe-0f02-419e-de9d-37c8d18bcca3"
      },
      "source": [
        "airports = pd.read_csv('/content/drive/MyDrive/DWDM2021_DATA/airports.csv')\n",
        "airports"
      ],
      "execution_count": 7,
      "outputs": [
        {
          "output_type": "execute_result",
          "data": {
            "text/html": [
              "<div>\n",
              "<style scoped>\n",
              "    .dataframe tbody tr th:only-of-type {\n",
              "        vertical-align: middle;\n",
              "    }\n",
              "\n",
              "    .dataframe tbody tr th {\n",
              "        vertical-align: top;\n",
              "    }\n",
              "\n",
              "    .dataframe thead th {\n",
              "        text-align: right;\n",
              "    }\n",
              "</style>\n",
              "<table border=\"1\" class=\"dataframe\">\n",
              "  <thead>\n",
              "    <tr style=\"text-align: right;\">\n",
              "      <th></th>\n",
              "      <th>รหัสสนามบิน</th>\n",
              "      <th>เมือง</th>\n",
              "      <th>รัฐ</th>\n",
              "      <th>ชื่อสนามบิน</th>\n",
              "    </tr>\n",
              "  </thead>\n",
              "  <tbody>\n",
              "    <tr>\n",
              "      <th>0</th>\n",
              "      <td>10165</td>\n",
              "      <td>Adak Island</td>\n",
              "      <td>AK</td>\n",
              "      <td>Adak</td>\n",
              "    </tr>\n",
              "    <tr>\n",
              "      <th>1</th>\n",
              "      <td>10299</td>\n",
              "      <td>Anchorage</td>\n",
              "      <td>AK</td>\n",
              "      <td>Ted Stevens Anchorage International</td>\n",
              "    </tr>\n",
              "    <tr>\n",
              "      <th>2</th>\n",
              "      <td>10304</td>\n",
              "      <td>Aniak</td>\n",
              "      <td>AK</td>\n",
              "      <td>Aniak Airport</td>\n",
              "    </tr>\n",
              "    <tr>\n",
              "      <th>3</th>\n",
              "      <td>10754</td>\n",
              "      <td>Barrow</td>\n",
              "      <td>AK</td>\n",
              "      <td>Wiley Post/Will Rogers Memorial</td>\n",
              "    </tr>\n",
              "    <tr>\n",
              "      <th>4</th>\n",
              "      <td>10551</td>\n",
              "      <td>Bethel</td>\n",
              "      <td>AK</td>\n",
              "      <td>Bethel Airport</td>\n",
              "    </tr>\n",
              "    <tr>\n",
              "      <th>...</th>\n",
              "      <td>...</td>\n",
              "      <td>...</td>\n",
              "      <td>...</td>\n",
              "      <td>...</td>\n",
              "    </tr>\n",
              "    <tr>\n",
              "      <th>360</th>\n",
              "      <td>11233</td>\n",
              "      <td>Cheyenne</td>\n",
              "      <td>WY</td>\n",
              "      <td>Cheyenne Regional/Jerry Olson Field</td>\n",
              "    </tr>\n",
              "    <tr>\n",
              "      <th>361</th>\n",
              "      <td>11097</td>\n",
              "      <td>Cody</td>\n",
              "      <td>WY</td>\n",
              "      <td>Yellowstone Regional</td>\n",
              "    </tr>\n",
              "    <tr>\n",
              "      <th>362</th>\n",
              "      <td>11865</td>\n",
              "      <td>Gillette</td>\n",
              "      <td>WY</td>\n",
              "      <td>Gillette Campbell County</td>\n",
              "    </tr>\n",
              "    <tr>\n",
              "      <th>363</th>\n",
              "      <td>12441</td>\n",
              "      <td>Jackson</td>\n",
              "      <td>WY</td>\n",
              "      <td>Jackson Hole</td>\n",
              "    </tr>\n",
              "    <tr>\n",
              "      <th>364</th>\n",
              "      <td>14543</td>\n",
              "      <td>Rock Springs</td>\n",
              "      <td>WY</td>\n",
              "      <td>Rock Springs Sweetwater County</td>\n",
              "    </tr>\n",
              "  </tbody>\n",
              "</table>\n",
              "<p>365 rows × 4 columns</p>\n",
              "</div>"
            ],
            "text/plain": [
              "     รหัสสนามบิน         เมือง รัฐ                          ชื่อสนามบิน\n",
              "0          10165   Adak Island  AK                                 Adak\n",
              "1          10299     Anchorage  AK  Ted Stevens Anchorage International\n",
              "2          10304         Aniak  AK                        Aniak Airport\n",
              "3          10754        Barrow  AK      Wiley Post/Will Rogers Memorial\n",
              "4          10551        Bethel  AK                       Bethel Airport\n",
              "..           ...           ...  ..                                  ...\n",
              "360        11233      Cheyenne  WY  Cheyenne Regional/Jerry Olson Field\n",
              "361        11097          Cody  WY                 Yellowstone Regional\n",
              "362        11865      Gillette  WY             Gillette Campbell County\n",
              "363        12441       Jackson  WY                         Jackson Hole\n",
              "364        14543  Rock Springs  WY       Rock Springs Sweetwater County\n",
              "\n",
              "[365 rows x 4 columns]"
            ]
          },
          "metadata": {},
          "execution_count": 7
        }
      ]
    },
    {
      "cell_type": "code",
      "metadata": {
        "id": "dsgxBMtmQO6n"
      },
      "source": [
        "def gen_exams(ID):\n",
        "    import math\n",
        "    a = int(ID[-1])%6\n",
        "    b = int(ID[-1])%3\n",
        "    print(f'รหัสนักศึกษา {ID} ทำข้อ {a} และ {b if a != b else 5-b}')"
      ],
      "execution_count": 8,
      "outputs": []
    },
    {
      "cell_type": "markdown",
      "metadata": {
        "id": "9dxfbMe9QQf_"
      },
      "source": [
        ""
      ]
    },
    {
      "cell_type": "markdown",
      "metadata": {
        "id": "pgzq1E8qQQjC"
      },
      "source": [
        "ตัวอย่างการ run"
      ]
    },
    {
      "cell_type": "code",
      "metadata": {
        "colab": {
          "base_uri": "https://localhost:8080/"
        },
        "id": "94wJtsz6QR4-",
        "outputId": "e5aefd9d-ed05-4d42-8156-50f7d32ece3b"
      },
      "source": [
        "gen_exams('62123456-9')"
      ],
      "execution_count": 9,
      "outputs": [
        {
          "output_type": "stream",
          "name": "stdout",
          "text": [
            "รหัสนักศึกษา 62123456-9 ทำข้อ 3 และ 0\n"
          ]
        }
      ]
    },
    {
      "cell_type": "markdown",
      "metadata": {
        "id": "7_kW4pbrRDM1"
      },
      "source": [
        "นายเกียรติศักดิ์ แสนจันทร์ 623021041-7"
      ]
    },
    {
      "cell_type": "code",
      "metadata": {
        "colab": {
          "base_uri": "https://localhost:8080/"
        },
        "id": "kHIBlGeERMAH",
        "outputId": "4aedc573-237e-4815-f296-c4f5f0ee8999"
      },
      "source": [
        "gen_exams('6230241-7')"
      ],
      "execution_count": 10,
      "outputs": [
        {
          "output_type": "stream",
          "name": "stdout",
          "text": [
            "รหัสนักศึกษา 6230241-7 ทำข้อ 1 และ 4\n"
          ]
        }
      ]
    },
    {
      "cell_type": "markdown",
      "metadata": {
        "id": "69_41FTvWH6v"
      },
      "source": [
        "## หา Missing Value ของ flights และ airport"
      ]
    },
    {
      "cell_type": "code",
      "metadata": {
        "id": "yetK1ml-Xzg5"
      },
      "source": [
        "#เพื่อตรวจสอบว่ามีค่าไหนในตารางที่มีความผิดปกติหรือไม่"
      ],
      "execution_count": null,
      "outputs": []
    },
    {
      "cell_type": "code",
      "metadata": {
        "id": "LNgdfMfmWPlZ"
      },
      "source": [
        "flights.isnull()"
      ],
      "execution_count": null,
      "outputs": []
    },
    {
      "cell_type": "code",
      "metadata": {
        "colab": {
          "base_uri": "https://localhost:8080/"
        },
        "id": "jgH3D2L_WXvq",
        "outputId": "2b02546a-ef73-4783-89ad-b22ab50c1940"
      },
      "source": [
        "flights.isnull().any()"
      ],
      "execution_count": 20,
      "outputs": [
        {
          "output_type": "execute_result",
          "data": {
            "text/plain": [
              "วันในเดือน            False\n",
              "วันในสัปดาห์          False\n",
              "สายการบิน             False\n",
              "รหัสสนามบินต้นทาง     False\n",
              "รหัสสนามบินปลายทาง    False\n",
              "ความล่าช้าขาออก       False\n",
              "ความล่าช้าขาเข้า      False\n",
              "dtype: bool"
            ]
          },
          "metadata": {},
          "execution_count": 20
        }
      ]
    },
    {
      "cell_type": "code",
      "metadata": {
        "colab": {
          "base_uri": "https://localhost:8080/",
          "height": 424
        },
        "id": "fhpmzNA_XbS3",
        "outputId": "1e238d7c-69cb-467e-de9a-909c3759e8f5"
      },
      "source": [
        "airports.isnull()"
      ],
      "execution_count": 21,
      "outputs": [
        {
          "output_type": "execute_result",
          "data": {
            "text/html": [
              "<div>\n",
              "<style scoped>\n",
              "    .dataframe tbody tr th:only-of-type {\n",
              "        vertical-align: middle;\n",
              "    }\n",
              "\n",
              "    .dataframe tbody tr th {\n",
              "        vertical-align: top;\n",
              "    }\n",
              "\n",
              "    .dataframe thead th {\n",
              "        text-align: right;\n",
              "    }\n",
              "</style>\n",
              "<table border=\"1\" class=\"dataframe\">\n",
              "  <thead>\n",
              "    <tr style=\"text-align: right;\">\n",
              "      <th></th>\n",
              "      <th>รหัสสนามบิน</th>\n",
              "      <th>เมือง</th>\n",
              "      <th>รัฐ</th>\n",
              "      <th>ชื่อสนามบิน</th>\n",
              "    </tr>\n",
              "  </thead>\n",
              "  <tbody>\n",
              "    <tr>\n",
              "      <th>0</th>\n",
              "      <td>False</td>\n",
              "      <td>False</td>\n",
              "      <td>False</td>\n",
              "      <td>False</td>\n",
              "    </tr>\n",
              "    <tr>\n",
              "      <th>1</th>\n",
              "      <td>False</td>\n",
              "      <td>False</td>\n",
              "      <td>False</td>\n",
              "      <td>False</td>\n",
              "    </tr>\n",
              "    <tr>\n",
              "      <th>2</th>\n",
              "      <td>False</td>\n",
              "      <td>False</td>\n",
              "      <td>False</td>\n",
              "      <td>False</td>\n",
              "    </tr>\n",
              "    <tr>\n",
              "      <th>3</th>\n",
              "      <td>False</td>\n",
              "      <td>False</td>\n",
              "      <td>False</td>\n",
              "      <td>False</td>\n",
              "    </tr>\n",
              "    <tr>\n",
              "      <th>4</th>\n",
              "      <td>False</td>\n",
              "      <td>False</td>\n",
              "      <td>False</td>\n",
              "      <td>False</td>\n",
              "    </tr>\n",
              "    <tr>\n",
              "      <th>...</th>\n",
              "      <td>...</td>\n",
              "      <td>...</td>\n",
              "      <td>...</td>\n",
              "      <td>...</td>\n",
              "    </tr>\n",
              "    <tr>\n",
              "      <th>360</th>\n",
              "      <td>False</td>\n",
              "      <td>False</td>\n",
              "      <td>False</td>\n",
              "      <td>False</td>\n",
              "    </tr>\n",
              "    <tr>\n",
              "      <th>361</th>\n",
              "      <td>False</td>\n",
              "      <td>False</td>\n",
              "      <td>False</td>\n",
              "      <td>False</td>\n",
              "    </tr>\n",
              "    <tr>\n",
              "      <th>362</th>\n",
              "      <td>False</td>\n",
              "      <td>False</td>\n",
              "      <td>False</td>\n",
              "      <td>False</td>\n",
              "    </tr>\n",
              "    <tr>\n",
              "      <th>363</th>\n",
              "      <td>False</td>\n",
              "      <td>False</td>\n",
              "      <td>False</td>\n",
              "      <td>False</td>\n",
              "    </tr>\n",
              "    <tr>\n",
              "      <th>364</th>\n",
              "      <td>False</td>\n",
              "      <td>False</td>\n",
              "      <td>False</td>\n",
              "      <td>False</td>\n",
              "    </tr>\n",
              "  </tbody>\n",
              "</table>\n",
              "<p>365 rows × 4 columns</p>\n",
              "</div>"
            ],
            "text/plain": [
              "     รหัสสนามบิน  เมือง    รัฐ  ชื่อสนามบิน\n",
              "0          False  False  False        False\n",
              "1          False  False  False        False\n",
              "2          False  False  False        False\n",
              "3          False  False  False        False\n",
              "4          False  False  False        False\n",
              "..           ...    ...    ...          ...\n",
              "360        False  False  False        False\n",
              "361        False  False  False        False\n",
              "362        False  False  False        False\n",
              "363        False  False  False        False\n",
              "364        False  False  False        False\n",
              "\n",
              "[365 rows x 4 columns]"
            ]
          },
          "metadata": {},
          "execution_count": 21
        }
      ]
    },
    {
      "cell_type": "code",
      "metadata": {
        "colab": {
          "base_uri": "https://localhost:8080/"
        },
        "id": "8v2FB5RKXpOx",
        "outputId": "9cbbaa69-a4c1-4a6b-a383-cef5e6f29279"
      },
      "source": [
        "airports.isnull().any()"
      ],
      "execution_count": 22,
      "outputs": [
        {
          "output_type": "execute_result",
          "data": {
            "text/plain": [
              "รหัสสนามบิน    False\n",
              "เมือง          False\n",
              "รัฐ            False\n",
              "ชื่อสนามบิน    False\n",
              "dtype: bool"
            ]
          },
          "metadata": {},
          "execution_count": 22
        }
      ]
    },
    {
      "cell_type": "markdown",
      "metadata": {
        "id": "-ka8CsrBW1Un"
      },
      "source": [
        "**จากการตรวจสอบค่า Missing พบว่า ไม่มีค่าไหนในตารางที่มีช่องว่างเลย**\n"
      ]
    },
    {
      "cell_type": "markdown",
      "metadata": {
        "id": "guaoo-V5YMgK"
      },
      "source": [
        "#รวมตารางเข้าด้วยกัน "
      ]
    },
    {
      "cell_type": "code",
      "metadata": {
        "id": "4uz_ui1zYMyO"
      },
      "source": [
        "merged_table = flights.merge(airports,how='left',left_on='รหัสสนามบินต้นทาง',right_on='รหัสสนามบิน') #เราจะเชื่อมกันด้วย รหัสสนามบินต้นทางกับรหัสสนามบิน"
      ],
      "execution_count": 23,
      "outputs": []
    },
    {
      "cell_type": "code",
      "metadata": {
        "colab": {
          "base_uri": "https://localhost:8080/",
          "height": 528
        },
        "id": "957Gxk_4Yy4t",
        "outputId": "9e3ec821-abf5-4058-d6fb-3ae9b0d9d7da"
      },
      "source": [
        "merged_table"
      ],
      "execution_count": 24,
      "outputs": [
        {
          "output_type": "execute_result",
          "data": {
            "text/html": [
              "<div>\n",
              "<style scoped>\n",
              "    .dataframe tbody tr th:only-of-type {\n",
              "        vertical-align: middle;\n",
              "    }\n",
              "\n",
              "    .dataframe tbody tr th {\n",
              "        vertical-align: top;\n",
              "    }\n",
              "\n",
              "    .dataframe thead th {\n",
              "        text-align: right;\n",
              "    }\n",
              "</style>\n",
              "<table border=\"1\" class=\"dataframe\">\n",
              "  <thead>\n",
              "    <tr style=\"text-align: right;\">\n",
              "      <th></th>\n",
              "      <th>วันในเดือน</th>\n",
              "      <th>วันในสัปดาห์</th>\n",
              "      <th>สายการบิน</th>\n",
              "      <th>รหัสสนามบินต้นทาง</th>\n",
              "      <th>รหัสสนามบินปลายทาง</th>\n",
              "      <th>ความล่าช้าขาออก</th>\n",
              "      <th>ความล่าช้าขาเข้า</th>\n",
              "      <th>รหัสสนามบิน</th>\n",
              "      <th>เมือง</th>\n",
              "      <th>รัฐ</th>\n",
              "      <th>ชื่อสนามบิน</th>\n",
              "    </tr>\n",
              "  </thead>\n",
              "  <tbody>\n",
              "    <tr>\n",
              "      <th>0</th>\n",
              "      <td>19</td>\n",
              "      <td>5</td>\n",
              "      <td>DL</td>\n",
              "      <td>11433</td>\n",
              "      <td>13303</td>\n",
              "      <td>-3</td>\n",
              "      <td>1</td>\n",
              "      <td>11433</td>\n",
              "      <td>Detroit</td>\n",
              "      <td>MI</td>\n",
              "      <td>Detroit Metro Wayne County</td>\n",
              "    </tr>\n",
              "    <tr>\n",
              "      <th>1</th>\n",
              "      <td>19</td>\n",
              "      <td>5</td>\n",
              "      <td>DL</td>\n",
              "      <td>14869</td>\n",
              "      <td>12478</td>\n",
              "      <td>0</td>\n",
              "      <td>-8</td>\n",
              "      <td>14869</td>\n",
              "      <td>Salt Lake City</td>\n",
              "      <td>UT</td>\n",
              "      <td>Salt Lake City International</td>\n",
              "    </tr>\n",
              "    <tr>\n",
              "      <th>2</th>\n",
              "      <td>19</td>\n",
              "      <td>5</td>\n",
              "      <td>DL</td>\n",
              "      <td>14057</td>\n",
              "      <td>14869</td>\n",
              "      <td>-4</td>\n",
              "      <td>-15</td>\n",
              "      <td>14057</td>\n",
              "      <td>Portland</td>\n",
              "      <td>OR</td>\n",
              "      <td>Portland International</td>\n",
              "    </tr>\n",
              "    <tr>\n",
              "      <th>3</th>\n",
              "      <td>19</td>\n",
              "      <td>5</td>\n",
              "      <td>DL</td>\n",
              "      <td>15016</td>\n",
              "      <td>11433</td>\n",
              "      <td>28</td>\n",
              "      <td>24</td>\n",
              "      <td>15016</td>\n",
              "      <td>St. Louis</td>\n",
              "      <td>MO</td>\n",
              "      <td>Lambert-St. Louis International</td>\n",
              "    </tr>\n",
              "    <tr>\n",
              "      <th>4</th>\n",
              "      <td>19</td>\n",
              "      <td>5</td>\n",
              "      <td>DL</td>\n",
              "      <td>11193</td>\n",
              "      <td>12892</td>\n",
              "      <td>-6</td>\n",
              "      <td>-11</td>\n",
              "      <td>11193</td>\n",
              "      <td>Cincinnati</td>\n",
              "      <td>OH</td>\n",
              "      <td>Cincinnati/Northern Kentucky International</td>\n",
              "    </tr>\n",
              "    <tr>\n",
              "      <th>...</th>\n",
              "      <td>...</td>\n",
              "      <td>...</td>\n",
              "      <td>...</td>\n",
              "      <td>...</td>\n",
              "      <td>...</td>\n",
              "      <td>...</td>\n",
              "      <td>...</td>\n",
              "      <td>...</td>\n",
              "      <td>...</td>\n",
              "      <td>...</td>\n",
              "      <td>...</td>\n",
              "    </tr>\n",
              "    <tr>\n",
              "      <th>2702213</th>\n",
              "      <td>19</td>\n",
              "      <td>6</td>\n",
              "      <td>DL</td>\n",
              "      <td>13204</td>\n",
              "      <td>14869</td>\n",
              "      <td>1</td>\n",
              "      <td>-3</td>\n",
              "      <td>13204</td>\n",
              "      <td>Orlando</td>\n",
              "      <td>FL</td>\n",
              "      <td>Orlando International</td>\n",
              "    </tr>\n",
              "    <tr>\n",
              "      <th>2702214</th>\n",
              "      <td>19</td>\n",
              "      <td>6</td>\n",
              "      <td>DL</td>\n",
              "      <td>10397</td>\n",
              "      <td>13495</td>\n",
              "      <td>-2</td>\n",
              "      <td>-3</td>\n",
              "      <td>10397</td>\n",
              "      <td>Atlanta</td>\n",
              "      <td>GA</td>\n",
              "      <td>Hartsfield-Jackson Atlanta International</td>\n",
              "    </tr>\n",
              "    <tr>\n",
              "      <th>2702215</th>\n",
              "      <td>19</td>\n",
              "      <td>6</td>\n",
              "      <td>DL</td>\n",
              "      <td>10140</td>\n",
              "      <td>10397</td>\n",
              "      <td>18</td>\n",
              "      <td>9</td>\n",
              "      <td>10140</td>\n",
              "      <td>Albuquerque</td>\n",
              "      <td>NM</td>\n",
              "      <td>Albuquerque International Sunport</td>\n",
              "    </tr>\n",
              "    <tr>\n",
              "      <th>2702216</th>\n",
              "      <td>19</td>\n",
              "      <td>6</td>\n",
              "      <td>DL</td>\n",
              "      <td>10397</td>\n",
              "      <td>13244</td>\n",
              "      <td>10</td>\n",
              "      <td>7</td>\n",
              "      <td>10397</td>\n",
              "      <td>Atlanta</td>\n",
              "      <td>GA</td>\n",
              "      <td>Hartsfield-Jackson Atlanta International</td>\n",
              "    </tr>\n",
              "    <tr>\n",
              "      <th>2702217</th>\n",
              "      <td>19</td>\n",
              "      <td>6</td>\n",
              "      <td>DL</td>\n",
              "      <td>10397</td>\n",
              "      <td>13487</td>\n",
              "      <td>0</td>\n",
              "      <td>-13</td>\n",
              "      <td>10397</td>\n",
              "      <td>Atlanta</td>\n",
              "      <td>GA</td>\n",
              "      <td>Hartsfield-Jackson Atlanta International</td>\n",
              "    </tr>\n",
              "  </tbody>\n",
              "</table>\n",
              "<p>2702218 rows × 11 columns</p>\n",
              "</div>"
            ],
            "text/plain": [
              "         วันในเดือน  ...                                 ชื่อสนามบิน\n",
              "0                19  ...                  Detroit Metro Wayne County\n",
              "1                19  ...                Salt Lake City International\n",
              "2                19  ...                      Portland International\n",
              "3                19  ...             Lambert-St. Louis International\n",
              "4                19  ...  Cincinnati/Northern Kentucky International\n",
              "...             ...  ...                                         ...\n",
              "2702213          19  ...                       Orlando International\n",
              "2702214          19  ...    Hartsfield-Jackson Atlanta International\n",
              "2702215          19  ...           Albuquerque International Sunport\n",
              "2702216          19  ...    Hartsfield-Jackson Atlanta International\n",
              "2702217          19  ...    Hartsfield-Jackson Atlanta International\n",
              "\n",
              "[2702218 rows x 11 columns]"
            ]
          },
          "metadata": {},
          "execution_count": 24
        }
      ]
    },
    {
      "cell_type": "markdown",
      "metadata": {
        "id": "0nAmd2l3aYSt"
      },
      "source": [
        "#ข้อที่ 4 สายการบินอะไรมีความล่าช้ามากที่สุดและน้อยที่สุด"
      ]
    },
    {
      "cell_type": "markdown",
      "metadata": {
        "id": "Ss0Z915Qm8an"
      },
      "source": [
        "กรณี เป็นขาออก(สนามบินปลายทาง)\n",
        "\n"
      ]
    },
    {
      "cell_type": "code",
      "metadata": {
        "colab": {
          "base_uri": "https://localhost:8080/"
        },
        "id": "FWa752m7acn2",
        "outputId": "fd19e07f-0f3f-4985-abb6-f9c1eeae429a"
      },
      "source": [
        "merged_table['ความล่าช้าขาออก'].max() # 1863 คือค่าที่มากที่สุดในตารางความล่าช้าขาออก"
      ],
      "execution_count": 25,
      "outputs": [
        {
          "output_type": "execute_result",
          "data": {
            "text/plain": [
              "1863"
            ]
          },
          "metadata": {},
          "execution_count": 25
        }
      ]
    },
    {
      "cell_type": "code",
      "metadata": {
        "colab": {
          "base_uri": "https://localhost:8080/",
          "height": 112
        },
        "id": "U6HFosuwbBKN",
        "outputId": "abbe72b6-7862-4141-bf1c-4dbed12441bd"
      },
      "source": [
        "max = merged_table.groupby('สายการบิน').max().sort_values(by=['ความล่าช้าขาออก'],ascending=False)\n",
        "max.iloc[:1,4:5] # หาว่าสายการบินไหนมีความล่าช้ามากที่สุด "
      ],
      "execution_count": 66,
      "outputs": [
        {
          "output_type": "execute_result",
          "data": {
            "text/html": [
              "<div>\n",
              "<style scoped>\n",
              "    .dataframe tbody tr th:only-of-type {\n",
              "        vertical-align: middle;\n",
              "    }\n",
              "\n",
              "    .dataframe tbody tr th {\n",
              "        vertical-align: top;\n",
              "    }\n",
              "\n",
              "    .dataframe thead th {\n",
              "        text-align: right;\n",
              "    }\n",
              "</style>\n",
              "<table border=\"1\" class=\"dataframe\">\n",
              "  <thead>\n",
              "    <tr style=\"text-align: right;\">\n",
              "      <th></th>\n",
              "      <th>ความล่าช้าขาออก</th>\n",
              "    </tr>\n",
              "    <tr>\n",
              "      <th>สายการบิน</th>\n",
              "      <th></th>\n",
              "    </tr>\n",
              "  </thead>\n",
              "  <tbody>\n",
              "    <tr>\n",
              "      <th>AA</th>\n",
              "      <td>1863</td>\n",
              "    </tr>\n",
              "  </tbody>\n",
              "</table>\n",
              "</div>"
            ],
            "text/plain": [
              "           ความล่าช้าขาออก\n",
              "สายการบิน                 \n",
              "AA                    1863"
            ]
          },
          "metadata": {},
          "execution_count": 66
        }
      ]
    },
    {
      "cell_type": "code",
      "metadata": {
        "colab": {
          "base_uri": "https://localhost:8080/"
        },
        "id": "pnqkPjN-cdFe",
        "outputId": "839cbf39-ae18-4453-c74d-805f05f4a185"
      },
      "source": [
        "merged_table['ความล่าช้าขาออก'].min() # -63 คือค่าที่น้อยที่สุดในตารางความล่าช้าขาออก"
      ],
      "execution_count": 51,
      "outputs": [
        {
          "output_type": "execute_result",
          "data": {
            "text/plain": [
              "-63"
            ]
          },
          "metadata": {},
          "execution_count": 51
        }
      ]
    },
    {
      "cell_type": "code",
      "metadata": {
        "colab": {
          "base_uri": "https://localhost:8080/",
          "height": 112
        },
        "id": "45LzBns8cnVn",
        "outputId": "0ffaca13-ad0a-4fc9-cd65-d7433f2efdaf"
      },
      "source": [
        "min = merged_table.groupby('สายการบิน').min().sort_values(by=['ความล่าช้าขาออก'],ascending=False)\n",
        "min.iloc[-1:,4:5] #หาว่าสายการบินไหนมีความล่าช้าน้อยที่สุด "
      ],
      "execution_count": 67,
      "outputs": [
        {
          "output_type": "execute_result",
          "data": {
            "text/html": [
              "<div>\n",
              "<style scoped>\n",
              "    .dataframe tbody tr th:only-of-type {\n",
              "        vertical-align: middle;\n",
              "    }\n",
              "\n",
              "    .dataframe tbody tr th {\n",
              "        vertical-align: top;\n",
              "    }\n",
              "\n",
              "    .dataframe thead th {\n",
              "        text-align: right;\n",
              "    }\n",
              "</style>\n",
              "<table border=\"1\" class=\"dataframe\">\n",
              "  <thead>\n",
              "    <tr style=\"text-align: right;\">\n",
              "      <th></th>\n",
              "      <th>ความล่าช้าขาออก</th>\n",
              "    </tr>\n",
              "    <tr>\n",
              "      <th>สายการบิน</th>\n",
              "      <th></th>\n",
              "    </tr>\n",
              "  </thead>\n",
              "  <tbody>\n",
              "    <tr>\n",
              "      <th>F9</th>\n",
              "      <td>-63</td>\n",
              "    </tr>\n",
              "  </tbody>\n",
              "</table>\n",
              "</div>"
            ],
            "text/plain": [
              "           ความล่าช้าขาออก\n",
              "สายการบิน                 \n",
              "F9                     -63"
            ]
          },
          "metadata": {},
          "execution_count": 67
        }
      ]
    },
    {
      "cell_type": "markdown",
      "metadata": {
        "id": "OdJwkLoVnU53"
      },
      "source": [
        "กรณีเป็นต้นทาง(สนามบินต้นทาง)"
      ]
    },
    {
      "cell_type": "code",
      "metadata": {
        "colab": {
          "base_uri": "https://localhost:8080/"
        },
        "id": "lwDDMTkdnZok",
        "outputId": "90da0bd9-4f65-4890-9ebd-5b3afaf48f1f"
      },
      "source": [
        "merged_table['ความล่าช้าขาเข้า'].max() # 1863 คือค่าที่มากที่สุดในตารางความล่าช้าขาเข้า"
      ],
      "execution_count": 68,
      "outputs": [
        {
          "output_type": "execute_result",
          "data": {
            "text/plain": [
              "1845"
            ]
          },
          "metadata": {},
          "execution_count": 68
        }
      ]
    },
    {
      "cell_type": "code",
      "metadata": {
        "colab": {
          "base_uri": "https://localhost:8080/",
          "height": 112
        },
        "id": "_S5JFoF6nfeu",
        "outputId": "1c157be1-9f9f-4191-ce93-74b93ce4e870"
      },
      "source": [
        "max = merged_table.groupby('สายการบิน').max().sort_values(by=['ความล่าช้าขาเข้า'],ascending=False)\n",
        "max.iloc[:1,5:6] # หาว่าสายการบินไหนมีความล่าช้ามากที่สุด "
      ],
      "execution_count": 71,
      "outputs": [
        {
          "output_type": "execute_result",
          "data": {
            "text/html": [
              "<div>\n",
              "<style scoped>\n",
              "    .dataframe tbody tr th:only-of-type {\n",
              "        vertical-align: middle;\n",
              "    }\n",
              "\n",
              "    .dataframe tbody tr th {\n",
              "        vertical-align: top;\n",
              "    }\n",
              "\n",
              "    .dataframe thead th {\n",
              "        text-align: right;\n",
              "    }\n",
              "</style>\n",
              "<table border=\"1\" class=\"dataframe\">\n",
              "  <thead>\n",
              "    <tr style=\"text-align: right;\">\n",
              "      <th></th>\n",
              "      <th>ความล่าช้าขาเข้า</th>\n",
              "    </tr>\n",
              "    <tr>\n",
              "      <th>สายการบิน</th>\n",
              "      <th></th>\n",
              "    </tr>\n",
              "  </thead>\n",
              "  <tbody>\n",
              "    <tr>\n",
              "      <th>HA</th>\n",
              "      <td>1845</td>\n",
              "    </tr>\n",
              "  </tbody>\n",
              "</table>\n",
              "</div>"
            ],
            "text/plain": [
              "           ความล่าช้าขาเข้า\n",
              "สายการบิน                  \n",
              "HA                     1845"
            ]
          },
          "metadata": {},
          "execution_count": 71
        }
      ]
    },
    {
      "cell_type": "code",
      "metadata": {
        "colab": {
          "base_uri": "https://localhost:8080/"
        },
        "id": "MYNGUKYDnx64",
        "outputId": "05ba594b-453b-4358-9290-62c72e21cad9"
      },
      "source": [
        "merged_table['ความล่าช้าขาเข้า'].min() # -63 คือค่าที่น้อยที่สุดในตารางความล่าช้าขาเข้า"
      ],
      "execution_count": 73,
      "outputs": [
        {
          "output_type": "execute_result",
          "data": {
            "text/plain": [
              "-94"
            ]
          },
          "metadata": {},
          "execution_count": 73
        }
      ]
    },
    {
      "cell_type": "code",
      "metadata": {
        "colab": {
          "base_uri": "https://localhost:8080/",
          "height": 112
        },
        "id": "W-KEKuhWn3ND",
        "outputId": "5ca1b280-a618-4403-c97c-3a25756db285"
      },
      "source": [
        "min = merged_table.groupby('สายการบิน').min().sort_values(by=['ความล่าช้าขาออก'],ascending=False)\n",
        "min.iloc[-1:,5:6] #หาว่าสายการบินไหนมีความล่าช้าน้อยที่สุด "
      ],
      "execution_count": 74,
      "outputs": [
        {
          "output_type": "execute_result",
          "data": {
            "text/html": [
              "<div>\n",
              "<style scoped>\n",
              "    .dataframe tbody tr th:only-of-type {\n",
              "        vertical-align: middle;\n",
              "    }\n",
              "\n",
              "    .dataframe tbody tr th {\n",
              "        vertical-align: top;\n",
              "    }\n",
              "\n",
              "    .dataframe thead th {\n",
              "        text-align: right;\n",
              "    }\n",
              "</style>\n",
              "<table border=\"1\" class=\"dataframe\">\n",
              "  <thead>\n",
              "    <tr style=\"text-align: right;\">\n",
              "      <th></th>\n",
              "      <th>ความล่าช้าขาเข้า</th>\n",
              "    </tr>\n",
              "    <tr>\n",
              "      <th>สายการบิน</th>\n",
              "      <th></th>\n",
              "    </tr>\n",
              "  </thead>\n",
              "  <tbody>\n",
              "    <tr>\n",
              "      <th>F9</th>\n",
              "      <td>-59</td>\n",
              "    </tr>\n",
              "  </tbody>\n",
              "</table>\n",
              "</div>"
            ],
            "text/plain": [
              "           ความล่าช้าขาเข้า\n",
              "สายการบิน                  \n",
              "F9                      -59"
            ]
          },
          "metadata": {},
          "execution_count": 74
        }
      ]
    },
    {
      "cell_type": "markdown",
      "metadata": {
        "id": "JMHRyyRgoGLI"
      },
      "source": [
        "**ตอบ สนามบินต้นทางที่มีความล่าช้ามากที่สุดคือสายการบิน HA น้อยที่สุดคือสายการบิน F9 \\\n",
        "สนามบินปลายทางที่มีความล่าช้ามากที่สุดคือสายการบิน AA น้อยที่สุดคือสายการบิน F9**\n",
        "\n",
        "*   รายการในลิสต์\n",
        "*   รายการในลิสต์\n",
        "\n"
      ]
    },
    {
      "cell_type": "markdown",
      "metadata": {
        "id": "JTxPHsaNoB2U"
      },
      "source": [
        "## ข้อที่  1 หารัฐที่มีจำนวนเครื่องบินขาออกมากที่สุดและน้อยที่สุด"
      ]
    },
    {
      "cell_type": "code",
      "metadata": {
        "colab": {
          "base_uri": "https://localhost:8080/",
          "height": 1000
        },
        "id": "oaXm1Ad-pbjQ",
        "outputId": "a2999c99-4aa7-4ed6-df82-96df06e84507"
      },
      "source": [
        "merged_table.groupby('รัฐ').count()  ### จำนวนเที่ยวบินในแต่ละรัฐ"
      ],
      "execution_count": 75,
      "outputs": [
        {
          "output_type": "execute_result",
          "data": {
            "text/html": [
              "<div>\n",
              "<style scoped>\n",
              "    .dataframe tbody tr th:only-of-type {\n",
              "        vertical-align: middle;\n",
              "    }\n",
              "\n",
              "    .dataframe tbody tr th {\n",
              "        vertical-align: top;\n",
              "    }\n",
              "\n",
              "    .dataframe thead th {\n",
              "        text-align: right;\n",
              "    }\n",
              "</style>\n",
              "<table border=\"1\" class=\"dataframe\">\n",
              "  <thead>\n",
              "    <tr style=\"text-align: right;\">\n",
              "      <th></th>\n",
              "      <th>วันในเดือน</th>\n",
              "      <th>วันในสัปดาห์</th>\n",
              "      <th>สายการบิน</th>\n",
              "      <th>รหัสสนามบินต้นทาง</th>\n",
              "      <th>รหัสสนามบินปลายทาง</th>\n",
              "      <th>ความล่าช้าขาออก</th>\n",
              "      <th>ความล่าช้าขาเข้า</th>\n",
              "      <th>รหัสสนามบิน</th>\n",
              "      <th>เมือง</th>\n",
              "      <th>ชื่อสนามบิน</th>\n",
              "    </tr>\n",
              "    <tr>\n",
              "      <th>รัฐ</th>\n",
              "      <th></th>\n",
              "      <th></th>\n",
              "      <th></th>\n",
              "      <th></th>\n",
              "      <th></th>\n",
              "      <th></th>\n",
              "      <th></th>\n",
              "      <th></th>\n",
              "      <th></th>\n",
              "      <th></th>\n",
              "    </tr>\n",
              "  </thead>\n",
              "  <tbody>\n",
              "    <tr>\n",
              "      <th>AK</th>\n",
              "      <td>7700</td>\n",
              "      <td>7700</td>\n",
              "      <td>7700</td>\n",
              "      <td>7700</td>\n",
              "      <td>7700</td>\n",
              "      <td>7700</td>\n",
              "      <td>7700</td>\n",
              "      <td>7700</td>\n",
              "      <td>7700</td>\n",
              "      <td>7700</td>\n",
              "    </tr>\n",
              "    <tr>\n",
              "      <th>AZ</th>\n",
              "      <td>100710</td>\n",
              "      <td>100710</td>\n",
              "      <td>100710</td>\n",
              "      <td>100710</td>\n",
              "      <td>100710</td>\n",
              "      <td>100710</td>\n",
              "      <td>100710</td>\n",
              "      <td>100710</td>\n",
              "      <td>100710</td>\n",
              "      <td>100710</td>\n",
              "    </tr>\n",
              "    <tr>\n",
              "      <th>CA</th>\n",
              "      <td>380046</td>\n",
              "      <td>380046</td>\n",
              "      <td>380046</td>\n",
              "      <td>380046</td>\n",
              "      <td>380046</td>\n",
              "      <td>380046</td>\n",
              "      <td>380046</td>\n",
              "      <td>380046</td>\n",
              "      <td>380046</td>\n",
              "      <td>380046</td>\n",
              "    </tr>\n",
              "    <tr>\n",
              "      <th>CO</th>\n",
              "      <td>97259</td>\n",
              "      <td>97259</td>\n",
              "      <td>97259</td>\n",
              "      <td>97259</td>\n",
              "      <td>97259</td>\n",
              "      <td>97259</td>\n",
              "      <td>97259</td>\n",
              "      <td>97259</td>\n",
              "      <td>97259</td>\n",
              "      <td>97259</td>\n",
              "    </tr>\n",
              "    <tr>\n",
              "      <th>CT</th>\n",
              "      <td>13042</td>\n",
              "      <td>13042</td>\n",
              "      <td>13042</td>\n",
              "      <td>13042</td>\n",
              "      <td>13042</td>\n",
              "      <td>13042</td>\n",
              "      <td>13042</td>\n",
              "      <td>13042</td>\n",
              "      <td>13042</td>\n",
              "      <td>13042</td>\n",
              "    </tr>\n",
              "    <tr>\n",
              "      <th>DC</th>\n",
              "      <td>80536</td>\n",
              "      <td>80536</td>\n",
              "      <td>80536</td>\n",
              "      <td>80536</td>\n",
              "      <td>80536</td>\n",
              "      <td>80536</td>\n",
              "      <td>80536</td>\n",
              "      <td>80536</td>\n",
              "      <td>80536</td>\n",
              "      <td>80536</td>\n",
              "    </tr>\n",
              "    <tr>\n",
              "      <th>FL</th>\n",
              "      <td>208139</td>\n",
              "      <td>208139</td>\n",
              "      <td>208139</td>\n",
              "      <td>208139</td>\n",
              "      <td>208139</td>\n",
              "      <td>208139</td>\n",
              "      <td>208139</td>\n",
              "      <td>208139</td>\n",
              "      <td>208139</td>\n",
              "      <td>208139</td>\n",
              "    </tr>\n",
              "    <tr>\n",
              "      <th>GA</th>\n",
              "      <td>148563</td>\n",
              "      <td>148563</td>\n",
              "      <td>148563</td>\n",
              "      <td>148563</td>\n",
              "      <td>148563</td>\n",
              "      <td>148563</td>\n",
              "      <td>148563</td>\n",
              "      <td>148563</td>\n",
              "      <td>148563</td>\n",
              "      <td>148563</td>\n",
              "    </tr>\n",
              "    <tr>\n",
              "      <th>HI</th>\n",
              "      <td>28395</td>\n",
              "      <td>28395</td>\n",
              "      <td>28395</td>\n",
              "      <td>28395</td>\n",
              "      <td>28395</td>\n",
              "      <td>28395</td>\n",
              "      <td>28395</td>\n",
              "      <td>28395</td>\n",
              "      <td>28395</td>\n",
              "      <td>28395</td>\n",
              "    </tr>\n",
              "    <tr>\n",
              "      <th>IL</th>\n",
              "      <td>176939</td>\n",
              "      <td>176939</td>\n",
              "      <td>176939</td>\n",
              "      <td>176939</td>\n",
              "      <td>176939</td>\n",
              "      <td>176939</td>\n",
              "      <td>176939</td>\n",
              "      <td>176939</td>\n",
              "      <td>176939</td>\n",
              "      <td>176939</td>\n",
              "    </tr>\n",
              "    <tr>\n",
              "      <th>IN</th>\n",
              "      <td>18038</td>\n",
              "      <td>18038</td>\n",
              "      <td>18038</td>\n",
              "      <td>18038</td>\n",
              "      <td>18038</td>\n",
              "      <td>18038</td>\n",
              "      <td>18038</td>\n",
              "      <td>18038</td>\n",
              "      <td>18038</td>\n",
              "      <td>18038</td>\n",
              "    </tr>\n",
              "    <tr>\n",
              "      <th>KY</th>\n",
              "      <td>10915</td>\n",
              "      <td>10915</td>\n",
              "      <td>10915</td>\n",
              "      <td>10915</td>\n",
              "      <td>10915</td>\n",
              "      <td>10915</td>\n",
              "      <td>10915</td>\n",
              "      <td>10915</td>\n",
              "      <td>10915</td>\n",
              "      <td>10915</td>\n",
              "    </tr>\n",
              "    <tr>\n",
              "      <th>LA</th>\n",
              "      <td>25184</td>\n",
              "      <td>25184</td>\n",
              "      <td>25184</td>\n",
              "      <td>25184</td>\n",
              "      <td>25184</td>\n",
              "      <td>25184</td>\n",
              "      <td>25184</td>\n",
              "      <td>25184</td>\n",
              "      <td>25184</td>\n",
              "      <td>25184</td>\n",
              "    </tr>\n",
              "    <tr>\n",
              "      <th>MA</th>\n",
              "      <td>66699</td>\n",
              "      <td>66699</td>\n",
              "      <td>66699</td>\n",
              "      <td>66699</td>\n",
              "      <td>66699</td>\n",
              "      <td>66699</td>\n",
              "      <td>66699</td>\n",
              "      <td>66699</td>\n",
              "      <td>66699</td>\n",
              "      <td>66699</td>\n",
              "    </tr>\n",
              "    <tr>\n",
              "      <th>MD</th>\n",
              "      <td>51761</td>\n",
              "      <td>51761</td>\n",
              "      <td>51761</td>\n",
              "      <td>51761</td>\n",
              "      <td>51761</td>\n",
              "      <td>51761</td>\n",
              "      <td>51761</td>\n",
              "      <td>51761</td>\n",
              "      <td>51761</td>\n",
              "      <td>51761</td>\n",
              "    </tr>\n",
              "    <tr>\n",
              "      <th>MI</th>\n",
              "      <td>62584</td>\n",
              "      <td>62584</td>\n",
              "      <td>62584</td>\n",
              "      <td>62584</td>\n",
              "      <td>62584</td>\n",
              "      <td>62584</td>\n",
              "      <td>62584</td>\n",
              "      <td>62584</td>\n",
              "      <td>62584</td>\n",
              "      <td>62584</td>\n",
              "    </tr>\n",
              "    <tr>\n",
              "      <th>MN</th>\n",
              "      <td>60174</td>\n",
              "      <td>60174</td>\n",
              "      <td>60174</td>\n",
              "      <td>60174</td>\n",
              "      <td>60174</td>\n",
              "      <td>60174</td>\n",
              "      <td>60174</td>\n",
              "      <td>60174</td>\n",
              "      <td>60174</td>\n",
              "      <td>60174</td>\n",
              "    </tr>\n",
              "    <tr>\n",
              "      <th>MO</th>\n",
              "      <td>63570</td>\n",
              "      <td>63570</td>\n",
              "      <td>63570</td>\n",
              "      <td>63570</td>\n",
              "      <td>63570</td>\n",
              "      <td>63570</td>\n",
              "      <td>63570</td>\n",
              "      <td>63570</td>\n",
              "      <td>63570</td>\n",
              "      <td>63570</td>\n",
              "    </tr>\n",
              "    <tr>\n",
              "      <th>NC</th>\n",
              "      <td>104766</td>\n",
              "      <td>104766</td>\n",
              "      <td>104766</td>\n",
              "      <td>104766</td>\n",
              "      <td>104766</td>\n",
              "      <td>104766</td>\n",
              "      <td>104766</td>\n",
              "      <td>104766</td>\n",
              "      <td>104766</td>\n",
              "      <td>104766</td>\n",
              "    </tr>\n",
              "    <tr>\n",
              "      <th>NE</th>\n",
              "      <td>13487</td>\n",
              "      <td>13487</td>\n",
              "      <td>13487</td>\n",
              "      <td>13487</td>\n",
              "      <td>13487</td>\n",
              "      <td>13487</td>\n",
              "      <td>13487</td>\n",
              "      <td>13487</td>\n",
              "      <td>13487</td>\n",
              "      <td>13487</td>\n",
              "    </tr>\n",
              "    <tr>\n",
              "      <th>NJ</th>\n",
              "      <td>64313</td>\n",
              "      <td>64313</td>\n",
              "      <td>64313</td>\n",
              "      <td>64313</td>\n",
              "      <td>64313</td>\n",
              "      <td>64313</td>\n",
              "      <td>64313</td>\n",
              "      <td>64313</td>\n",
              "      <td>64313</td>\n",
              "      <td>64313</td>\n",
              "    </tr>\n",
              "    <tr>\n",
              "      <th>NM</th>\n",
              "      <td>17542</td>\n",
              "      <td>17542</td>\n",
              "      <td>17542</td>\n",
              "      <td>17542</td>\n",
              "      <td>17542</td>\n",
              "      <td>17542</td>\n",
              "      <td>17542</td>\n",
              "      <td>17542</td>\n",
              "      <td>17542</td>\n",
              "      <td>17542</td>\n",
              "    </tr>\n",
              "    <tr>\n",
              "      <th>NV</th>\n",
              "      <td>88222</td>\n",
              "      <td>88222</td>\n",
              "      <td>88222</td>\n",
              "      <td>88222</td>\n",
              "      <td>88222</td>\n",
              "      <td>88222</td>\n",
              "      <td>88222</td>\n",
              "      <td>88222</td>\n",
              "      <td>88222</td>\n",
              "      <td>88222</td>\n",
              "    </tr>\n",
              "    <tr>\n",
              "      <th>NY</th>\n",
              "      <td>132823</td>\n",
              "      <td>132823</td>\n",
              "      <td>132823</td>\n",
              "      <td>132823</td>\n",
              "      <td>132823</td>\n",
              "      <td>132823</td>\n",
              "      <td>132823</td>\n",
              "      <td>132823</td>\n",
              "      <td>132823</td>\n",
              "      <td>132823</td>\n",
              "    </tr>\n",
              "    <tr>\n",
              "      <th>OH</th>\n",
              "      <td>66389</td>\n",
              "      <td>66389</td>\n",
              "      <td>66389</td>\n",
              "      <td>66389</td>\n",
              "      <td>66389</td>\n",
              "      <td>66389</td>\n",
              "      <td>66389</td>\n",
              "      <td>66389</td>\n",
              "      <td>66389</td>\n",
              "      <td>66389</td>\n",
              "    </tr>\n",
              "    <tr>\n",
              "      <th>OK</th>\n",
              "      <td>13922</td>\n",
              "      <td>13922</td>\n",
              "      <td>13922</td>\n",
              "      <td>13922</td>\n",
              "      <td>13922</td>\n",
              "      <td>13922</td>\n",
              "      <td>13922</td>\n",
              "      <td>13922</td>\n",
              "      <td>13922</td>\n",
              "      <td>13922</td>\n",
              "    </tr>\n",
              "    <tr>\n",
              "      <th>OR</th>\n",
              "      <td>30484</td>\n",
              "      <td>30484</td>\n",
              "      <td>30484</td>\n",
              "      <td>30484</td>\n",
              "      <td>30484</td>\n",
              "      <td>30484</td>\n",
              "      <td>30484</td>\n",
              "      <td>30484</td>\n",
              "      <td>30484</td>\n",
              "      <td>30484</td>\n",
              "    </tr>\n",
              "    <tr>\n",
              "      <th>PA</th>\n",
              "      <td>67957</td>\n",
              "      <td>67957</td>\n",
              "      <td>67957</td>\n",
              "      <td>67957</td>\n",
              "      <td>67957</td>\n",
              "      <td>67957</td>\n",
              "      <td>67957</td>\n",
              "      <td>67957</td>\n",
              "      <td>67957</td>\n",
              "      <td>67957</td>\n",
              "    </tr>\n",
              "    <tr>\n",
              "      <th>PR</th>\n",
              "      <td>13840</td>\n",
              "      <td>13840</td>\n",
              "      <td>13840</td>\n",
              "      <td>13840</td>\n",
              "      <td>13840</td>\n",
              "      <td>13840</td>\n",
              "      <td>13840</td>\n",
              "      <td>13840</td>\n",
              "      <td>13840</td>\n",
              "      <td>13840</td>\n",
              "    </tr>\n",
              "    <tr>\n",
              "      <th>RI</th>\n",
              "      <td>9313</td>\n",
              "      <td>9313</td>\n",
              "      <td>9313</td>\n",
              "      <td>9313</td>\n",
              "      <td>9313</td>\n",
              "      <td>9313</td>\n",
              "      <td>9313</td>\n",
              "      <td>9313</td>\n",
              "      <td>9313</td>\n",
              "      <td>9313</td>\n",
              "    </tr>\n",
              "    <tr>\n",
              "      <th>TN</th>\n",
              "      <td>53414</td>\n",
              "      <td>53414</td>\n",
              "      <td>53414</td>\n",
              "      <td>53414</td>\n",
              "      <td>53414</td>\n",
              "      <td>53414</td>\n",
              "      <td>53414</td>\n",
              "      <td>53414</td>\n",
              "      <td>53414</td>\n",
              "      <td>53414</td>\n",
              "    </tr>\n",
              "    <tr>\n",
              "      <th>TX</th>\n",
              "      <td>275503</td>\n",
              "      <td>275503</td>\n",
              "      <td>275503</td>\n",
              "      <td>275503</td>\n",
              "      <td>275503</td>\n",
              "      <td>275503</td>\n",
              "      <td>275503</td>\n",
              "      <td>275503</td>\n",
              "      <td>275503</td>\n",
              "      <td>275503</td>\n",
              "    </tr>\n",
              "    <tr>\n",
              "      <th>UT</th>\n",
              "      <td>47324</td>\n",
              "      <td>47324</td>\n",
              "      <td>47324</td>\n",
              "      <td>47324</td>\n",
              "      <td>47324</td>\n",
              "      <td>47324</td>\n",
              "      <td>47324</td>\n",
              "      <td>47324</td>\n",
              "      <td>47324</td>\n",
              "      <td>47324</td>\n",
              "    </tr>\n",
              "    <tr>\n",
              "      <th>VA</th>\n",
              "      <td>21491</td>\n",
              "      <td>21491</td>\n",
              "      <td>21491</td>\n",
              "      <td>21491</td>\n",
              "      <td>21491</td>\n",
              "      <td>21491</td>\n",
              "      <td>21491</td>\n",
              "      <td>21491</td>\n",
              "      <td>21491</td>\n",
              "      <td>21491</td>\n",
              "    </tr>\n",
              "    <tr>\n",
              "      <th>WA</th>\n",
              "      <td>60172</td>\n",
              "      <td>60172</td>\n",
              "      <td>60172</td>\n",
              "      <td>60172</td>\n",
              "      <td>60172</td>\n",
              "      <td>60172</td>\n",
              "      <td>60172</td>\n",
              "      <td>60172</td>\n",
              "      <td>60172</td>\n",
              "      <td>60172</td>\n",
              "    </tr>\n",
              "    <tr>\n",
              "      <th>WI</th>\n",
              "      <td>21002</td>\n",
              "      <td>21002</td>\n",
              "      <td>21002</td>\n",
              "      <td>21002</td>\n",
              "      <td>21002</td>\n",
              "      <td>21002</td>\n",
              "      <td>21002</td>\n",
              "      <td>21002</td>\n",
              "      <td>21002</td>\n",
              "      <td>21002</td>\n",
              "    </tr>\n",
              "  </tbody>\n",
              "</table>\n",
              "</div>"
            ],
            "text/plain": [
              "     วันในเดือน  วันในสัปดาห์  สายการบิน  ...  รหัสสนามบิน   เมือง  ชื่อสนามบิน\n",
              "รัฐ                                       ...                                  \n",
              "AK         7700          7700       7700  ...         7700    7700         7700\n",
              "AZ       100710        100710     100710  ...       100710  100710       100710\n",
              "CA       380046        380046     380046  ...       380046  380046       380046\n",
              "CO        97259         97259      97259  ...        97259   97259        97259\n",
              "CT        13042         13042      13042  ...        13042   13042        13042\n",
              "DC        80536         80536      80536  ...        80536   80536        80536\n",
              "FL       208139        208139     208139  ...       208139  208139       208139\n",
              "GA       148563        148563     148563  ...       148563  148563       148563\n",
              "HI        28395         28395      28395  ...        28395   28395        28395\n",
              "IL       176939        176939     176939  ...       176939  176939       176939\n",
              "IN        18038         18038      18038  ...        18038   18038        18038\n",
              "KY        10915         10915      10915  ...        10915   10915        10915\n",
              "LA        25184         25184      25184  ...        25184   25184        25184\n",
              "MA        66699         66699      66699  ...        66699   66699        66699\n",
              "MD        51761         51761      51761  ...        51761   51761        51761\n",
              "MI        62584         62584      62584  ...        62584   62584        62584\n",
              "MN        60174         60174      60174  ...        60174   60174        60174\n",
              "MO        63570         63570      63570  ...        63570   63570        63570\n",
              "NC       104766        104766     104766  ...       104766  104766       104766\n",
              "NE        13487         13487      13487  ...        13487   13487        13487\n",
              "NJ        64313         64313      64313  ...        64313   64313        64313\n",
              "NM        17542         17542      17542  ...        17542   17542        17542\n",
              "NV        88222         88222      88222  ...        88222   88222        88222\n",
              "NY       132823        132823     132823  ...       132823  132823       132823\n",
              "OH        66389         66389      66389  ...        66389   66389        66389\n",
              "OK        13922         13922      13922  ...        13922   13922        13922\n",
              "OR        30484         30484      30484  ...        30484   30484        30484\n",
              "PA        67957         67957      67957  ...        67957   67957        67957\n",
              "PR        13840         13840      13840  ...        13840   13840        13840\n",
              "RI         9313          9313       9313  ...         9313    9313         9313\n",
              "TN        53414         53414      53414  ...        53414   53414        53414\n",
              "TX       275503        275503     275503  ...       275503  275503       275503\n",
              "UT        47324         47324      47324  ...        47324   47324        47324\n",
              "VA        21491         21491      21491  ...        21491   21491        21491\n",
              "WA        60172         60172      60172  ...        60172   60172        60172\n",
              "WI        21002         21002      21002  ...        21002   21002        21002\n",
              "\n",
              "[36 rows x 10 columns]"
            ]
          },
          "metadata": {},
          "execution_count": 75
        }
      ]
    },
    {
      "cell_type": "code",
      "metadata": {
        "colab": {
          "base_uri": "https://localhost:8080/",
          "height": 112
        },
        "id": "pXBhG0-6pdlp",
        "outputId": "c4e23bb4-72d9-4c3b-c9df-aad1c5f4e3d4"
      },
      "source": [
        "max = merged_table.groupby('รัฐ').count().sort_values(by=['รหัสสนามบินปลายทาง'],ascending=False)  ## ใช้รัฐเชื่อมกับสนามบินปลายทางเนื่องจากเป็นขาออก เลือกค่าที่มากที่สุด\n",
        "max.iloc[:1,4:5]"
      ],
      "execution_count": 76,
      "outputs": [
        {
          "output_type": "execute_result",
          "data": {
            "text/html": [
              "<div>\n",
              "<style scoped>\n",
              "    .dataframe tbody tr th:only-of-type {\n",
              "        vertical-align: middle;\n",
              "    }\n",
              "\n",
              "    .dataframe tbody tr th {\n",
              "        vertical-align: top;\n",
              "    }\n",
              "\n",
              "    .dataframe thead th {\n",
              "        text-align: right;\n",
              "    }\n",
              "</style>\n",
              "<table border=\"1\" class=\"dataframe\">\n",
              "  <thead>\n",
              "    <tr style=\"text-align: right;\">\n",
              "      <th></th>\n",
              "      <th>รหัสสนามบินปลายทาง</th>\n",
              "    </tr>\n",
              "    <tr>\n",
              "      <th>รัฐ</th>\n",
              "      <th></th>\n",
              "    </tr>\n",
              "  </thead>\n",
              "  <tbody>\n",
              "    <tr>\n",
              "      <th>CA</th>\n",
              "      <td>380046</td>\n",
              "    </tr>\n",
              "  </tbody>\n",
              "</table>\n",
              "</div>"
            ],
            "text/plain": [
              "     รหัสสนามบินปลายทาง\n",
              "รัฐ                    \n",
              "CA               380046"
            ]
          },
          "metadata": {},
          "execution_count": 76
        }
      ]
    },
    {
      "cell_type": "code",
      "metadata": {
        "colab": {
          "base_uri": "https://localhost:8080/",
          "height": 112
        },
        "id": "KBE0Perbo22B",
        "outputId": "3383d4b4-248d-4418-f0d3-2c1a1e48b640"
      },
      "source": [
        "min = merged_table.groupby('รัฐ').count().sort_values(by=['รหัสสนามบินปลายทาง'],ascending=False) ## ## ใช้รัฐเชื่อมกับสนามบินปลายทางเนื่องจากเป็นขาออก เลือกค่าที่น้อยที่สุด\n",
        "min.iloc[-1:,4:5]"
      ],
      "execution_count": 77,
      "outputs": [
        {
          "output_type": "execute_result",
          "data": {
            "text/html": [
              "<div>\n",
              "<style scoped>\n",
              "    .dataframe tbody tr th:only-of-type {\n",
              "        vertical-align: middle;\n",
              "    }\n",
              "\n",
              "    .dataframe tbody tr th {\n",
              "        vertical-align: top;\n",
              "    }\n",
              "\n",
              "    .dataframe thead th {\n",
              "        text-align: right;\n",
              "    }\n",
              "</style>\n",
              "<table border=\"1\" class=\"dataframe\">\n",
              "  <thead>\n",
              "    <tr style=\"text-align: right;\">\n",
              "      <th></th>\n",
              "      <th>รหัสสนามบินปลายทาง</th>\n",
              "    </tr>\n",
              "    <tr>\n",
              "      <th>รัฐ</th>\n",
              "      <th></th>\n",
              "    </tr>\n",
              "  </thead>\n",
              "  <tbody>\n",
              "    <tr>\n",
              "      <th>AK</th>\n",
              "      <td>7700</td>\n",
              "    </tr>\n",
              "  </tbody>\n",
              "</table>\n",
              "</div>"
            ],
            "text/plain": [
              "     รหัสสนามบินปลายทาง\n",
              "รัฐ                    \n",
              "AK                 7700"
            ]
          },
          "metadata": {},
          "execution_count": 77
        }
      ]
    },
    {
      "cell_type": "markdown",
      "metadata": {
        "id": "ia-VhLyxqbnY"
      },
      "source": [
        "**ตอบ รัฐที่มีจำนวนเครื่องบินขาออกมากที่สุด คือ รัฐ CA และน้อยที่สุด คือรัฐ AK**"
      ]
    },
    {
      "cell_type": "code",
      "metadata": {
        "id": "gBAHHRp1qr_n"
      },
      "source": [
        ""
      ],
      "execution_count": null,
      "outputs": []
    }
  ]
}