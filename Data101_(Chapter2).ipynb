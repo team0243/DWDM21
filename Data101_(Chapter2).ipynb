{
  "nbformat": 4,
  "nbformat_minor": 0,
  "metadata": {
    "colab": {
      "name": "Data101 (Chapter2).ipynb",
      "provenance": [],
      "include_colab_link": true
    },
    "kernelspec": {
      "name": "python3",
      "display_name": "Python 3"
    },
    "language_info": {
      "name": "python"
    }
  },
  "cells": [
    {
      "cell_type": "markdown",
      "metadata": {
        "id": "view-in-github",
        "colab_type": "text"
      },
      "source": [
        "<a href=\"https://colab.research.google.com/github/team0243/DWDM21/blob/main/Data101_(Chapter2).ipynb\" target=\"_parent\"><img src=\"https://colab.research.google.com/assets/colab-badge.svg\" alt=\"Open In Colab\"/></a>"
      ]
    },
    {
      "cell_type": "markdown",
      "metadata": {
        "id": "mY7zoM8S0CVN"
      },
      "source": [
        "ข้อความที่อยู่ใน Textbox จะเป็นภาษา markdown"
      ]
    },
    {
      "cell_type": "markdown",
      "metadata": {
        "id": "MIYllvGyt6Z-"
      },
      "source": [
        "ข้อดีหนึ่งของ Python คือี package สำหรับการทำงานต่างๆมากมาย\n",
        "\n",
        "ซึ่ง pandas เป็น package สำหรับการทำงานกับข้อมูลที่อยู่ในรูปแบบตาราง\n",
        "\n",
        "โดย pandas จะเรียกตารางนั้นว่า dataframe"
      ]
    },
    {
      "cell_type": "code",
      "metadata": {
        "id": "L1EKAgpmsXh-"
      },
      "source": [
        "import pandas  #เรียกใช้ package โดยการ import ต่อด้วยชื่อ package"
      ],
      "execution_count": 1,
      "outputs": []
    },
    {
      "cell_type": "code",
      "metadata": {
        "id": "d7fgc_UEtOrn"
      },
      "source": [
        "import pandas as pd  #เป็นการ import เหมือนกัน แต่เปลี่ยนการตั้งชื่อให้ package ที่โหลดมาใหม่ว่า pd"
      ],
      "execution_count": 2,
      "outputs": []
    },
    {
      "cell_type": "markdown",
      "metadata": {
        "id": "flActA3Nu7Dj"
      },
      "source": [
        "ไฟล์ .csv (CSV = comma separated values) เป็นไฟล์หลักที่จะต้องใช้ในวิชานี้\n",
        "\n"
      ]
    },
    {
      "cell_type": "code",
      "metadata": {
        "id": "iBpf-8BjuryQ"
      },
      "source": [
        "data_df = pd.read_csv('data.csv')    #ใช้คำสั่งเพื่อนำ data เข้ามา"
      ],
      "execution_count": 4,
      "outputs": []
    },
    {
      "cell_type": "code",
      "metadata": {
        "colab": {
          "base_uri": "https://localhost:8080/",
          "height": 142
        },
        "id": "jGZENUloxb5H",
        "outputId": "6f280d22-3e45-4b17-ee81-0a26e38e3850"
      },
      "source": [
        "\n",
        "data_df   #เรียกดู data"
      ],
      "execution_count": null,
      "outputs": [
        {
          "output_type": "execute_result",
          "data": {
            "text/html": [
              "<div>\n",
              "<style scoped>\n",
              "    .dataframe tbody tr th:only-of-type {\n",
              "        vertical-align: middle;\n",
              "    }\n",
              "\n",
              "    .dataframe tbody tr th {\n",
              "        vertical-align: top;\n",
              "    }\n",
              "\n",
              "    .dataframe thead th {\n",
              "        text-align: right;\n",
              "    }\n",
              "</style>\n",
              "<table border=\"1\" class=\"dataframe\">\n",
              "  <thead>\n",
              "    <tr style=\"text-align: right;\">\n",
              "      <th></th>\n",
              "      <th>name</th>\n",
              "      <th>age</th>\n",
              "      <th>city</th>\n",
              "    </tr>\n",
              "  </thead>\n",
              "  <tbody>\n",
              "    <tr>\n",
              "      <th>0</th>\n",
              "      <td>Tom</td>\n",
              "      <td>27</td>\n",
              "      <td>Khon Kaen</td>\n",
              "    </tr>\n",
              "    <tr>\n",
              "      <th>1</th>\n",
              "      <td>Paul</td>\n",
              "      <td>15</td>\n",
              "      <td>Bangkok</td>\n",
              "    </tr>\n",
              "    <tr>\n",
              "      <th>2</th>\n",
              "      <td>Sarah</td>\n",
              "      <td>49</td>\n",
              "      <td>London</td>\n",
              "    </tr>\n",
              "  </tbody>\n",
              "</table>\n",
              "</div>"
            ],
            "text/plain": [
              "    name  age       city\n",
              "0    Tom   27  Khon Kaen\n",
              "1   Paul   15    Bangkok\n",
              "2  Sarah   49     London"
            ]
          },
          "metadata": {
            "tags": []
          },
          "execution_count": 107
        }
      ]
    },
    {
      "cell_type": "code",
      "metadata": {
        "colab": {
          "base_uri": "https://localhost:8080/",
          "height": 142
        },
        "id": "aV_1sh7IxdpO",
        "outputId": "84f04c7d-ee4d-435a-d0c7-4c2057a5e00f"
      },
      "source": [
        "data_df2 = pandas.read_csv('data.csv')\n",
        "data_df2"
      ],
      "execution_count": null,
      "outputs": [
        {
          "output_type": "execute_result",
          "data": {
            "text/html": [
              "<div>\n",
              "<style scoped>\n",
              "    .dataframe tbody tr th:only-of-type {\n",
              "        vertical-align: middle;\n",
              "    }\n",
              "\n",
              "    .dataframe tbody tr th {\n",
              "        vertical-align: top;\n",
              "    }\n",
              "\n",
              "    .dataframe thead th {\n",
              "        text-align: right;\n",
              "    }\n",
              "</style>\n",
              "<table border=\"1\" class=\"dataframe\">\n",
              "  <thead>\n",
              "    <tr style=\"text-align: right;\">\n",
              "      <th></th>\n",
              "      <th>name</th>\n",
              "      <th>age</th>\n",
              "      <th>city</th>\n",
              "    </tr>\n",
              "  </thead>\n",
              "  <tbody>\n",
              "    <tr>\n",
              "      <th>0</th>\n",
              "      <td>Tom</td>\n",
              "      <td>27</td>\n",
              "      <td>Khon Kaen</td>\n",
              "    </tr>\n",
              "    <tr>\n",
              "      <th>1</th>\n",
              "      <td>Paul</td>\n",
              "      <td>15</td>\n",
              "      <td>Bangkok</td>\n",
              "    </tr>\n",
              "    <tr>\n",
              "      <th>2</th>\n",
              "      <td>Sarah</td>\n",
              "      <td>49</td>\n",
              "      <td>London</td>\n",
              "    </tr>\n",
              "  </tbody>\n",
              "</table>\n",
              "</div>"
            ],
            "text/plain": [
              "    name  age       city\n",
              "0    Tom   27  Khon Kaen\n",
              "1   Paul   15    Bangkok\n",
              "2  Sarah   49     London"
            ]
          },
          "metadata": {
            "tags": []
          },
          "execution_count": 106
        }
      ]
    },
    {
      "cell_type": "markdown",
      "metadata": {
        "id": "V-6qjLTBy0Ri"
      },
      "source": [
        "# Basic Python\n",
        "##variable"
      ]
    },
    {
      "cell_type": "markdown",
      "metadata": {
        "id": "jVeoZHqm1yzg"
      },
      "source": [
        "\n",
        "\n",
        "\n",
        "ข้อกำหนดในการตั้งชื่อตัวแปร\n",
        "\n",
        "1. ชื่อห้ามมีเว้นวรรค\n",
        "2. (พยายาม)ใช้ภาษาอังกฤษ\n",
        "3. ตัวเล็กตัวใหญ่แตกต่างกัน (case sensitive)\n",
        "4. ห้ามใช้ตัวเลขเป็นตัวหน้า"
      ]
    },
    {
      "cell_type": "code",
      "metadata": {
        "id": "jCQcNyocyfNG"
      },
      "source": [
        "variable_a = 12          #สร้างตัวแปลใส่เลข 12 แบบไม่มี quote จะเป็นตัวเลข\n",
        "variable_b = 'abcde'   # ' เรียกว่า quote\n",
        "variable_c = variable_a   #ค่าของ variable_c เท่่ากับ ค่าของ variable_a"
      ],
      "execution_count": null,
      "outputs": []
    },
    {
      "cell_type": "code",
      "metadata": {
        "colab": {
          "base_uri": "https://localhost:8080/"
        },
        "id": "g4wv0CdU0ulA",
        "outputId": "4cbe4e23-3cdf-4c97-ab88-66fee8ea5e8f"
      },
      "source": [
        "\n",
        "\n",
        "variable_a"
      ],
      "execution_count": null,
      "outputs": [
        {
          "output_type": "execute_result",
          "data": {
            "text/plain": [
              "12"
            ]
          },
          "metadata": {
            "tags": []
          },
          "execution_count": 86
        }
      ]
    },
    {
      "cell_type": "code",
      "metadata": {
        "colab": {
          "base_uri": "https://localhost:8080/",
          "height": 34
        },
        "id": "gfbmILDW1ZNF",
        "outputId": "8c18be9f-f2f5-48df-ca67-9bd7098b4542"
      },
      "source": [
        "variable_b"
      ],
      "execution_count": null,
      "outputs": [
        {
          "output_type": "execute_result",
          "data": {
            "application/vnd.google.colaboratory.intrinsic+json": {
              "type": "string"
            },
            "text/plain": [
              "'abcde'"
            ]
          },
          "metadata": {
            "tags": []
          },
          "execution_count": 87
        }
      ]
    },
    {
      "cell_type": "code",
      "metadata": {
        "colab": {
          "base_uri": "https://localhost:8080/"
        },
        "id": "ZDpOT7Lu1qSX",
        "outputId": "21e03f22-385a-4938-953f-18c908e7239d"
      },
      "source": [
        "variable_c"
      ],
      "execution_count": null,
      "outputs": [
        {
          "output_type": "execute_result",
          "data": {
            "text/plain": [
              "12"
            ]
          },
          "metadata": {
            "tags": []
          },
          "execution_count": 88
        }
      ]
    },
    {
      "cell_type": "code",
      "metadata": {
        "colab": {
          "base_uri": "https://localhost:8080/",
          "height": 130
        },
        "id": "fax7ORZT1sQn",
        "outputId": "0fdd273d-73ee-48a7-d8d7-af0f01c67f80"
      },
      "source": [
        "# ชื่อห้ามมีเว้นวรรค\n",
        "variable a = 6"
      ],
      "execution_count": 6,
      "outputs": [
        {
          "output_type": "error",
          "ename": "SyntaxError",
          "evalue": "ignored",
          "traceback": [
            "\u001b[0;36m  File \u001b[0;32m\"<ipython-input-6-126f7ab49866>\"\u001b[0;36m, line \u001b[0;32m2\u001b[0m\n\u001b[0;31m    variable a = 6\u001b[0m\n\u001b[0m             ^\u001b[0m\n\u001b[0;31mSyntaxError\u001b[0m\u001b[0;31m:\u001b[0m invalid syntax\n"
          ]
        }
      ]
    },
    {
      "cell_type": "code",
      "metadata": {
        "id": "9dBZ5cCN2Vkr",
        "colab": {
          "base_uri": "https://localhost:8080/"
        },
        "outputId": "efbae6c1-af6c-4179-fca6-11e09ad933ef"
      },
      "source": [
        "# พยายามใช้ภาษาอังกฤษ\n",
        "# colab ใช้ภาษาไทยเป็นชื่อตัวแปรได้แต่ไม่ควรใช้\n",
        "ตัวแปร = 3           \n",
        "ตัวแปร"
      ],
      "execution_count": 7,
      "outputs": [
        {
          "output_type": "execute_result",
          "data": {
            "text/plain": [
              "3"
            ]
          },
          "metadata": {
            "tags": []
          },
          "execution_count": 7
        }
      ]
    },
    {
      "cell_type": "code",
      "metadata": {
        "colab": {
          "base_uri": "https://localhost:8080/"
        },
        "id": "fgrVK56f2dW8",
        "outputId": "31295f7b-068c-4b44-c1e1-ca030fe3f05f"
      },
      "source": [
        "# ตัวเล็กกับตัวใหญ่ต่างกัน (case sensitive)\n",
        "v_a = 1\n",
        "V_a = 2\n",
        "print(v_a)\n",
        "print(V_a)"
      ],
      "execution_count": 8,
      "outputs": [
        {
          "output_type": "stream",
          "text": [
            "1\n",
            "2\n"
          ],
          "name": "stdout"
        }
      ]
    },
    {
      "cell_type": "code",
      "metadata": {
        "colab": {
          "base_uri": "https://localhost:8080/",
          "height": 130
        },
        "id": "T7XxLMaQ3DqD",
        "outputId": "9f1b95fc-b97c-4ec2-83ed-ce871e6299c4"
      },
      "source": [
        "# ห้ามใช้ตัวเลขเป็นตัวหน้า\n",
        "2 = 1"
      ],
      "execution_count": 9,
      "outputs": [
        {
          "output_type": "error",
          "ename": "SyntaxError",
          "evalue": "ignored",
          "traceback": [
            "\u001b[0;36m  File \u001b[0;32m\"<ipython-input-9-24eb8a2ec18c>\"\u001b[0;36m, line \u001b[0;32m2\u001b[0m\n\u001b[0;31m    2 = 1\u001b[0m\n\u001b[0m         ^\u001b[0m\n\u001b[0;31mSyntaxError\u001b[0m\u001b[0;31m:\u001b[0m can't assign to literal\n"
          ]
        }
      ]
    },
    {
      "cell_type": "code",
      "metadata": {
        "id": "mjCTJexM34i5",
        "colab": {
          "base_uri": "https://localhost:8080/",
          "height": 130
        },
        "outputId": "edd64b12-34d5-4786-a089-197c94865d72"
      },
      "source": [
        "# ห้ามใช้ตัวเลขเป็นตัวหน้า\n",
        "2ab = 1"
      ],
      "execution_count": 10,
      "outputs": [
        {
          "output_type": "error",
          "ename": "SyntaxError",
          "evalue": "ignored",
          "traceback": [
            "\u001b[0;36m  File \u001b[0;32m\"<ipython-input-10-4a1c88deec89>\"\u001b[0;36m, line \u001b[0;32m2\u001b[0m\n\u001b[0;31m    2ab = 1\u001b[0m\n\u001b[0m      ^\u001b[0m\n\u001b[0;31mSyntaxError\u001b[0m\u001b[0;31m:\u001b[0m invalid syntax\n"
          ]
        }
      ]
    },
    {
      "cell_type": "code",
      "metadata": {
        "id": "_9V1gtfb4Agd"
      },
      "source": [
        "# ห้ามใช้ตัวเลขเป็นตัวหน้า\n",
        "variable = 1"
      ],
      "execution_count": 11,
      "outputs": []
    },
    {
      "cell_type": "code",
      "metadata": {
        "colab": {
          "base_uri": "https://localhost:8080/"
        },
        "id": "K4EQwFub4EXn",
        "outputId": "3b6714a0-7b8b-40b4-ca5c-d833fb9cd87e"
      },
      "source": [
        "print(variable)"
      ],
      "execution_count": 12,
      "outputs": [
        {
          "output_type": "stream",
          "text": [
            "1\n"
          ],
          "name": "stdout"
        }
      ]
    },
    {
      "cell_type": "code",
      "metadata": {
        "id": "DXTJYxeq4Gak"
      },
      "source": [
        "variable_a = 12          #สร้างตัวแปลใส่เลข 12 แบบไม่มี quote จะเป็นตัวเลข\n",
        "variable_b = 'abcde'   # ' เรียกว่า quote\n",
        "variable_c = variable_a   #ค่าของ variable_c เท่่ากับ ค่าของ variable_a\n",
        "variable_d = -41.2\n",
        "variable_4 = \"KKU\"  # \" เรียกว่า double quote"
      ],
      "execution_count": 13,
      "outputs": []
    },
    {
      "cell_type": "code",
      "metadata": {
        "id": "E1dE4Q9k4r6Y",
        "colab": {
          "base_uri": "https://localhost:8080/"
        },
        "outputId": "f3f1a919-1370-4f9c-ce1b-55bd9410c8a4"
      },
      "source": [
        "variable_x =  variable_c + variable_d\n",
        "print(variable_x)"
      ],
      "execution_count": 14,
      "outputs": [
        {
          "output_type": "stream",
          "text": [
            "-29.200000000000003\n"
          ],
          "name": "stdout"
        }
      ]
    },
    {
      "cell_type": "code",
      "metadata": {
        "id": "Y-dl3slk46iT",
        "colab": {
          "base_uri": "https://localhost:8080/"
        },
        "outputId": "98423396-d0c4-4893-fa23-c7b830889d32"
      },
      "source": [
        "variable_x"
      ],
      "execution_count": 15,
      "outputs": [
        {
          "output_type": "execute_result",
          "data": {
            "text/plain": [
              "-29.200000000000003"
            ]
          },
          "metadata": {
            "tags": []
          },
          "execution_count": 15
        }
      ]
    },
    {
      "cell_type": "code",
      "metadata": {
        "colab": {
          "base_uri": "https://localhost:8080/",
          "height": 198
        },
        "id": "HQdtVR5J5AK1",
        "outputId": "bde9c7a1-e9af-4f7e-f095-bb0091238292"
      },
      "source": [
        "\n",
        "\n",
        "variable_a + variable_b"
      ],
      "execution_count": 16,
      "outputs": [
        {
          "output_type": "error",
          "ename": "TypeError",
          "evalue": "ignored",
          "traceback": [
            "\u001b[0;31m---------------------------------------------------------------------------\u001b[0m",
            "\u001b[0;31mTypeError\u001b[0m                                 Traceback (most recent call last)",
            "\u001b[0;32m<ipython-input-16-f614847bdafb>\u001b[0m in \u001b[0;36m<module>\u001b[0;34m()\u001b[0m\n\u001b[1;32m      1\u001b[0m \u001b[0;34m\u001b[0m\u001b[0m\n\u001b[1;32m      2\u001b[0m \u001b[0;34m\u001b[0m\u001b[0m\n\u001b[0;32m----> 3\u001b[0;31m \u001b[0mvariable_a\u001b[0m \u001b[0;34m+\u001b[0m \u001b[0mvariable_b\u001b[0m\u001b[0;34m\u001b[0m\u001b[0;34m\u001b[0m\u001b[0m\n\u001b[0m",
            "\u001b[0;31mTypeError\u001b[0m: unsupported operand type(s) for +: 'int' and 'str'"
          ]
        }
      ]
    },
    {
      "cell_type": "code",
      "metadata": {
        "id": "0wY586Ny6Zpa",
        "colab": {
          "base_uri": "https://localhost:8080/"
        },
        "outputId": "93818856-a04f-4321-8846-ad53ef99d6f2"
      },
      "source": [
        "print(variable_b + variable_4)  # print สามารถพิมพ์อะไรก็ได้ลงไปใน ()"
      ],
      "execution_count": 17,
      "outputs": [
        {
          "output_type": "stream",
          "text": [
            "abcdeKKU\n"
          ],
          "name": "stdout"
        }
      ]
    },
    {
      "cell_type": "markdown",
      "metadata": {
        "id": "5-Yq5iBh7PZ0"
      },
      "source": [
        "# Casting int() str()\n",
        "\n",
        "- เปลี่ยนชนิดของตัวแปรได้"
      ]
    },
    {
      "cell_type": "code",
      "metadata": {
        "colab": {
          "base_uri": "https://localhost:8080/"
        },
        "id": "nZbwQiBa6xqe",
        "outputId": "a9e05003-cfcd-4bce-abd2-c555c38bba09"
      },
      "source": [
        "print(variable_x)            # เปลี่ยนให้เป็นจำนวนเต็ม ตอนแรกเป็น float เป็น int\n",
        "print(int(variable_x))"
      ],
      "execution_count": 18,
      "outputs": [
        {
          "output_type": "stream",
          "text": [
            "-29.200000000000003\n",
            "-29\n"
          ],
          "name": "stdout"
        }
      ]
    },
    {
      "cell_type": "code",
      "metadata": {
        "id": "2KcTkHkC7m-Q",
        "colab": {
          "base_uri": "https://localhost:8080/"
        },
        "outputId": "2f6479e5-e60d-40f2-8906-24f4d618ca43"
      },
      "source": [
        "V_X = str(variable_x)\n",
        "print(V_X)"
      ],
      "execution_count": 19,
      "outputs": [
        {
          "output_type": "stream",
          "text": [
            "-29.200000000000003\n"
          ],
          "name": "stdout"
        }
      ]
    },
    {
      "cell_type": "code",
      "metadata": {
        "colab": {
          "base_uri": "https://localhost:8080/",
          "height": 164
        },
        "id": "Zbi9lXrT8ELu",
        "outputId": "3074017d-753a-48db-b2c8-4843e3c83a61"
      },
      "source": [
        "V_X + variable_a"
      ],
      "execution_count": 20,
      "outputs": [
        {
          "output_type": "error",
          "ename": "TypeError",
          "evalue": "ignored",
          "traceback": [
            "\u001b[0;31m---------------------------------------------------------------------------\u001b[0m",
            "\u001b[0;31mTypeError\u001b[0m                                 Traceback (most recent call last)",
            "\u001b[0;32m<ipython-input-20-d83c0918f5c6>\u001b[0m in \u001b[0;36m<module>\u001b[0;34m()\u001b[0m\n\u001b[0;32m----> 1\u001b[0;31m \u001b[0mV_X\u001b[0m \u001b[0;34m+\u001b[0m \u001b[0mvariable_a\u001b[0m\u001b[0;34m\u001b[0m\u001b[0;34m\u001b[0m\u001b[0m\n\u001b[0m",
            "\u001b[0;31mTypeError\u001b[0m: can only concatenate str (not \"int\") to str"
          ]
        }
      ]
    },
    {
      "cell_type": "code",
      "metadata": {
        "id": "Lws0dfj28HiH",
        "colab": {
          "base_uri": "https://localhost:8080/",
          "height": 164
        },
        "outputId": "577fcfec-e470-4de7-875f-56f04090adba"
      },
      "source": [
        "variable_a + V_X"
      ],
      "execution_count": 21,
      "outputs": [
        {
          "output_type": "error",
          "ename": "TypeError",
          "evalue": "ignored",
          "traceback": [
            "\u001b[0;31m---------------------------------------------------------------------------\u001b[0m",
            "\u001b[0;31mTypeError\u001b[0m                                 Traceback (most recent call last)",
            "\u001b[0;32m<ipython-input-21-9c7fa6bc8848>\u001b[0m in \u001b[0;36m<module>\u001b[0;34m()\u001b[0m\n\u001b[0;32m----> 1\u001b[0;31m \u001b[0mvariable_a\u001b[0m \u001b[0;34m+\u001b[0m \u001b[0mV_X\u001b[0m\u001b[0;34m\u001b[0m\u001b[0;34m\u001b[0m\u001b[0m\n\u001b[0m",
            "\u001b[0;31mTypeError\u001b[0m: unsupported operand type(s) for +: 'int' and 'str'"
          ]
        }
      ]
    },
    {
      "cell_type": "code",
      "metadata": {
        "id": "zYcN2xfw8LpB",
        "colab": {
          "base_uri": "https://localhost:8080/",
          "height": 34
        },
        "outputId": "1c9874fe-f32e-443a-ac16-3e2a54d10fea"
      },
      "source": [
        "V_X "
      ],
      "execution_count": 22,
      "outputs": [
        {
          "output_type": "execute_result",
          "data": {
            "application/vnd.google.colaboratory.intrinsic+json": {
              "type": "string"
            },
            "text/plain": [
              "'-29.200000000000003'"
            ]
          },
          "metadata": {
            "tags": []
          },
          "execution_count": 22
        }
      ]
    },
    {
      "cell_type": "code",
      "metadata": {
        "colab": {
          "base_uri": "https://localhost:8080/"
        },
        "id": "rEDBTPRX8llR",
        "outputId": "0f0cc929-3a02-4353-9b02-227f5cfc2f80"
      },
      "source": [
        "float(V_X)"
      ],
      "execution_count": 23,
      "outputs": [
        {
          "output_type": "execute_result",
          "data": {
            "text/plain": [
              "-29.200000000000003"
            ]
          },
          "metadata": {
            "tags": []
          },
          "execution_count": 23
        }
      ]
    },
    {
      "cell_type": "markdown",
      "metadata": {
        "id": "wNxPjGp79DUl"
      },
      "source": [
        "## Data Structure\n",
        "### list()"
      ]
    },
    {
      "cell_type": "code",
      "metadata": {
        "id": "suwgFEOm80GT"
      },
      "source": [
        "list_a = [1,2,0.2,'abs' ]  # [ ] square brackets\n",
        "list_b = [2,'xyz',list_a,[1,2,0.0]]"
      ],
      "execution_count": 24,
      "outputs": []
    },
    {
      "cell_type": "code",
      "metadata": {
        "colab": {
          "base_uri": "https://localhost:8080/"
        },
        "id": "Xkd2roSh-Ely",
        "outputId": "6b381ae4-6e4b-46bb-c38e-c7ed0b5887b8"
      },
      "source": [
        "list_a"
      ],
      "execution_count": 25,
      "outputs": [
        {
          "output_type": "execute_result",
          "data": {
            "text/plain": [
              "[1, 2, 0.2, 'abs']"
            ]
          },
          "metadata": {
            "tags": []
          },
          "execution_count": 25
        }
      ]
    },
    {
      "cell_type": "code",
      "metadata": {
        "colab": {
          "base_uri": "https://localhost:8080/"
        },
        "id": "wgG-cpY--Glb",
        "outputId": "3caebe95-b1b1-4c85-8088-708d5318c1d6"
      },
      "source": [
        "\n",
        "list_b"
      ],
      "execution_count": 26,
      "outputs": [
        {
          "output_type": "execute_result",
          "data": {
            "text/plain": [
              "[2, 'xyz', [1, 2, 0.2, 'abs'], [1, 2, 0.0]]"
            ]
          },
          "metadata": {
            "tags": []
          },
          "execution_count": 26
        }
      ]
    },
    {
      "cell_type": "code",
      "metadata": {
        "colab": {
          "base_uri": "https://localhost:8080/"
        },
        "id": "ky2JOPu_-c1q",
        "outputId": "17447cd7-7ab8-49c0-d2a3-f43b2c06dd7a"
      },
      "source": [
        "len(list_b)   # ดูว่าใน list_b มีสมาชิกกี่ตัว"
      ],
      "execution_count": 27,
      "outputs": [
        {
          "output_type": "execute_result",
          "data": {
            "text/plain": [
              "4"
            ]
          },
          "metadata": {
            "tags": []
          },
          "execution_count": 27
        }
      ]
    },
    {
      "cell_type": "code",
      "metadata": {
        "colab": {
          "base_uri": "https://localhost:8080/"
        },
        "id": "KoG7FUtW-ghh",
        "outputId": "256b17a3-a775-436a-db1a-5d6aa5ea8df8"
      },
      "source": [
        "list_b[3]"
      ],
      "execution_count": 28,
      "outputs": [
        {
          "output_type": "execute_result",
          "data": {
            "text/plain": [
              "[1, 2, 0.0]"
            ]
          },
          "metadata": {
            "tags": []
          },
          "execution_count": 28
        }
      ]
    },
    {
      "cell_type": "code",
      "metadata": {
        "colab": {
          "base_uri": "https://localhost:8080/"
        },
        "id": "yyaZE8nF-rjW",
        "outputId": "72a3f738-4204-400c-8044-dbfa7cbdbc9e"
      },
      "source": [
        "list_b[3][1]"
      ],
      "execution_count": 29,
      "outputs": [
        {
          "output_type": "execute_result",
          "data": {
            "text/plain": [
              "2"
            ]
          },
          "metadata": {
            "tags": []
          },
          "execution_count": 29
        }
      ]
    },
    {
      "cell_type": "markdown",
      "metadata": {
        "id": "ZWvYUMdM_HvM"
      },
      "source": [
        "string คือ list ของตัวหนังสือ"
      ]
    },
    {
      "cell_type": "code",
      "metadata": {
        "id": "nPFdQnCj-z6S"
      },
      "source": [
        "a = 'Stat KKU'"
      ],
      "execution_count": 30,
      "outputs": []
    },
    {
      "cell_type": "code",
      "metadata": {
        "colab": {
          "base_uri": "https://localhost:8080/",
          "height": 34
        },
        "id": "vjsZpLAZ_RvJ",
        "outputId": "c1500e71-953b-4b95-f585-8b86ec6bab55"
      },
      "source": [
        "a[4]"
      ],
      "execution_count": 31,
      "outputs": [
        {
          "output_type": "execute_result",
          "data": {
            "application/vnd.google.colaboratory.intrinsic+json": {
              "type": "string"
            },
            "text/plain": [
              "' '"
            ]
          },
          "metadata": {
            "tags": []
          },
          "execution_count": 31
        }
      ]
    },
    {
      "cell_type": "markdown",
      "metadata": {
        "id": "e6sVKcOG_yUq"
      },
      "source": [
        "# วิธีการสร้าง list ว่าง"
      ]
    },
    {
      "cell_type": "code",
      "metadata": {
        "id": "PhWogOv7_VKS"
      },
      "source": [
        "list_c = list()  #แบบที่ 1\n",
        "list_d = []      #แบบที่ 2"
      ],
      "execution_count": 32,
      "outputs": []
    },
    {
      "cell_type": "code",
      "metadata": {
        "colab": {
          "base_uri": "https://localhost:8080/"
        },
        "id": "zTl8w5ByAFNp",
        "outputId": "42a5e7d7-bb93-470c-9faf-07bb6f2a016b"
      },
      "source": [
        "list_c"
      ],
      "execution_count": 33,
      "outputs": [
        {
          "output_type": "execute_result",
          "data": {
            "text/plain": [
              "[]"
            ]
          },
          "metadata": {
            "tags": []
          },
          "execution_count": 33
        }
      ]
    },
    {
      "cell_type": "code",
      "metadata": {
        "colab": {
          "base_uri": "https://localhost:8080/"
        },
        "id": "pt_q-hjIAHCG",
        "outputId": "6594ef77-cdab-4caf-9b52-1312d0b65cff"
      },
      "source": [
        "list_d"
      ],
      "execution_count": 34,
      "outputs": [
        {
          "output_type": "execute_result",
          "data": {
            "text/plain": [
              "[]"
            ]
          },
          "metadata": {
            "tags": []
          },
          "execution_count": 34
        }
      ]
    },
    {
      "cell_type": "markdown",
      "metadata": {
        "id": "OPTQMYoXAqil"
      },
      "source": [
        "- เติมค่าลงไปใน list (.append())"
      ]
    },
    {
      "cell_type": "code",
      "metadata": {
        "id": "X9-X0oiwAI-W"
      },
      "source": [
        "list_d.append('a')"
      ],
      "execution_count": 35,
      "outputs": []
    },
    {
      "cell_type": "code",
      "metadata": {
        "colab": {
          "base_uri": "https://localhost:8080/"
        },
        "id": "6Twl18WZA432",
        "outputId": "3f515e82-dac4-4fa9-b655-671aa006a968"
      },
      "source": [
        "list_d"
      ],
      "execution_count": 36,
      "outputs": [
        {
          "output_type": "execute_result",
          "data": {
            "text/plain": [
              "['a']"
            ]
          },
          "metadata": {
            "tags": []
          },
          "execution_count": 36
        }
      ]
    },
    {
      "cell_type": "code",
      "metadata": {
        "id": "udpXQaMpA6Sm"
      },
      "source": [
        "list_d.append(56)"
      ],
      "execution_count": 37,
      "outputs": []
    },
    {
      "cell_type": "code",
      "metadata": {
        "colab": {
          "base_uri": "https://localhost:8080/"
        },
        "id": "G7ADR9VmBB5-",
        "outputId": "8206798b-b90f-4c06-82da-8976378b2d44"
      },
      "source": [
        "list_d"
      ],
      "execution_count": 38,
      "outputs": [
        {
          "output_type": "execute_result",
          "data": {
            "text/plain": [
              "['a', 56]"
            ]
          },
          "metadata": {
            "tags": []
          },
          "execution_count": 38
        }
      ]
    },
    {
      "cell_type": "markdown",
      "metadata": {
        "id": "-grZqRNdBQw0"
      },
      "source": [
        "### การชี้ค่าใน list (indexing)\n",
        "\n",
        "1. ใช้ลำดับในการชี้\n",
        "2. ลำดับเริ่มจาก 0\n",
        "3. สามารถชี้จากข้างหลังได้โดยใช้ negative index"
      ]
    },
    {
      "cell_type": "code",
      "metadata": {
        "colab": {
          "base_uri": "https://localhost:8080/"
        },
        "id": "_HM9XWKTBDFy",
        "outputId": "5c9511a9-4a64-4492-8eb0-32ceb6d92326"
      },
      "source": [
        "list_b"
      ],
      "execution_count": 39,
      "outputs": [
        {
          "output_type": "execute_result",
          "data": {
            "text/plain": [
              "[2, 'xyz', [1, 2, 0.2, 'abs'], [1, 2, 0.0]]"
            ]
          },
          "metadata": {
            "tags": []
          },
          "execution_count": 39
        }
      ]
    },
    {
      "cell_type": "code",
      "metadata": {
        "id": "wR1Cq0wUBp4r",
        "outputId": "46d8c3c1-203b-410f-8915-eae0f204557c",
        "colab": {
          "base_uri": "https://localhost:8080/"
        }
      },
      "source": [
        "list_b[-1]   #ชี้ค่าข้างหลังสุด"
      ],
      "execution_count": 40,
      "outputs": [
        {
          "output_type": "execute_result",
          "data": {
            "text/plain": [
              "[1, 2, 0.0]"
            ]
          },
          "metadata": {
            "tags": []
          },
          "execution_count": 40
        }
      ]
    },
    {
      "cell_type": "markdown",
      "metadata": {
        "id": "D810-ge9Cf07"
      },
      "source": [
        "## list slicing\n",
        "เราจะตัด list โดยเอาตั้งแต่ [ตัวหน้า: ตัวก่อนตัวหลัง] \\\n",
        "ถ้าเป็นสัญลักษณ์คณิตศาสตร์ [ตัวหน้า:ตัวหลัง] -> [ตัวหน้า,ตัวหลัง]"
      ]
    },
    {
      "cell_type": "code",
      "metadata": {
        "id": "wUVBJpzbBvif"
      },
      "source": [
        "list_ex = [1,2,3,5,6,8,-1,20,50,0]"
      ],
      "execution_count": 41,
      "outputs": []
    },
    {
      "cell_type": "code",
      "metadata": {
        "colab": {
          "base_uri": "https://localhost:8080/"
        },
        "id": "K_4gog6dCtWr",
        "outputId": "8704dc5c-f25d-4954-8f06-bebefe576f42"
      },
      "source": [
        "list_ex[1:6]   # : สัญลักษณ์ของ slicing\n",
        "                   # เราจะตัด list โดยเอาตั้งแต่ [ตัวหน้า: ตัวก่อนตัวหลัง]"
      ],
      "execution_count": 42,
      "outputs": [
        {
          "output_type": "execute_result",
          "data": {
            "text/plain": [
              "[2, 3, 5, 6, 8]"
            ]
          },
          "metadata": {
            "tags": []
          },
          "execution_count": 42
        }
      ]
    },
    {
      "cell_type": "code",
      "metadata": {
        "colab": {
          "base_uri": "https://localhost:8080/"
        },
        "id": "c3BUCFLxCxhZ",
        "outputId": "4777a0e0-0f8d-409f-c108-f995d25b7d16"
      },
      "source": [
        "list_ex[4:]"
      ],
      "execution_count": 43,
      "outputs": [
        {
          "output_type": "execute_result",
          "data": {
            "text/plain": [
              "[6, 8, -1, 20, 50, 0]"
            ]
          },
          "metadata": {
            "tags": []
          },
          "execution_count": 43
        }
      ]
    },
    {
      "cell_type": "code",
      "metadata": {
        "colab": {
          "base_uri": "https://localhost:8080/"
        },
        "id": "hZPhkTHED0mW",
        "outputId": "34141808-dbb0-4cb5-fc60-e1e2c1b1facc"
      },
      "source": [
        "list_ex[:6]"
      ],
      "execution_count": 44,
      "outputs": [
        {
          "output_type": "execute_result",
          "data": {
            "text/plain": [
              "[1, 2, 3, 5, 6, 8]"
            ]
          },
          "metadata": {
            "tags": []
          },
          "execution_count": 44
        }
      ]
    },
    {
      "cell_type": "markdown",
      "metadata": {
        "id": "3mqrONrlEVdF"
      },
      "source": [
        "[จุดเริ่มต้น:จุดสุดท้าย:step] "
      ]
    },
    {
      "cell_type": "code",
      "metadata": {
        "colab": {
          "base_uri": "https://localhost:8080/"
        },
        "id": "hCerGIGbEibK",
        "outputId": "6c065e99-7cc1-4015-8783-53116dd052d5"
      },
      "source": [
        "list_ex"
      ],
      "execution_count": 45,
      "outputs": [
        {
          "output_type": "execute_result",
          "data": {
            "text/plain": [
              "[1, 2, 3, 5, 6, 8, -1, 20, 50, 0]"
            ]
          },
          "metadata": {
            "tags": []
          },
          "execution_count": 45
        }
      ]
    },
    {
      "cell_type": "code",
      "metadata": {
        "colab": {
          "base_uri": "https://localhost:8080/"
        },
        "id": "5BWqPpubD3PQ",
        "outputId": "0b8a8ea5-4f33-4758-ffd9-2a7820e7756a"
      },
      "source": [
        "list_ex[::2]"
      ],
      "execution_count": 46,
      "outputs": [
        {
          "output_type": "execute_result",
          "data": {
            "text/plain": [
              "[1, 3, 6, -1, 50]"
            ]
          },
          "metadata": {
            "tags": []
          },
          "execution_count": 46
        }
      ]
    },
    {
      "cell_type": "code",
      "metadata": {
        "colab": {
          "base_uri": "https://localhost:8080/"
        },
        "id": "dQ4s-D_NEU61",
        "outputId": "54c49a76-c23a-44ec-efcd-4640fcfc4885"
      },
      "source": [
        "list_ex[::-1]   # การกลับ list จากหลังมาหน้า จากหน้ามาหลัง"
      ],
      "execution_count": 47,
      "outputs": [
        {
          "output_type": "execute_result",
          "data": {
            "text/plain": [
              "[0, 50, 20, -1, 8, 6, 5, 3, 2, 1]"
            ]
          },
          "metadata": {
            "tags": []
          },
          "execution_count": 47
        }
      ]
    },
    {
      "cell_type": "code",
      "metadata": {
        "colab": {
          "base_uri": "https://localhost:8080/",
          "height": 34
        },
        "id": "pC56sXEyE41D",
        "outputId": "c7116797-c73d-4419-e99b-8b4a5873ac26"
      },
      "source": [
        "a"
      ],
      "execution_count": 48,
      "outputs": [
        {
          "output_type": "execute_result",
          "data": {
            "application/vnd.google.colaboratory.intrinsic+json": {
              "type": "string"
            },
            "text/plain": [
              "'Stat KKU'"
            ]
          },
          "metadata": {
            "tags": []
          },
          "execution_count": 48
        }
      ]
    },
    {
      "cell_type": "code",
      "metadata": {
        "colab": {
          "base_uri": "https://localhost:8080/",
          "height": 34
        },
        "id": "iIfRpqA3FOG2",
        "outputId": "ff0ecea9-fd29-4751-a084-01edf1a6b039"
      },
      "source": [
        "a[5:]"
      ],
      "execution_count": 49,
      "outputs": [
        {
          "output_type": "execute_result",
          "data": {
            "application/vnd.google.colaboratory.intrinsic+json": {
              "type": "string"
            },
            "text/plain": [
              "'KKU'"
            ]
          },
          "metadata": {
            "tags": []
          },
          "execution_count": 49
        }
      ]
    },
    {
      "cell_type": "code",
      "metadata": {
        "colab": {
          "base_uri": "https://localhost:8080/",
          "height": 34
        },
        "id": "XMxKOX5DFThs",
        "outputId": "c3a02638-d412-4730-dcd6-a8abc68b354d"
      },
      "source": [
        "a[-3:]"
      ],
      "execution_count": 50,
      "outputs": [
        {
          "output_type": "execute_result",
          "data": {
            "application/vnd.google.colaboratory.intrinsic+json": {
              "type": "string"
            },
            "text/plain": [
              "'KKU'"
            ]
          },
          "metadata": {
            "tags": []
          },
          "execution_count": 50
        }
      ]
    },
    {
      "cell_type": "code",
      "metadata": {
        "colab": {
          "base_uri": "https://localhost:8080/",
          "height": 34
        },
        "id": "UDcU0K3ZGDsM",
        "outputId": "7814bb06-68ec-46d8-e72e-feb42320784d"
      },
      "source": [
        "\n",
        "\n",
        "a[5:8]"
      ],
      "execution_count": 51,
      "outputs": [
        {
          "output_type": "execute_result",
          "data": {
            "application/vnd.google.colaboratory.intrinsic+json": {
              "type": "string"
            },
            "text/plain": [
              "'KKU'"
            ]
          },
          "metadata": {
            "tags": []
          },
          "execution_count": 51
        }
      ]
    },
    {
      "cell_type": "code",
      "metadata": {
        "colab": {
          "base_uri": "https://localhost:8080/",
          "height": 34
        },
        "id": "FBFDFlAIGKnP",
        "outputId": "0e5621bb-7f3f-4e07-a2cd-24791031f50e"
      },
      "source": [
        "\n",
        "a[5::]"
      ],
      "execution_count": 52,
      "outputs": [
        {
          "output_type": "execute_result",
          "data": {
            "application/vnd.google.colaboratory.intrinsic+json": {
              "type": "string"
            },
            "text/plain": [
              "'KKU'"
            ]
          },
          "metadata": {
            "tags": []
          },
          "execution_count": 52
        }
      ]
    },
    {
      "cell_type": "code",
      "metadata": {
        "colab": {
          "base_uri": "https://localhost:8080/",
          "height": 34
        },
        "id": "uSo_fF56GVXF",
        "outputId": "73011ddb-75d1-4ec0-fd36-7fd76e5d8250"
      },
      "source": [
        "a[-3::]"
      ],
      "execution_count": 53,
      "outputs": [
        {
          "output_type": "execute_result",
          "data": {
            "application/vnd.google.colaboratory.intrinsic+json": {
              "type": "string"
            },
            "text/plain": [
              "'KKU'"
            ]
          },
          "metadata": {
            "tags": []
          },
          "execution_count": 53
        }
      ]
    },
    {
      "cell_type": "code",
      "metadata": {
        "colab": {
          "base_uri": "https://localhost:8080/",
          "height": 34
        },
        "id": "nWFTtFMoGix1",
        "outputId": "d0948b15-4dc8-4474-cc65-a30590c6d0e5"
      },
      "source": [
        "\n",
        "\n",
        "\n",
        "\n",
        "a[-3::1]"
      ],
      "execution_count": 54,
      "outputs": [
        {
          "output_type": "execute_result",
          "data": {
            "application/vnd.google.colaboratory.intrinsic+json": {
              "type": "string"
            },
            "text/plain": [
              "'KKU'"
            ]
          },
          "metadata": {
            "tags": []
          },
          "execution_count": 54
        }
      ]
    },
    {
      "cell_type": "markdown",
      "metadata": {
        "id": "mGMQnjyPG5To"
      },
      "source": [
        "### list + list"
      ]
    },
    {
      "cell_type": "code",
      "metadata": {
        "colab": {
          "base_uri": "https://localhost:8080/"
        },
        "id": "_O-rjuTtHG6p",
        "outputId": "7fa83fda-f5cb-4cc8-912c-2a3f224d5e81"
      },
      "source": [
        "print(list_a)\n",
        "print(list_b)"
      ],
      "execution_count": 55,
      "outputs": [
        {
          "output_type": "stream",
          "text": [
            "[1, 2, 0.2, 'abs']\n",
            "[2, 'xyz', [1, 2, 0.2, 'abs'], [1, 2, 0.0]]\n"
          ],
          "name": "stdout"
        }
      ]
    },
    {
      "cell_type": "code",
      "metadata": {
        "colab": {
          "base_uri": "https://localhost:8080/"
        },
        "id": "AZl5HAnSGtFY",
        "outputId": "e22fecda-a867-4bda-e524-6cdf9b7eb9b0"
      },
      "source": [
        "list_a + list_b"
      ],
      "execution_count": 56,
      "outputs": [
        {
          "output_type": "execute_result",
          "data": {
            "text/plain": [
              "[1, 2, 0.2, 'abs', 2, 'xyz', [1, 2, 0.2, 'abs'], [1, 2, 0.0]]"
            ]
          },
          "metadata": {
            "tags": []
          },
          "execution_count": 56
        }
      ]
    },
    {
      "cell_type": "markdown",
      "metadata": {
        "id": "UFTwtmavLbpQ"
      },
      "source": [
        "format string "
      ]
    },
    {
      "cell_type": "markdown",
      "metadata": {
        "id": "ENAfUhm0MFM3"
      },
      "source": [
        "```python\n",
        "f 'string{ตัวแปร}'\n",
        "```\n",
        "\n"
      ]
    },
    {
      "cell_type": "code",
      "metadata": {
        "colab": {
          "base_uri": "https://localhost:8080/",
          "height": 34
        },
        "id": "oKswhPdVLgEZ",
        "outputId": "db015919-16c5-47ea-980e-ad3855daa053"
      },
      "source": [
        "f'ตัวแปร list_a มีค่าคือ {list_a}'"
      ],
      "execution_count": 57,
      "outputs": [
        {
          "output_type": "execute_result",
          "data": {
            "application/vnd.google.colaboratory.intrinsic+json": {
              "type": "string"
            },
            "text/plain": [
              "\"ตัวแปร list_a มีค่าคือ [1, 2, 0.2, 'abs']\""
            ]
          },
          "metadata": {
            "tags": []
          },
          "execution_count": 57
        }
      ]
    },
    {
      "cell_type": "code",
      "metadata": {
        "colab": {
          "base_uri": "https://localhost:8080/",
          "height": 34
        },
        "id": "zsC6XPZTL3yF",
        "outputId": "86e36fc9-3a23-4609-d7c6-c3bca6834e97"
      },
      "source": [
        "f'ตัวแปร list_ex มีค่าคือ {list_ex}'"
      ],
      "execution_count": 58,
      "outputs": [
        {
          "output_type": "execute_result",
          "data": {
            "application/vnd.google.colaboratory.intrinsic+json": {
              "type": "string"
            },
            "text/plain": [
              "'ตัวแปร list_ex มีค่าคือ [1, 2, 3, 5, 6, 8, -1, 20, 50, 0]'"
            ]
          },
          "metadata": {
            "tags": []
          },
          "execution_count": 58
        }
      ]
    },
    {
      "cell_type": "markdown",
      "metadata": {
        "id": "_cXnmp5cHp97"
      },
      "source": [
        "# Loop"
      ]
    },
    {
      "cell_type": "markdown",
      "metadata": {
        "id": "9C3P4kS2B3Di"
      },
      "source": [
        "ทำงานซ้ำๆ หรือ ทำงานคล้ายๆกัน"
      ]
    },
    {
      "cell_type": "markdown",
      "metadata": {
        "id": "K7hYeRcHKkyR"
      },
      "source": [
        "\n",
        "indent\n",
        "```python\n",
        "for ตัวแปรที่จะรับค่าจาก list in list: ลิสต์ที่จะนำมาวนลูป: \n",
        "     do something  #in loop\n",
        "     do another thing   #in loop\n",
        "\n",
        "do snother things  # out side loop\n",
        "```\n",
        "\n"
      ]
    },
    {
      "cell_type": "code",
      "metadata": {
        "colab": {
          "base_uri": "https://localhost:8080/"
        },
        "id": "SQV6b_m-JzU7",
        "outputId": "f07c6e07-9061-4913-c423-5d4563a97146"
      },
      "source": [
        "for i in [1,2,3,4,5]:\n",
        "     print(i+1)"
      ],
      "execution_count": 59,
      "outputs": [
        {
          "output_type": "stream",
          "text": [
            "2\n",
            "3\n",
            "4\n",
            "5\n",
            "6\n"
          ],
          "name": "stdout"
        }
      ]
    },
    {
      "cell_type": "code",
      "metadata": {
        "colab": {
          "base_uri": "https://localhost:8080/"
        },
        "id": "hJGWZdgIMjkc",
        "outputId": "74283c63-116d-47a6-f1e7-a9fc395ec7ab"
      },
      "source": [
        "\n",
        "for x in [1,2,3,4,5]:\n",
        "     print(f'ค่าตัวแปร x คือ {x} และ x+2={x+2}')"
      ],
      "execution_count": 60,
      "outputs": [
        {
          "output_type": "stream",
          "text": [
            "ค่าตัวแปร x คือ 1 และ x+2=3\n",
            "ค่าตัวแปร x คือ 2 และ x+2=4\n",
            "ค่าตัวแปร x คือ 3 และ x+2=5\n",
            "ค่าตัวแปร x คือ 4 และ x+2=6\n",
            "ค่าตัวแปร x คือ 5 และ x+2=7\n"
          ],
          "name": "stdout"
        }
      ]
    },
    {
      "cell_type": "code",
      "metadata": {
        "colab": {
          "base_uri": "https://localhost:8080/"
        },
        "id": "ixhFCGAVNCfl",
        "outputId": "6779fecf-0524-4aad-9673-a11b1aeecab6"
      },
      "source": [
        "\n",
        "list5=[1,2,3,4,5]\n",
        "for x in list5:\n",
        "     print(f'ค่าตัวแปร x คือ {x} และ x+2={x+2}')"
      ],
      "execution_count": 61,
      "outputs": [
        {
          "output_type": "stream",
          "text": [
            "ค่าตัวแปร x คือ 1 และ x+2=3\n",
            "ค่าตัวแปร x คือ 2 และ x+2=4\n",
            "ค่าตัวแปร x คือ 3 และ x+2=5\n",
            "ค่าตัวแปร x คือ 4 และ x+2=6\n",
            "ค่าตัวแปร x คือ 5 และ x+2=7\n"
          ],
          "name": "stdout"
        }
      ]
    },
    {
      "cell_type": "code",
      "metadata": {
        "colab": {
          "base_uri": "https://localhost:8080/"
        },
        "id": "srGZBZoINOzB",
        "outputId": "c63bc3ae-629a-4bbe-e5bf-cbce8672e722"
      },
      "source": [
        "\n",
        "list(range(10))"
      ],
      "execution_count": 62,
      "outputs": [
        {
          "output_type": "execute_result",
          "data": {
            "text/plain": [
              "[0, 1, 2, 3, 4, 5, 6, 7, 8, 9]"
            ]
          },
          "metadata": {
            "tags": []
          },
          "execution_count": 62
        }
      ]
    },
    {
      "cell_type": "code",
      "metadata": {
        "colab": {
          "base_uri": "https://localhost:8080/"
        },
        "id": "ziaWWIY0Nh-0",
        "outputId": "b385265e-e06e-4afa-ebb7-3157991e7957"
      },
      "source": [
        "for i in range(2,7):\n",
        "     print(i)"
      ],
      "execution_count": 63,
      "outputs": [
        {
          "output_type": "stream",
          "text": [
            "2\n",
            "3\n",
            "4\n",
            "5\n",
            "6\n"
          ],
          "name": "stdout"
        }
      ]
    },
    {
      "cell_type": "code",
      "metadata": {
        "colab": {
          "base_uri": "https://localhost:8080/"
        },
        "id": "SyTC0cULOGb8",
        "outputId": "857975e1-36b2-43f3-d8fa-3f105eeaaf43"
      },
      "source": [
        "for i in range(2,7,2):\n",
        "     print(i)"
      ],
      "execution_count": 64,
      "outputs": [
        {
          "output_type": "stream",
          "text": [
            "2\n",
            "4\n",
            "6\n"
          ],
          "name": "stdout"
        }
      ]
    },
    {
      "cell_type": "code",
      "metadata": {
        "colab": {
          "base_uri": "https://localhost:8080/"
        },
        "id": "yJUu1-IlOeoW",
        "outputId": "c027185e-0251-4915-8690-9029c5787e02"
      },
      "source": [
        "\n",
        "for i in range(5):\n",
        "     print('hahaha')"
      ],
      "execution_count": 65,
      "outputs": [
        {
          "output_type": "stream",
          "text": [
            "hahaha\n",
            "hahaha\n",
            "hahaha\n",
            "hahaha\n",
            "hahaha\n"
          ],
          "name": "stdout"
        }
      ]
    },
    {
      "cell_type": "code",
      "metadata": {
        "colab": {
          "base_uri": "https://localhost:8080/"
        },
        "id": "yGMtuC51OtcU",
        "outputId": "028bc475-0697-4590-c209-54b0e1912c41"
      },
      "source": [
        "for i in range(5):\n",
        "     print('hahaha')\n",
        "     x = i + 3\n",
        "     print(f'i={i} x={x}')"
      ],
      "execution_count": 66,
      "outputs": [
        {
          "output_type": "stream",
          "text": [
            "hahaha\n",
            "i=0 x=3\n",
            "hahaha\n",
            "i=1 x=4\n",
            "hahaha\n",
            "i=2 x=5\n",
            "hahaha\n",
            "i=3 x=6\n",
            "hahaha\n",
            "i=4 x=7\n"
          ],
          "name": "stdout"
        }
      ]
    },
    {
      "cell_type": "markdown",
      "metadata": {
        "id": "5Wfkj44lPPeG"
      },
      "source": [
        "## Nested loop\n",
        "\n",
        "loopซ้อนloop"
      ]
    },
    {
      "cell_type": "code",
      "metadata": {
        "colab": {
          "base_uri": "https://localhost:8080/"
        },
        "id": "dHdj9gcePOTF",
        "outputId": "f08f1653-0cc2-4963-aad1-8ed9692c96e7"
      },
      "source": [
        "for i in range(3):\n",
        "     print(f' now i = {i}')\n",
        "     print('start j loop')\n",
        "     for j in range(4):\n",
        "          print(f'i={i} j={j} i+j={i+j}')\n",
        "     print('end j loop')"
      ],
      "execution_count": 67,
      "outputs": [
        {
          "output_type": "stream",
          "text": [
            " now i = 0\n",
            "start j loop\n",
            "i=0 j=0 i+j=0\n",
            "i=0 j=1 i+j=1\n",
            "i=0 j=2 i+j=2\n",
            "i=0 j=3 i+j=3\n",
            "end j loop\n",
            " now i = 1\n",
            "start j loop\n",
            "i=1 j=0 i+j=1\n",
            "i=1 j=1 i+j=2\n",
            "i=1 j=2 i+j=3\n",
            "i=1 j=3 i+j=4\n",
            "end j loop\n",
            " now i = 2\n",
            "start j loop\n",
            "i=2 j=0 i+j=2\n",
            "i=2 j=1 i+j=3\n",
            "i=2 j=2 i+j=4\n",
            "i=2 j=3 i+j=5\n",
            "end j loop\n"
          ],
          "name": "stdout"
        }
      ]
    },
    {
      "cell_type": "markdown",
      "metadata": {
        "id": "0amX_0qqHsug"
      },
      "source": [
        "## Condition (if statement)\n"
      ]
    },
    {
      "cell_type": "markdown",
      "metadata": {
        "id": "dzwjsZt2FpfW"
      },
      "source": [
        "``` python\n",
        "if เงื่อนไขที่จะตรวจสอบ (โดยใช้สัญลักษณ์ ==,!=,<,>,<=,>=):\n",
        "    ถ้าเงื่อนไขเป็นจริง ทำงาน 1\n",
        "    ถ้าเงื่อนไขเป็นจริง ทไงาน 2\n",
        "```\n",
        "\n"
      ]
    },
    {
      "cell_type": "code",
      "metadata": {
        "colab": {
          "base_uri": "https://localhost:8080/"
        },
        "id": "2_uFd9viGNCO",
        "outputId": "b79ff0f3-fd84-4009-816f-d44cb33e33f0"
      },
      "source": [
        "stringx = 'nonttanont taont916 looooooovvvvveeeeee'\n",
        "\n",
        "if len(stringx) > 30:\n",
        "    print(f'{stringx} is longer than 30 characters')"
      ],
      "execution_count": 68,
      "outputs": [
        {
          "output_type": "stream",
          "text": [
            "nonttanont taont916 looooooovvvvveeeeee is longer than 30 characters\n"
          ],
          "name": "stdout"
        }
      ]
    },
    {
      "cell_type": "code",
      "metadata": {
        "id": "rvOY_e2_HQ8L"
      },
      "source": [
        "stringx = 'nonttanont taont916 looooooovvvvveeeeee'\n",
        "\n",
        "if len(stringx) > 100:\n",
        "    print(f'{stringx} is longer than 30 characters')"
      ],
      "execution_count": 69,
      "outputs": []
    },
    {
      "cell_type": "markdown",
      "metadata": {
        "id": "yqEl-pQuHqIo"
      },
      "source": [
        "``` python\n",
        "if เงื่อนไขที่จะตรวจสอบ (โดยใช้สัญลักษณ์ ==,!=,<,>,<=,>=):\n",
        "    ถ้าเงื่อนไขเป็นจริง ทำงาน 1\n",
        "    ถ้าเงื่อนไขเป็นจริง ทไงาน 2\n",
        "else: #ตรวจสอบเงื่อนไขข้างบนแล้วไม่เป็นจริง\n",
        "      ทำงานที่ x \n",
        "```\n"
      ]
    },
    {
      "cell_type": "code",
      "metadata": {
        "colab": {
          "base_uri": "https://localhost:8080/"
        },
        "id": "p5SarDaeIEOi",
        "outputId": "aeb6bf4a-5cdc-4038-9101-061426735e38"
      },
      "source": [
        "stringx = 'nonttanont taont916 looooooovvvvveeeeee'\n",
        "\n",
        "if len(stringx) > 100:\n",
        "    print(f'{stringx} is longer than 30 characters')\n",
        "else:\n",
        "      print(f'{stringx} in {len(stringx)} characters long')    #ถ้าไม่มากกว่า100 ให้แสดงว่ามีเท่าไหร่"
      ],
      "execution_count": 70,
      "outputs": [
        {
          "output_type": "stream",
          "text": [
            "nonttanont taont916 looooooovvvvveeeeee in 39 characters long\n"
          ],
          "name": "stdout"
        }
      ]
    },
    {
      "cell_type": "markdown",
      "metadata": {
        "id": "sYAWYfg5JxJo"
      },
      "source": [
        "``` python\n",
        "if เงื่อนไขที่จะตรวจสอบ (โดยใช้สัญลักษณ์ ==,!=,<,>,<=,>=):\n",
        "    ถ้าเงื่อนไขเป็นจริง ทำงาน 1\n",
        "    ถ้าเงื่อนไขเป็นจริง ทำงาน 2\n",
        "elif  เงื่อนไขที่จะตรวจสอบต่อไปถ้าเงื่อนไขข้างบนไม่เป็นจริง:\n",
        "     ถ้าเงื่อนไขเป็นจริง ทำงานที่ a1\n",
        "     ถ้าเงื่อนไขเป็นจริง ทำงานที่ a2\n",
        "elif  เงื่อนไขที่จะตรวจสอบต่อไปถ้าเงื่อนไขข้างบนไม่เป็นจริง:\n",
        "     ถ้าเงื่อนไขเป็นจริง ทำงานที่ b1\n",
        "     ถ้าเงื่อนไขเป็นจริง ทำงานที่ b2\n",
        "else: #ตรวจสอบเงื่อนไขข้างบนแล้วไม่เป็นจริง\n",
        "      ทำงานที่ x \n",
        "```"
      ]
    },
    {
      "cell_type": "code",
      "metadata": {
        "colab": {
          "base_uri": "https://localhost:8080/"
        },
        "id": "pL9iHuOfK--W",
        "outputId": "8db88ef8-09ff-4f2e-877e-07839e0227a0"
      },
      "source": [
        "password = '12345'\n",
        "\n",
        "input_pass = '123sf'\n",
        "if input_pass == password:\n",
        "    print('Welcome!')\n",
        "elif len(input_pass) > len(password):\n",
        "    print('Too long, try again!')\n",
        "elif len(input_pass) < len(password):\n",
        "    print('Too short, try again!')\n",
        "else:\n",
        "    print('Wrong password, try again!') "
      ],
      "execution_count": 71,
      "outputs": [
        {
          "output_type": "stream",
          "text": [
            "Wrong password, try again!\n"
          ],
          "name": "stdout"
        }
      ]
    },
    {
      "cell_type": "markdown",
      "metadata": {
        "id": "SB1puNaFLI1c"
      },
      "source": [
        "Quiz 1 หา min"
      ]
    },
    {
      "cell_type": "code",
      "metadata": {
        "id": "qvs91nWEN9Lu"
      },
      "source": [
        "list_ex = [1,5,9,-19,-2,0]   #หาค่าน้อยที่สุดใน list_ex โดยไม่ใช้ function min (commit ก่อน 10.30 : Quiz1)"
      ],
      "execution_count": 72,
      "outputs": []
    },
    {
      "cell_type": "code",
      "metadata": {
        "colab": {
          "base_uri": "https://localhost:8080/"
        },
        "id": "85EpQFkNO3uh",
        "outputId": "1bfed523-74ab-41ec-c078-b94807e18bfe"
      },
      "source": [
        "list_ex[3:4:2]"
      ],
      "execution_count": 73,
      "outputs": [
        {
          "output_type": "execute_result",
          "data": {
            "text/plain": [
              "[-19]"
            ]
          },
          "metadata": {
            "tags": []
          },
          "execution_count": 73
        }
      ]
    },
    {
      "cell_type": "code",
      "metadata": {
        "colab": {
          "base_uri": "https://localhost:8080/"
        },
        "id": "dPVkxPrqSntM",
        "outputId": "8ecdc261-06ef-48e1-dc9e-2c8b7c4ced74"
      },
      "source": [
        "# เฉลย\n",
        "min = 1000000  #ตั้งค่าไว้ก่อนให้เยอะๆ\n",
        "\n",
        "for i in list_ex:   #วนเข้าไปดูตัวที่น้อยสุด\n",
        "     if i < min:\n",
        "         min = i\n",
        "print(min)"
      ],
      "execution_count": 74,
      "outputs": [
        {
          "output_type": "stream",
          "text": [
            "-19\n"
          ],
          "name": "stdout"
        }
      ]
    },
    {
      "cell_type": "code",
      "metadata": {
        "colab": {
          "base_uri": "https://localhost:8080/"
        },
        "id": "_V-fkez2UP0j",
        "outputId": "057de1b3-1199-497a-c578-743536a4ea23"
      },
      "source": [
        "min = 1000000  #ตั้งค่าไว้ก่อนให้เยอะๆ\n",
        "print(list_ex)\n",
        "for i in list_ex:   #วนเข้าไปดูตัวที่น้อยสุด\n",
        "     print(f'now i = {i}, min = {min}')\n",
        "     print('start condition')\n",
        "     if i < min:\n",
        "        print(f'i < min, update min -> {i}')\n",
        "        min = i\n",
        "     else:\n",
        "          print('not update')\n",
        "     print('end condition, go to next i')\n",
        "\n",
        "print(min)"
      ],
      "execution_count": 75,
      "outputs": [
        {
          "output_type": "stream",
          "text": [
            "[1, 5, 9, -19, -2, 0]\n",
            "now i = 1, min = 1000000\n",
            "start condition\n",
            "i < min, update min -> 1\n",
            "end condition, go to next i\n",
            "now i = 5, min = 1\n",
            "start condition\n",
            "not update\n",
            "end condition, go to next i\n",
            "now i = 9, min = 1\n",
            "start condition\n",
            "not update\n",
            "end condition, go to next i\n",
            "now i = -19, min = 1\n",
            "start condition\n",
            "i < min, update min -> -19\n",
            "end condition, go to next i\n",
            "now i = -2, min = -19\n",
            "start condition\n",
            "not update\n",
            "end condition, go to next i\n",
            "now i = 0, min = -19\n",
            "start condition\n",
            "not update\n",
            "end condition, go to next i\n",
            "-19\n"
          ],
          "name": "stdout"
        }
      ]
    },
    {
      "cell_type": "markdown",
      "metadata": {
        "id": "alljvCvZLNs9"
      },
      "source": [
        "HW 3 ตัดเกรด"
      ]
    },
    {
      "cell_type": "code",
      "metadata": {
        "id": "NFvPC6COTp4q"
      },
      "source": [
        "score = [49,65,70,95,82,55,89,20,77,77,81,59,10]   #ตัดเกรด คะแนนใน list score (ใช้ if กับ for)"
      ],
      "execution_count": 76,
      "outputs": []
    },
    {
      "cell_type": "code",
      "metadata": {
        "id": "aLDsntgcNth3",
        "colab": {
          "base_uri": "https://localhost:8080/"
        },
        "outputId": "81d2cc64-5a43-42a6-9585-4ca486f112c7"
      },
      "source": [
        "print(score)\n",
        "for i in score:\n",
        "   if  i  >= 80:\n",
        "       print(f'คะเเนน เท่ากับ {i} grade \"A\" ')\n",
        "   elif  i  >= 75:\n",
        "         print(f'คะเเนน เท่ากับ {i} grade \"B+\" ')\n",
        "   elif  i  >= 70:\n",
        "         print(f'คะเเนน เท่ากับ {i} grade \"B\" ')\n",
        "   elif  i  >= 65:\n",
        "         print(f'คะเเนน เท่ากับ {i} grade \"C+\" ')\n",
        "   elif  i  >= 60:\n",
        "         print(f'คะเเนน เท่ากับ {i} grade \"C\" ')\n",
        "   elif  i  >= 55:\n",
        "         print(f'คะเเนน เท่ากับ {i} grade \"B+\" ')\n",
        "   elif  i  >= 50:\n",
        "         print(f'คะเเนน เท่ากับ {i} grade \"B\" ') \n",
        "   else:\n",
        "         print(f'คะเเนน เท่ากับ {i} grade \"F\" ')"
      ],
      "execution_count": 77,
      "outputs": [
        {
          "output_type": "stream",
          "text": [
            "[49, 65, 70, 95, 82, 55, 89, 20, 77, 77, 81, 59, 10]\n",
            "คะเเนน เท่ากับ 49 grade \"F\" \n",
            "คะเเนน เท่ากับ 65 grade \"C+\" \n",
            "คะเเนน เท่ากับ 70 grade \"B\" \n",
            "คะเเนน เท่ากับ 95 grade \"A\" \n",
            "คะเเนน เท่ากับ 82 grade \"A\" \n",
            "คะเเนน เท่ากับ 55 grade \"B+\" \n",
            "คะเเนน เท่ากับ 89 grade \"A\" \n",
            "คะเเนน เท่ากับ 20 grade \"F\" \n",
            "คะเเนน เท่ากับ 77 grade \"B+\" \n",
            "คะเเนน เท่ากับ 77 grade \"B+\" \n",
            "คะเเนน เท่ากับ 81 grade \"A\" \n",
            "คะเเนน เท่ากับ 59 grade \"B+\" \n",
            "คะเเนน เท่ากับ 10 grade \"F\" \n"
          ],
          "name": "stdout"
        }
      ]
    },
    {
      "cell_type": "markdown",
      "metadata": {
        "id": "ETrryAwdFl88"
      },
      "source": [
        "## Function"
      ]
    },
    {
      "cell_type": "markdown",
      "metadata": {
        "id": "_Q64XdK1wvVe"
      },
      "source": [
        "```python\n",
        "def ชื่อฟังก์ชัน(input1,input2,...):\n",
        "  งานxxx\n",
        "  งานyyy\n",
        "    retrun output\n",
        "```\n"
      ]
    },
    {
      "cell_type": "markdown",
      "metadata": {
        "id": "4oLkLPriyhhH"
      },
      "source": [
        "ส่วนประกอบ"
      ]
    },
    {
      "cell_type": "code",
      "metadata": {
        "id": "xAnB7CtaymJT"
      },
      "source": [
        ""
      ],
      "execution_count": null,
      "outputs": []
    },
    {
      "cell_type": "markdown",
      "metadata": {
        "id": "U8-sLp4rynT5"
      },
      "source": [
        "##Example1"
      ]
    },
    {
      "cell_type": "code",
      "metadata": {
        "id": "iiInsq6eyvN9"
      },
      "source": [
        "def grading(score) :\n",
        "    if  score  >= 80:\n",
        "        grade = 'A'\n",
        "    elif score  >=  75:\n",
        "        grade = 'B+'\n",
        "    elif score  >=  70:\n",
        "        grade = 'B'\n",
        "    elif  score  >=  65:\n",
        "        grade = 'C+'\n",
        "    elif score  >=  60:\n",
        "        grade = 'C'\n",
        "    elif  score  >=  55:\n",
        "        grade = 'D+'\n",
        "    elif  score  >=  50:\n",
        "        grade = 'D'\n",
        "    else:\n",
        "        grade = 'F'\n",
        "\n",
        "    return grade"
      ],
      "execution_count": 97,
      "outputs": []
    },
    {
      "cell_type": "code",
      "metadata": {
        "id": "mS5Fh43t0gtn",
        "outputId": "da75c33b-329a-4dc0-995c-6b36d1b3ea88",
        "colab": {
          "base_uri": "https://localhost:8080/"
        }
      },
      "source": [
        "score = [49,65,70,95,82,55,89,20,77,77,81,59,10]\n",
        "for i in score :\n",
        "  print(f'คะแนน {i} ได้เกรด {grading(i)}')"
      ],
      "execution_count": 99,
      "outputs": [
        {
          "output_type": "stream",
          "text": [
            "คะแนน 49 ได้เกรด F\n",
            "คะแนน 65 ได้เกรด C+\n",
            "คะแนน 70 ได้เกรด B\n",
            "คะแนน 95 ได้เกรด A\n",
            "คะแนน 82 ได้เกรด A\n",
            "คะแนน 55 ได้เกรด D+\n",
            "คะแนน 89 ได้เกรด A\n",
            "คะแนน 20 ได้เกรด F\n",
            "คะแนน 77 ได้เกรด B+\n",
            "คะแนน 77 ได้เกรด B+\n",
            "คะแนน 81 ได้เกรด A\n",
            "คะแนน 59 ได้เกรด D+\n",
            "คะแนน 10 ได้เกรด F\n"
          ],
          "name": "stdout"
        }
      ]
    },
    {
      "cell_type": "code",
      "metadata": {
        "id": "RMQ-b7Na4HsE"
      },
      "source": [
        "def grading_list(list_score) :\n",
        "    grade_list =[]\n",
        "    for score in list_score:\n",
        "         if  score  >= 80:\n",
        "            grade = 'A'\n",
        "         elif score  >=  75:\n",
        "            grade = 'B+'\n",
        "         elif score  >=  70:\n",
        "             grade = 'B'\n",
        "         elif  score  >=  65:\n",
        "             grade = 'C+'\n",
        "         elif score  >=  60:\n",
        "             grade = 'C'\n",
        "         elif  score  >=  55:\n",
        "              grade = 'D+'\n",
        "         elif  score  >=  50:\n",
        "             grade = 'D'\n",
        "         else:\n",
        "              grade = 'F'\n",
        "    grade_list.append([score,grade])\n",
        "    return grade_list"
      ],
      "execution_count": 105,
      "outputs": []
    },
    {
      "cell_type": "code",
      "metadata": {
        "id": "pai_rtWG5ktj",
        "outputId": "c429c4b8-196a-4cb9-c74b-221b8bf34432",
        "colab": {
          "base_uri": "https://localhost:8080/"
        }
      },
      "source": [
        "g = grading_list(score)\n",
        "g"
      ],
      "execution_count": 106,
      "outputs": [
        {
          "output_type": "execute_result",
          "data": {
            "text/plain": [
              "[[10, 'F']]"
            ]
          },
          "metadata": {
            "tags": []
          },
          "execution_count": 106
        }
      ]
    },
    {
      "cell_type": "code",
      "metadata": {
        "id": "ofemXd__5xy9"
      },
      "source": [
        "######"
      ],
      "execution_count": null,
      "outputs": []
    },
    {
      "cell_type": "code",
      "metadata": {
        "id": "IRtMfOgd68iT"
      },
      "source": [
        "def grading2(score) :\n",
        "    if  score  >= 80:\n",
        "        return  'A'\n",
        "    elif score  >=  75:\n",
        "        return  'B+'\n",
        "    elif score  >=  70:\n",
        "        return  'B'\n",
        "    elif  score  >=  65:\n",
        "        return  'C+'\n",
        "    elif score  >=  60:\n",
        "        return  'C'\n",
        "    elif  score  >=  55:\n",
        "        return  'D+'\n",
        "    elif  score  >=  50:\n",
        "        return  'D'\n",
        "    else:\n",
        "        return  'F'\n",
        "\n"
      ],
      "execution_count": 113,
      "outputs": []
    },
    {
      "cell_type": "code",
      "metadata": {
        "id": "xHEGEIZW7MXt",
        "outputId": "8cc51766-1fe4-4aae-ff0b-69705cd0ec2f",
        "colab": {
          "base_uri": "https://localhost:8080/"
        }
      },
      "source": [
        "score = [49,65,70,95,82,55,89,20,77,77,81,59,10]\n",
        "for i in score :\n",
        "  print(f'คะแนน {i} ได้เกรด {grading2(i)}')"
      ],
      "execution_count": 114,
      "outputs": [
        {
          "output_type": "stream",
          "text": [
            "คะแนน 49 ได้เกรด F\n",
            "คะแนน 65 ได้เกรด C+\n",
            "คะแนน 70 ได้เกรด B\n",
            "คะแนน 95 ได้เกรด A\n",
            "คะแนน 82 ได้เกรด A\n",
            "คะแนน 55 ได้เกรด D+\n",
            "คะแนน 89 ได้เกรด A\n",
            "คะแนน 20 ได้เกรด F\n",
            "คะแนน 77 ได้เกรด B+\n",
            "คะแนน 77 ได้เกรด B+\n",
            "คะแนน 81 ได้เกรด A\n",
            "คะแนน 59 ได้เกรด D+\n",
            "คะแนน 10 ได้เกรด F\n"
          ],
          "name": "stdout"
        }
      ]
    },
    {
      "cell_type": "code",
      "metadata": {
        "id": "kV5Izpug84yc"
      },
      "source": [
        ""
      ],
      "execution_count": null,
      "outputs": []
    },
    {
      "cell_type": "markdown",
      "metadata": {
        "id": "EpqtofF586PM"
      },
      "source": [
        "Example 2 ไม่มี input"
      ]
    },
    {
      "cell_type": "code",
      "metadata": {
        "id": "oY0qbCt08_9n"
      },
      "source": [
        "def mypi():\n",
        "        return 3.14"
      ],
      "execution_count": 115,
      "outputs": []
    },
    {
      "cell_type": "code",
      "metadata": {
        "id": "QxUxU4Tb9F1m"
      },
      "source": [
        "r = 10 \n",
        "print(f'รัศมี{r} จะมีเส้นรอบวง = {2*mypi()*r}')"
      ],
      "execution_count": null,
      "outputs": []
    },
    {
      "cell_type": "markdown",
      "metadata": {
        "id": "cagNrgrO9kNr"
      },
      "source": [
        "Example 3 ไม่มี output"
      ]
    },
    {
      "cell_type": "code",
      "metadata": {
        "id": "OEKdEemu90Ur"
      },
      "source": [
        "def grading_nooutput(score) :\n",
        "    if  i  >= 80:\n",
        "        print('ได้เกรด A')\n",
        "    elif i  >=  75:\n",
        "        print('ได้เกรด B+')\n",
        "    elif i  >=  70:\n",
        "        print('ได้เกรด B')\n",
        "    elif  i  >=  65:\n",
        "        print('ได้เกรด C+')\n",
        "    elif i  >=  60:\n",
        "        print('ได้เกรด C')\n",
        "    elif  i  >=  55:\n",
        "        print('ได้เกรด D+')\n",
        "    elif  i  >=  50:\n",
        "        print('ได้เกรด D')'\n",
        "    else:\n",
        "        print('ได้เกรด F')\n"
      ],
      "execution_count": null,
      "outputs": []
    },
    {
      "cell_type": "code",
      "metadata": {
        "id": "5kYxz8OX-9W5"
      },
      "source": [
        "score = [49,65,70,95,82,55,89,20,77,77,81,59,10]\n",
        "for i in score :\n",
        "print(f' คะแนน {i}', end='  ' )\n",
        "grading_nooutput(i)"
      ],
      "execution_count": null,
      "outputs": []
    },
    {
      "cell_type": "markdown",
      "metadata": {
        "id": "ys9HAE3U_er0"
      },
      "source": [
        "Example 3(ไม่มี input และ out put)"
      ]
    },
    {
      "cell_type": "code",
      "metadata": {
        "id": "_Rsm0QMx_lhP"
      },
      "source": [
        "def draw_rect() :\n",
        "        print('==========')\n",
        "        print('|                     |')\n",
        "        print('|                     |')\n",
        "        print('==========')"
      ],
      "execution_count": null,
      "outputs": []
    },
    {
      "cell_type": "code",
      "metadata": {
        "id": "CCIaWzvdAyXI"
      },
      "source": [
        "draw_rect()\n",
        "draw_rect()\n"
      ],
      "execution_count": null,
      "outputs": []
    },
    {
      "cell_type": "markdown",
      "metadata": {
        "id": "kXza_3FkBJB7"
      },
      "source": [
        "##ลักษณะของ input(parameter)\n",
        "*จำเป็นต้องใส่\\\n",
        "*ไม่จำเป็นต้องใส่"
      ]
    },
    {
      "cell_type": "code",
      "metadata": {
        "id": "YAzuWeDuBc4N"
      },
      "source": [
        "def A(input1, input2 = 3):\n",
        "        return input+input2"
      ],
      "execution_count": null,
      "outputs": []
    },
    {
      "cell_type": "code",
      "metadata": {
        "id": "8pNkwTUrB0Nt"
      },
      "source": [
        "A(1)"
      ],
      "execution_count": null,
      "outputs": []
    },
    {
      "cell_type": "code",
      "metadata": {
        "id": "20EKlehuB2pm"
      },
      "source": [
        "A(1,6)"
      ],
      "execution_count": null,
      "outputs": []
    },
    {
      "cell_type": "code",
      "metadata": {
        "id": "CcBgGfykB6js"
      },
      "source": [
        "A()"
      ],
      "execution_count": null,
      "outputs": []
    },
    {
      "cell_type": "code",
      "metadata": {
        "id": "JDPGNpWmB8m9"
      },
      "source": [
        ""
      ],
      "execution_count": null,
      "outputs": []
    },
    {
      "cell_type": "code",
      "metadata": {
        "id": "edBhJBwlB8sr"
      },
      "source": [
        ""
      ],
      "execution_count": null,
      "outputs": []
    }
  ]
}